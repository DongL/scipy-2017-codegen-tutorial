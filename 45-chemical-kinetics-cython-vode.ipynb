{
 "cells": [
  {
   "cell_type": "markdown",
   "metadata": {
    "deletable": true,
    "editable": true
   },
   "source": [
    "In this notebook we will use the same Cython code as in the last notebook. However, this time we will use the `Vode` integrator from `ODEPACK` (available in SciPy in `scipy.integrate.ode`). The reason for this is that it will be a fairer comparison against our upcoming example using `CVode`."
   ]
  },
  {
   "cell_type": "code",
   "execution_count": null,
   "metadata": {
    "collapsed": false,
    "deletable": true,
    "editable": true
   },
   "outputs": [],
   "source": [
    "import json\n",
    "import numpy as np\n",
    "from odesys import ODEsys\n",
    "from chem import odesys_from_reactions_names_and_params"
   ]
  },
  {
   "cell_type": "markdown",
   "metadata": {},
   "source": [
    "Subclassing `ODEsys` and providing a new method using `scipy.integrate.ode`:"
   ]
  },
  {
   "cell_type": "code",
   "execution_count": null,
   "metadata": {
    "collapsed": false
   },
   "outputs": [],
   "source": [
    "# %load odesys_vode.py\n",
    "from odesys import ODEsys\n",
    "\n",
    "from scipy.integrate import ode\n",
    "from odesys import ODEsys\n",
    "\n",
    "class VODEsys(ODEsys):\n",
    "    def integrate_vode(self, tout, y0, params=(), method='bdf', **kwargs):\n",
    "        r = ode(self.f_eval, jac=self.j_eval)\n",
    "        r.set_integrator('vode', method=method, **kwargs)\n",
    "        if params:\n",
    "            r.set_f_params(params)\n",
    "            r.set_jac_params(params)\n",
    "        r.set_initial_value(y0, tout[0])\n",
    "        yout = np.zeros((len(tout), len(y0)))\n",
    "        yout[0, :] = y0\n",
    "        for idx in range(1, len(tout)):\n",
    "            r.integrate(tout[idx])\n",
    "            assert r.successful(), \"Integration failed\"\n",
    "            yout[idx, :] = r.y\n",
    "        return yout, {\n",
    "            'num_steps': r.iwork[10], 'num_rhs': r.iwork[11], 'num_jac': r.iwork[12],\n",
    "            'num_lu_factor': r.iwork[18], 'num_nonlin_solv_iters': r.iwork[19],\n",
    "            'num_nonlin_solv_conv_failures': r.iwork[20], 'num_err_test_fails': r.iwork[21]\n",
    "        }\n"
   ]
  },
  {
   "cell_type": "markdown",
   "metadata": {},
   "source": [
    "Creating a new mixin class:"
   ]
  },
  {
   "cell_type": "code",
   "execution_count": null,
   "metadata": {
    "collapsed": false
   },
   "outputs": [],
   "source": [
    "from cython_ode import CythonODEsys\n",
    "\n",
    "class CythonVODEsys(VODEsys, CythonODEsys):\n",
    "    pass"
   ]
  },
  {
   "cell_type": "markdown",
   "metadata": {
    "deletable": true,
    "editable": true
   },
   "source": [
    "Same procuedure as in the last notebook:"
   ]
  },
  {
   "cell_type": "code",
   "execution_count": null,
   "metadata": {
    "collapsed": false,
    "deletable": true,
    "editable": true
   },
   "outputs": [],
   "source": [
    "watrad_data = json.load(open('radiolysis_300_Gy_s.json'))\n",
    "watrad = odesys_from_reactions_names_and_params(ODEsys, **watrad_data)\n",
    "tout = np.logspace(-6, 3, 200)  # close to one hour of operation\n",
    "c0 = {'H2O': 55.4e3, 'H+': 1e-4, 'OH-': 1e-4}\n",
    "y0 = [c0.get(symb.name, 0) for symb in watrad.y]"
   ]
  },
  {
   "cell_type": "code",
   "execution_count": null,
   "metadata": {
    "collapsed": false,
    "deletable": true,
    "editable": true
   },
   "outputs": [],
   "source": [
    "cython_sys = odesys_from_reactions_names_and_params(CythonVODEsys, **watrad_data)"
   ]
  },
  {
   "cell_type": "code",
   "execution_count": null,
   "metadata": {
    "collapsed": false,
    "deletable": true,
    "editable": true
   },
   "outputs": [],
   "source": [
    "%timeit cython_sys.integrate_vode(tout, y0)"
   ]
  },
  {
   "cell_type": "code",
   "execution_count": null,
   "metadata": {
    "collapsed": false
   },
   "outputs": [],
   "source": [
    "%debug"
   ]
  },
  {
   "cell_type": "markdown",
   "metadata": {
    "deletable": true,
    "editable": true
   },
   "source": [
    "That is a considerable speed up from before. But the solver still has to\n",
    "allocate memory for creating new arrays at each call, and each evaluation\n",
    "has to pass the python layer which is now the bottleneck for the integration.\n",
    "\n",
    "In order to speed up integration further we need to make sure the solver can evaluate the function and jacobian without calling into Python."
   ]
  },
  {
   "cell_type": "code",
   "execution_count": null,
   "metadata": {
    "collapsed": false,
    "deletable": true,
    "editable": true
   },
   "outputs": [],
   "source": [
    "import matplotlib.pyplot as plt\n",
    "%matplotlib inline"
   ]
  },
  {
   "cell_type": "markdown",
   "metadata": {
    "deletable": true,
    "editable": true
   },
   "source": [
    "Just to see that everything looks alright:"
   ]
  },
  {
   "cell_type": "code",
   "execution_count": null,
   "metadata": {
    "collapsed": false,
    "deletable": true,
    "editable": true
   },
   "outputs": [],
   "source": [
    "fig, ax = plt.subplots(1, 1, figsize=(14, 6))\n",
    "cython_sys.plot_result(tout, *cython_sys.integrate_odeint(tout, y0), ax=ax)\n",
    "ax.set_xscale('log')\n",
    "ax.set_yscale('log')"
   ]
  },
  {
   "cell_type": "code",
   "execution_count": null,
   "metadata": {
    "collapsed": true,
    "deletable": true,
    "editable": true
   },
   "outputs": [],
   "source": []
  }
 ],
 "metadata": {
  "kernelspec": {
   "display_name": "Python 3",
   "language": "python",
   "name": "python3"
  },
  "language_info": {
   "codemirror_mode": {
    "name": "ipython",
    "version": 3
   },
   "file_extension": ".py",
   "mimetype": "text/x-python",
   "name": "python",
   "nbconvert_exporter": "python",
   "pygments_lexer": "ipython3",
   "version": "3.5.2"
  }
 },
 "nbformat": 4,
 "nbformat_minor": 2
}
