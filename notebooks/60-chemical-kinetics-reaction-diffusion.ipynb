{
 "cells": [
  {
   "cell_type": "markdown",
   "metadata": {},
   "source": [
    "In this notebook we will add diffusion in addition to reactions. We will first study the simplest possible chemical reaction set:\n",
    "\n",
    "$$\n",
    "A \\overset{k}{\\rightarrow} B\n",
    "$$\n",
    "\n",
    "we will consider a flat geometry where we assume the concentration is constant in all directions except one (giving us a one dimensional system with respect to space). Following the serialization format we introduced earlier:"
   ]
  },
  {
   "cell_type": "code",
   "execution_count": 1,
   "metadata": {},
   "outputs": [],
   "source": [
    "reactions = [\n",
    "    ('k', {'A': 1}, {'B': 1, 'A': -1}),\n",
    "]\n",
    "names, params = 'A B'.split(), ['k']"
   ]
  },
  {
   "cell_type": "markdown",
   "metadata": {},
   "source": [
    "The diffusion follows [Fick's law of diffusion](https://en.wikipedia.org/wiki/Fick%27s_laws_of_diffusion):\n",
    "\n",
    "$$\n",
    "\\frac{\\partial c_i}{\\partial t} = D \\frac{\\partial^2 c_i}{\\partial x}\n",
    "$$\n",
    "\n",
    "where $t$ is time, $c_i$ is the local concentration of species $i$, $x$ is the spatial variable and $D$ the diffusion constant. Note that a pure diffusion process is identical to the perhaps more well known [heat equation](https://en.wikipedia.org/wiki/Heat_equation). We will, however, also consider contributions ($r_i$) from chemical reactions:\n",
    "\n",
    "$$\n",
    "\\frac{\\partial c_i}{\\partial t} = D \\frac{\\partial^2 c_i}{\\partial x} + r_i\n",
    "$$\n",
    "\n",
    "We will set the diffusion constant ($m^2/s$ in SI units) equal for our two species in this example: "
   ]
  },
  {
   "cell_type": "code",
   "execution_count": 2,
   "metadata": {},
   "outputs": [],
   "source": [
    "D = [8e-9, 8e-9]  # He diffusion constant in water at room temperature"
   ]
  },
  {
   "cell_type": "markdown",
   "metadata": {},
   "source": [
    "We will solve the [partial differential equation](https://en.wikipedia.org/wiki/Partial_differential_equation) (PDE) using [method of lines](https://en.wikipedia.org/wiki/Method_of_lines). We discretize space into a series of bins (lines), in each of these bins we calculate the contribution of chemical reactions to the rate of change, and then add the diffusion contribution based on a [finite difference](https://en.wikipedia.org/wiki/Finite_difference#Higher-order_differences) estimate of the second derivative.\n",
    "\n",
    "SymPy contains an algorithm to calculate finite difference weights:"
   ]
  },
  {
   "cell_type": "code",
   "execution_count": 3,
   "metadata": {},
   "outputs": [
    {
     "data": {
      "text/plain": [
       "(-2*f(x) + f(-h + x) + f(h + x))/h**2"
      ]
     },
     "execution_count": 3,
     "metadata": {},
     "output_type": "execute_result"
    }
   ],
   "source": [
    "import sympy as sym\n",
    "x, h = sym.symbols('x h')\n",
    "d2fdx2 = sym.Function('f')(x).diff(x, 2)\n",
    "d2fdx2.as_finite_difference([x-h, x, x+h], x).factor()"
   ]
  },
  {
   "cell_type": "markdown",
   "metadata": {},
   "source": [
    "In this case, we are dealing with an equidistant grid and you may very well recognize this result from standard text books (it is actually quite easy to derive from the definition of the derivative).\n",
    "\n",
    "The number of dependent variables in our ODE system is then the number of species multiplied by the number of bins. There is no need to create that many symbols, instead we rely on writing an outer loop calculating the local reactions rates. We create a new subclass of our ``ODEsys`` class from earlier to do this:"
   ]
  },
  {
   "cell_type": "code",
   "execution_count": 4,
   "metadata": {},
   "outputs": [],
   "source": [
    "# %load ../scipy2017codegen/odesys_diffusion.py\n",
    "from itertools import chain\n",
    "import numpy as np\n",
    "import matplotlib.pyplot as plt\n",
    "from scipy2017codegen.odesys import ODEsys\n",
    "\n",
    "\n",
    "class MOLsys(ODEsys):\n",
    "    \"\"\" System of ODEs based on method of lines on the interval x = [0, x_end] \"\"\"\n",
    "\n",
    "    def __init__(self, *args, **kwargs):\n",
    "        self.x_end = kwargs.pop('x_end')\n",
    "        self.n_lines = kwargs.pop('n_lines')\n",
    "        self.D = kwargs.pop('D')\n",
    "        self.dx = self.x_end / self.n_lines\n",
    "        super(MOLsys, self).__init__(*args, **kwargs)\n",
    "\n",
    "    def f_eval(self, y, t, *params):\n",
    "        f_out = np.empty(self.ny*self.n_lines)\n",
    "        for i in range(self.n_lines):\n",
    "            slc = slice(i*self.ny, (i+1)*self.ny)\n",
    "            y_bis = self.second_derivatives_spatial(i, y, f_out[slc])\n",
    "            f_out[slc] *= self.D\n",
    "            f_out[slc] += self.lambdified_f(*chain(y[slc], params))\n",
    "        return f_out\n",
    "\n",
    "    def central_reference_bin(self, i):\n",
    "        return np.clip(i, 1, self.ny - 2)\n",
    "\n",
    "    def j_eval(self, y, t, *params):\n",
    "        j_out = np.zeros((self.ny*self.n_lines, self.ny*self.n_lines))  # dense matrix\n",
    "        for i in range(self.n_lines):\n",
    "            slc = slice(i*self.ny, (i+1)*self.ny)\n",
    "            j_out[slc, slc] = self.lambdified_j(*chain(y[slc], params))\n",
    "            k = self.central_reference_bin(i)\n",
    "            for j in range(self.ny):\n",
    "                j_out[i*self.ny + j, (k-1)*self.ny + j] +=    self.D[j]/self.dx**2\n",
    "                j_out[i*self.ny + j, (k  )*self.ny + j] += -2*self.D[j]/self.dx**2\n",
    "                j_out[i*self.ny + j, (k+1)*self.ny + j] +=    self.D[j]/self.dx**2\n",
    "        return j_out\n",
    "\n",
    "    def second_derivatives_spatial(self, i, y, out):\n",
    "        k = self.central_reference_bin(i)\n",
    "        for j in range(self.ny):\n",
    "            left = y[(k-1)*self.ny + j]\n",
    "            cent = y[(k  )*self.ny + j]\n",
    "            rght = y[(k+1)*self.ny + j]\n",
    "            out[j] = (left - 2*cent + rght)/self.dx**2\n",
    "\n",
    "    def integrate(self, tout, y0, params=(), **kwargs):\n",
    "        y0 = np.array(np.vstack(y0).T.flat)\n",
    "        yout, info = super(MOLsys, self).integrate(tout, y0, params, **kwargs)\n",
    "        return yout.reshape((tout.size, self.n_lines, self.ny)).transpose((0, 2, 1)), info\n",
    "\n",
    "    def x_centers(self):\n",
    "        return np.linspace(self.dx/2, self.x_end - self.dx/2, self.n_lines)\n",
    "\n",
    "    def plot_result(self, tout, yout, info=None, ax=None):\n",
    "        ax = ax or plt.subplot(1, 1, 1)\n",
    "        x_lines = self.x_centers()\n",
    "        for i, t in enumerate(tout):\n",
    "            for j in range(self.ny):\n",
    "                c = [0.0, 0.0, 0.0]\n",
    "                c[j] = t/tout[-1]\n",
    "                plt.plot(x_lines, yout[i, j, :], color=c)\n",
    "        self.print_info(info)\n"
   ]
  },
  {
   "cell_type": "code",
   "execution_count": 5,
   "metadata": {},
   "outputs": [],
   "source": [
    "from scipy2017codegen.chem import mk_rsys\n",
    "molsys = mk_rsys(MOLsys, reactions, names, params, x_end=0.01, n_lines=50, D=D)\n",
    "xc = molsys.x_centers()\n",
    "xm = molsys.x_end/2\n",
    "A0 = np.exp(-1e6*(xc-xm)**2)\n",
    "B0 = np.zeros_like(A0)"
   ]
  },
  {
   "cell_type": "code",
   "execution_count": 6,
   "metadata": {},
   "outputs": [
    {
     "data": {
      "text/plain": [
       "(40, 2, 50)"
      ]
     },
     "execution_count": 6,
     "metadata": {},
     "output_type": "execute_result"
    }
   ],
   "source": [
    "tout = np.linspace(0, 30, 40)\n",
    "yout, info = molsys.integrate(tout, [A0, B0], [0.00123])\n",
    "yout.shape"
   ]
  },
  {
   "cell_type": "code",
   "execution_count": 7,
   "metadata": {},
   "outputs": [
    {
     "name": "stdout",
     "output_type": "stream",
     "text": [
      "The rhs was evaluated 123 times and the jacobian 0 times\n"
     ]
    },
    {
     "data": {
      "image/png": "[encoded data removed]",
      "text/plain": [
       "<matplotlib.figure.Figure at 0x7fbbac895828>"
      ]
     },
     "metadata": {},
     "output_type": "display_data"
    }
   ],
   "source": [
    "%matplotlib inline\n",
    "molsys.plot_result(tout[::10], yout[::10, ...], info)"
   ]
  }
 ],
 "metadata": {
  "kernelspec": {
   "display_name": "Python 3",
   "language": "python",
   "name": "python3"
  },
  "language_info": {
   "codemirror_mode": {
    "name": "ipython",
    "version": 3
   },
   "file_extension": ".py",
   "mimetype": "text/x-python",
   "name": "python",
   "nbconvert_exporter": "python",
   "pygments_lexer": "ipython3",
   "version": "3.6.1"
  }
 },
 "nbformat": 4,
 "nbformat_minor": 2
}
