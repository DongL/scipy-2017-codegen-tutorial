{
 "cells": [
  {
   "cell_type": "markdown",
   "metadata": {},
   "source": [
    "- [intro slides]()\n",
    "- [intro-sympy.ipynb](intro-sympy.ipynb)\n",
    "- [code-printers.ipynb](code-printers.ipynb)\n",
    "- [25-chemical-kinetics-intro.ipynb](25-chemical-kinetics-intro.ipynb)\n",
    "- [30-chemical-kinetics-lambdify.ipynb](30-chemical-kinetics-lambdify.ipynb)\n",
    "- [35-chemical-kinetics-lambdify-deserialize.ipynb](35-chemical-kinetics-lambdify-deserialize.ipynb)\n",
    "- [40-chemical-kinetics-cython.ipynb](40-chemical-kinetics-cython.ipynb)\n",
    "- [45-chemical-kinetics-cython-vode.ipynb](45-chemical-kinetics-cython-vode.ipynb)\n",
    "- [50-chemical-kinetics-C.ipynb](50-chemical-kinetics-C.ipynb)\n",
    "- [60-chemical-kinetics-reaction-diffusion.ipynb](60-chemical-kinetics-reaction-diffusion.ipynb)"
   ]
  }
 ],
 "metadata": {
  "kernelspec": {
   "display_name": "Python 3",
   "language": "python",
   "name": "python3"
  },
  "language_info": {
   "codemirror_mode": {
    "name": "ipython",
    "version": 3
   },
   "file_extension": ".py",
   "mimetype": "text/x-python",
   "name": "python",
   "nbconvert_exporter": "python",
   "pygments_lexer": "ipython3",
   "version": "3.6.1"
  }
 },
 "nbformat": 4,
 "nbformat_minor": 2
}
