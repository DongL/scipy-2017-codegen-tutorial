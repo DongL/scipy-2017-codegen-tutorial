{
 "cells": [
  {
   "cell_type": "markdown",
   "metadata": {},
   "source": [
    "# The Harder Way: Code generation and compilation [1 hour]\n",
    "\n",
    "One of the most common low level programming languages is C. Compiled C code can be optimized for execution speed for many different computers.Python is written in C as well as many of the vectorized operations in NumPy and numerical algorithms in SciPy. It is often necessary to translate a complex mathematical expression into C for optimal exceution speeds and memory management. In this notebook you will learn how to automatically translate a complex SymPy expression into C, compile the code, and run the program.\n",
    "\n",
    "We will continue examining the complex chemical kinetic reaction ordinary differential equation introduced in the previous lesson.\n",
    "\n",
    "## Learning Objectives\n",
    "\n",
    "After this lesson you will be able to:\n",
    "\n",
    "- use import and use a code printer class to convert a SymPy expression to compilable C code\n",
    "- use an array compatible assignment to print valid C array code\n",
    "- subclass the printer class and modify it to provide custom behavior\n",
    "- utilize common sub expression elimination to simplify and speed up the code execution\n",
    "- compile a C program and execute it (may not get to this)"
   ]
  },
  {
   "cell_type": "code",
   "execution_count": null,
   "metadata": {},
   "outputs": [],
   "source": [
    "import sympy as sp"
   ]
  },
  {
   "cell_type": "markdown",
   "metadata": {},
   "source": [
    "Enable mathematical printing in the Jupyter notebook."
   ]
  },
  {
   "cell_type": "code",
   "execution_count": null,
   "metadata": {
    "collapsed": true
   },
   "outputs": [],
   "source": [
    "sp.init_printing()"
   ]
  },
  {
   "cell_type": "markdown",
   "metadata": {},
   "source": [
    "# Ordinary Differential Equations\n",
    "\n",
    "The right hand side of the ordinary differential equations that describe a chemical kinetic reaction are loaded below. These expressions describe this mathematical equation:\n",
    "\n",
    "$$\\frac{dy}{dt} = f(y)$$\n",
    "\n",
    "where the state vector $y$ is made up of 14 states, i.e. $y \\in \\mathbb{R}^{14}$.\n",
    "\n",
    "Below the variable `rhs_of_odes` represents $f(y)$ and `states` represents $y$."
   ]
  },
  {
   "cell_type": "code",
   "execution_count": null,
   "metadata": {
    "collapsed": true
   },
   "outputs": [],
   "source": [
    "from scipy2017codegen.chem import load_large_ode"
   ]
  },
  {
   "cell_type": "code",
   "execution_count": null,
   "metadata": {},
   "outputs": [],
   "source": [
    "rhs_of_odes, states = load_large_ode()"
   ]
  },
  {
   "cell_type": "markdown",
   "metadata": {},
   "source": [
    "## Exercise\n",
    "\n",
    "Display the expressions, inspect them, and find out their types and dimensions. What are some of the characetistics of the equations?"
   ]
  },
  {
   "cell_type": "code",
   "execution_count": null,
   "metadata": {},
   "outputs": [],
   "source": [
    "rhs_of_odes"
   ]
  },
  {
   "cell_type": "code",
   "execution_count": null,
   "metadata": {},
   "outputs": [],
   "source": [
    "states"
   ]
  },
  {
   "cell_type": "code",
   "execution_count": null,
   "metadata": {},
   "outputs": [],
   "source": [
    "type(rhs_of_odes)"
   ]
  },
  {
   "cell_type": "code",
   "execution_count": null,
   "metadata": {},
   "outputs": [],
   "source": [
    "rhs_of_odes.shape"
   ]
  },
  {
   "cell_type": "code",
   "execution_count": null,
   "metadata": {},
   "outputs": [],
   "source": [
    "type(states)"
   ]
  },
  {
   "cell_type": "code",
   "execution_count": null,
   "metadata": {},
   "outputs": [],
   "source": [
    "states.shape"
   ]
  },
  {
   "cell_type": "markdown",
   "metadata": {},
   "source": [
    "The equations are nonlinear equations of the states. There are 14 equations and 14 states. The coefficients in the equations are various floating point numbers."
   ]
  },
  {
   "cell_type": "markdown",
   "metadata": {},
   "source": [
    "# Compute the Jacobian\n",
    "\n",
    "As has been shown in the previous lesson the Jacobian of the right hand side of the differential equations is often very useful for computations, such as integration and optimization. With:\n",
    "\n",
    "$$\\frac{dy}{dt} = f(y)$$\n",
    "\n",
    "the Jacobian is defined as:\n",
    "\n",
    "$$J(y) = \\frac{df(y)}{dy}$$\n",
    "\n",
    "SymPy can easily compute the Jacobian of matrix objects with the `.jacobian` method.\n",
    "\n",
    "## Exercise\n",
    "\n",
    "Compute the Jacobian and store the result in the variable `jac_of_odes`. Inspect the resulting Jacobian for dimensionality, type, and the symbolic form."
   ]
  },
  {
   "cell_type": "code",
   "execution_count": null,
   "metadata": {},
   "outputs": [],
   "source": [
    "jac_of_odes = rhs_of_odes.jacobian(states)"
   ]
  },
  {
   "cell_type": "code",
   "execution_count": null,
   "metadata": {},
   "outputs": [],
   "source": [
    "type(jac_of_odes)"
   ]
  },
  {
   "cell_type": "code",
   "execution_count": null,
   "metadata": {},
   "outputs": [],
   "source": [
    "jac_of_odes.shape"
   ]
  },
  {
   "cell_type": "code",
   "execution_count": null,
   "metadata": {},
   "outputs": [],
   "source": [
    "jac_of_odes"
   ]
  },
  {
   "cell_type": "markdown",
   "metadata": {},
   "source": [
    "# C Code Printing\n",
    "\n",
    "The expressions are large and will have to be excuted many thousands of times to compute the desired numerical values, so we want them to execute as fast as possible. Now that we have some mathematical expressions avaible it is time to print these as C code.\n",
    "\n",
    "We will design a single C function that evaluates both $f(y)$ and $J(y)$ simultaneously given the values of the states $y$. Below is a basic template for a C program that can includes such a function. Our job is to populate the function with the SymPy expressions represented a C code.\n",
    "\n",
    "```C\n",
    "#include <math.h>\n",
    "#include <stdio.h>\n",
    "\n",
    "void evaluate_odes(const float state_vals[14], float rhs_result[14], float jac_result[196])\n",
    "{\n",
    "      // We need to fill in the code here in this function using SymPy.\n",
    "}\n",
    "\n",
    "int main() {\n",
    "\n",
    "    float state_vals[14] = {1, 2, 3, 4, 5, 6, 7, 8, 9, 10, 11, 12, 13, 14};\n",
    "    float rhs_result[14];\n",
    "    float jac_result[196];\n",
    "    \n",
    "    evaluate_odes(state_vals, rhs_result, jac_result);\n",
    "    \n",
    "    int i;\n",
    "\n",
    "    printf(\"The right hand side of the equations evaluates to:\\n\");\n",
    "    for (i=0; i < (sizeof (rhs_result) / sizeof (rhs_result[0])); i++) {\n",
    "        printf(\"%lf\\n\", rhs_result[i]);\n",
    "    }\n",
    "\n",
    "    printf(\"The Jacobian evaluates to:\\n\");\n",
    "    for (i=0; i < (sizeof (jac_result) / sizeof (jac_result[0])); i++) {\n",
    "        printf(\"%lf\\n\", jac_result[i]);\n",
    "    }\n",
    "\n",
    "    return 0;\n",
    "}\n",
    "\n",
    "\n",
    "\n",
    "```\n",
    "\n",
    "Instead of using the `ccode` convenience function let's use the underlying code printer class to do the printing. Further down we will modify the class to for custom printing."
   ]
  },
  {
   "cell_type": "code",
   "execution_count": null,
   "metadata": {
    "collapsed": true
   },
   "outputs": [],
   "source": [
    "from sympy.printing.ccode import CCodePrinter"
   ]
  },
  {
   "cell_type": "markdown",
   "metadata": {},
   "source": [
    "All printing classes have to be instantiated and then the `.doprint()` method can be used to print SymPy expressions. Let's try to print the right hand side of the differential equations."
   ]
  },
  {
   "cell_type": "code",
   "execution_count": null,
   "metadata": {
    "collapsed": true
   },
   "outputs": [],
   "source": [
    "printer = CCodePrinter()"
   ]
  },
  {
   "cell_type": "code",
   "execution_count": null,
   "metadata": {},
   "outputs": [],
   "source": [
    "print(printer.doprint(rhs_of_odes))"
   ]
  },
  {
   "cell_type": "markdown",
   "metadata": {},
   "source": [
    "In this case the C code printer does not do what we desire. It does not support printing a SymPy Matrix. In C, a matrix can be represented by an array type. The array type in C stores contigous values, e.g. floats, in a chunk of memory. You can declare an array of floats in C like:\n",
    "\n",
    "```C\n",
    "float my_array[10];\n",
    "```\n",
    "\n",
    "The word `float` is the data type of the individual values in the array which must all be the same. The word `my_array` is the variable name we choose to name the array and the `[10]` is the syntax to declare that this array will have 100 values.\n",
    "\n",
    "The array is \"empty\" when first declared and can be filled with values like so:\n",
    "\n",
    "```C\n",
    "my_array[0] = 5;\n",
    "my_array[1] = 6.78;\n",
    "my array[2] = my_array[0] * 12;\n",
    "```\n",
    "\n",
    "It is possible to declare multidimensional arrays in C that could map more directly to the indices of our two dimensional matrix, but in this case we will map our two dimensional matrix to a one dimenasional array using C contingous row ordering. The means that the rows...TODO\n",
    "\n",
    "The code printers are capable of dealing with this need through the `assign_to` keyword argument in the `.doprint()` method but we must define a SymPy object that is appropriate to be assigned to. In our case, since we want to assign a Matrix we need to use an appropriately sized Matrix symbol."
   ]
  },
  {
   "cell_type": "code",
   "execution_count": null,
   "metadata": {
    "collapsed": true
   },
   "outputs": [],
   "source": [
    "rhs_vals = sp.MatrixSymbol('rhs_vals', 14, 1)"
   ]
  },
  {
   "cell_type": "code",
   "execution_count": null,
   "metadata": {},
   "outputs": [],
   "source": [
    "print(printer.doprint(rhs_of_odes, assign_to=rhs_vals))"
   ]
  },
  {
   "cell_type": "markdown",
   "metadata": {},
   "source": [
    "Notice that we have proper array value assignment and valid lines of C code that can be used in our function."
   ]
  },
  {
   "cell_type": "markdown",
   "metadata": {},
   "source": [
    "## Excercise\n",
    "\n",
    "Print out valid C code from the Jacobian."
   ]
  },
  {
   "cell_type": "code",
   "execution_count": null,
   "metadata": {
    "collapsed": true
   },
   "outputs": [],
   "source": [
    "jac_vals = sp.MatrixSymbol('jac_vals', 14, 14)"
   ]
  },
  {
   "cell_type": "code",
   "execution_count": null,
   "metadata": {},
   "outputs": [],
   "source": [
    "print(printer.doprint(jac_of_odes, assign_to=jac_vals))"
   ]
  },
  {
   "cell_type": "markdown",
   "metadata": {},
   "source": [
    "# Changing the Behavior of the Printer\n",
    "\n",
    "The SymPy code printers are relatively easy to extend. They are designed such that if you want to change how a particularly SymPy object prints, for example a `Symbol`, then you only need to modify the `_print_Symbol` method. "
   ]
  },
  {
   "cell_type": "code",
   "execution_count": null,
   "metadata": {
    "collapsed": true
   },
   "outputs": [],
   "source": [
    "class MyCodePrinter(CCodePrinter):\n",
    "    def _print_Symbol(self, expr):\n",
    "        return \"No matter what symbol you pass in I will always print:\\n\\nNi!\""
   ]
  },
  {
   "cell_type": "code",
   "execution_count": null,
   "metadata": {
    "collapsed": true
   },
   "outputs": [],
   "source": [
    "my_printer = MyCodePrinter()"
   ]
  },
  {
   "cell_type": "code",
   "execution_count": null,
   "metadata": {},
   "outputs": [],
   "source": [
    "print(my_printer.doprint(sp.Symbol('theta')))"
   ]
  },
  {
   "cell_type": "markdown",
   "metadata": {},
   "source": [
    "# Exercise\n",
    "\n",
    "It turns out that in C calling `pow()` for low exponents executes slower than simply expanding the multiplication. For example `pow(x, 2)` should be printed as `x*x`. Modify the CCodePrinter `._print_Pow` method to expand the multiplication if the exponent is less than or equal to 4. You may want to have a look at the source code with `._print_Pow??`"
   ]
  },
  {
   "cell_type": "code",
   "execution_count": null,
   "metadata": {
    "collapsed": true
   },
   "outputs": [],
   "source": [
    "printer._print_Pow??"
   ]
  },
  {
   "cell_type": "code",
   "execution_count": null,
   "metadata": {},
   "outputs": [],
   "source": [
    "class MyCodePrinter(CCodePrinter):\n",
    "    def _print_Pow(self, expr):\n",
    "        if expr.exp > 0 and expr.exp <= 4:\n",
    "            return '*'.join([self._print(expr.base) for i in range(expr.exp)])\n",
    "        else:\n",
    "            return super()._print_Pow(expr)"
   ]
  },
  {
   "cell_type": "code",
   "execution_count": null,
   "metadata": {
    "collapsed": true
   },
   "outputs": [],
   "source": [
    "my_printer = MyCodePrinter()"
   ]
  },
  {
   "cell_type": "code",
   "execution_count": null,
   "metadata": {},
   "outputs": [],
   "source": [
    "x = sp.Symbol('x')\n",
    "my_printer.doprint(x)"
   ]
  },
  {
   "cell_type": "code",
   "execution_count": null,
   "metadata": {},
   "outputs": [],
   "source": [
    "my_printer.doprint(x**2)"
   ]
  },
  {
   "cell_type": "code",
   "execution_count": null,
   "metadata": {},
   "outputs": [],
   "source": [
    "my_printer.doprint(x**4)"
   ]
  },
  {
   "cell_type": "code",
   "execution_count": null,
   "metadata": {},
   "outputs": [],
   "source": [
    "my_printer.doprint(x**5)"
   ]
  },
  {
   "cell_type": "markdown",
   "metadata": {},
   "source": [
    "## Exercise\n",
    "\n",
    "One issue with our current code printer is that the expressions use the symbols $y0, y1, \\ldots, y13$ instead of access the values directly from the arrays with `y[0], y[1], ..., y[13]`. We could go back and rename our SymPy symbols to use brackets, but another way would be to override the `_print_Symbol()` method to print these symbols as we desire. Modify the code printer so that it prints with the proper array access in the expression."
   ]
  },
  {
   "cell_type": "code",
   "execution_count": null,
   "metadata": {
    "collapsed": true
   },
   "outputs": [],
   "source": [
    "class MyCodePrinter(CCodePrinter):\n",
    "    def _print_Symbol(self, expr):\n",
    "        if expr in states:\n",
    "            return 'state_vals[{}]'.format(expr.name[1:])"
   ]
  },
  {
   "cell_type": "code",
   "execution_count": null,
   "metadata": {},
   "outputs": [],
   "source": [
    "my_printer = MyCodePrinter()\n",
    "print(my_printer.doprint(rhs_of_odes, assign_to=rhs_vals))"
   ]
  },
  {
   "cell_type": "markdown",
   "metadata": {},
   "source": [
    "# Common Subexpression Elimination\n",
    "\n",
    "If you look carefully at the expressions in the two matrices you'll see repeated expressions. These are not ideal in the sense that the computer has to repeat the exact same calculation multiple times. For large expressions this can be a major issue. Compilers, such as gcc, can often elimination common subexpressions on their own but for complex expressions the algorithms in most compilers do not do a thorough job or compilation can take an extremely long time. SymPy has tools to perform common subexpression elimination which is both thorough and reasonably efficient.\n",
    "\n",
    "For example if you have two expressions:\n",
    "\n",
    "```python\n",
    "a = x*y + 5\n",
    "b = x*y + 6\n",
    "```\n",
    "\n",
    "you can convert this to:\n",
    "\n",
    "```python\n",
    "z = x*y\n",
    "a = z + 5\n",
    "b = z + 6\n",
    "```\n",
    "\n",
    "and `z` only has to be computed once.\n",
    "\n",
    "The `cse()` function in SymPy returns the subexpression, `z = x*y`, and the simplified expressions, `a = z + 5` `b = z + 6`.\n",
    "\n",
    "Here is how it works:"
   ]
  },
  {
   "cell_type": "code",
   "execution_count": null,
   "metadata": {},
   "outputs": [],
   "source": [
    "sub_exprs, simplified_rhs = sp.cse(rhs_of_odes)"
   ]
  },
  {
   "cell_type": "code",
   "execution_count": null,
   "metadata": {},
   "outputs": [],
   "source": [
    "sub_exprs"
   ]
  },
  {
   "cell_type": "code",
   "execution_count": null,
   "metadata": {},
   "outputs": [],
   "source": [
    "simplified_rhs[0]"
   ]
  },
  {
   "cell_type": "markdown",
   "metadata": {},
   "source": [
    "You can find common subexpressions among multiple expressions also:"
   ]
  },
  {
   "cell_type": "code",
   "execution_count": null,
   "metadata": {
    "collapsed": true
   },
   "outputs": [],
   "source": [
    "sub_exprs, simplified_exprs = sp.cse((rhs_of_odes, jac_of_odes))"
   ]
  },
  {
   "cell_type": "code",
   "execution_count": null,
   "metadata": {},
   "outputs": [],
   "source": [
    "sub_exprs"
   ]
  },
  {
   "cell_type": "code",
   "execution_count": null,
   "metadata": {},
   "outputs": [],
   "source": [
    "simplified_exprs[0]"
   ]
  },
  {
   "cell_type": "code",
   "execution_count": null,
   "metadata": {},
   "outputs": [],
   "source": [
    "simplified_exprs[1]"
   ]
  },
  {
   "cell_type": "markdown",
   "metadata": {},
   "source": [
    "# Exercise\n",
    "\n",
    "Use common subexpression elimnation to print out C code for your two arrays such that:\n",
    "\n",
    "```C\n",
    "float x0 = some_sub_expression;\n",
    "...\n",
    "float xN = the_last_sub_expression;\n",
    "\n",
    "rhs_results[0] = expressions_containing_the_subexpressions;\n",
    "...\n",
    "rhs_results[13] = ...;\n",
    "\n",
    "jac_results[0] = ...;\n",
    "...\n",
    "jac_results[195] = ...;\n",
    "```"
   ]
  },
  {
   "cell_type": "markdown",
   "metadata": {},
   "source": [
    "You can make it work fairly easily "
   ]
  },
  {
   "cell_type": "code",
   "execution_count": null,
   "metadata": {},
   "outputs": [],
   "source": [
    "from sympy.printing.codeprinter import Assignment\n",
    "\n",
    "class CMatrixPrinter(CCodePrinter):\n",
    "    def _print_ImmutableMatrix(self, expr):\n",
    "        sub_exprs, simplified = sp.cse(expr)\n",
    "        lines = []\n",
    "        for var, sub_expr in sub_exprs:\n",
    "            lines.append('float ' + self._print(Assignment(var, sub_expr)))\n",
    "        M = sp.MatrixSymbol('M', *expr.shape)\n",
    "        return '\\n'.join(lines) + self._print(Assignment(M, expr))"
   ]
  },
  {
   "cell_type": "code",
   "execution_count": null,
   "metadata": {},
   "outputs": [],
   "source": [
    "p = CMatrixPrinter()\n",
    "print(p.doprint(jac_of_odes))"
   ]
  },
  {
   "cell_type": "code",
   "execution_count": null,
   "metadata": {
    "collapsed": true
   },
   "outputs": [],
   "source": [
    "class CMatrixPrinter(CCodePrinter):\n",
    "    \n",
    "    def _print_list(self, list_of_exprs):\n",
    "        # NOTE : The MutableDenseMatrix is turned in an ImmutableMatrix inside here.\n",
    "        if all(isinstance(x, sp.ImmutableMatrix) for x in list_of_exprs):\n",
    "            sub_exprs, simplified_exprs = sp.cse(list_of_exprs)\n",
    "            lines = []\n",
    "            for var, sub_expr in sub_exprs:\n",
    "                ass = Assignment(var, sub_expr)\n",
    "                lines.append('float ' + self._print(ass))\n",
    "            for mat in simplified_exprs:\n",
    "                lines.append(self._print(mat))\n",
    "            return '\\n'.join(lines)\n",
    "        else:\n",
    "            return super()._print_list(list_of_exprs)\n",
    "\n",
    "# TODO : This doesn't work as expected.\n",
    "#    def _print_Symbol(self, expr):\n",
    "#         if expr in states:\n",
    "#            return self._print(sp.Symbol('state_vals[{}]'.format(expr.name[1:])))\n",
    "            \n",
    "    def _print_ImmutableMatrix(self, expr):\n",
    "        if expr.shape[1] > 1:\n",
    "            M = sp.MatrixSymbol('jac_result', *expr.shape)\n",
    "        else:\n",
    "            M = sp.MatrixSymbol('rhs_result', *expr.shape)\n",
    "        return self._print(Assignment(M, expr))"
   ]
  },
  {
   "cell_type": "code",
   "execution_count": null,
   "metadata": {},
   "outputs": [],
   "source": [
    "p = CMatrixPrinter()\n",
    "print(p.doprint([rhs_of_odes, jac_of_odes]))"
   ]
  }
 ],
 "metadata": {
  "kernelspec": {
   "display_name": "Python 3",
   "language": "python",
   "name": "python3"
  },
  "language_info": {
   "codemirror_mode": {
    "name": "ipython",
    "version": 3
   },
   "file_extension": ".py",
   "mimetype": "text/x-python",
   "name": "python",
   "nbconvert_exporter": "python",
   "pygments_lexer": "ipython3",
   "version": "3.6.1"
  }
 },
 "nbformat": 4,
 "nbformat_minor": 2
}
