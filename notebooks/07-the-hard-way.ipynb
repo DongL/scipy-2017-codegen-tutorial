{
 "cells": [
  {
   "cell_type": "markdown",
   "metadata": {},
   "source": [
    "# The Harder Way: C Code generation, Custom Printers, and CSE [1 hour]\n",
    "\n",
    "One of the most common low level programming languages in use is C. Compiled C code can be optimized for execution speed for many different computers. Python is written in C as well as many of the vectorized operations in NumPy and numerical algorithms in SciPy. It is often necessary to translate a complex mathematical expression into C for optimal execution speeds and memory management. In this notebook you will learn how to automatically translate a complex SymPy expression into C, compile the code, and run the program.\n",
    "\n",
    "We will continue examining the complex chemical kinetic reaction ordinary differential equation introduced in the previous lesson.\n",
    "\n",
    "## Learning Objectives\n",
    "\n",
    "After this lesson you will be able to:\n",
    "\n",
    "- use a code printer class to convert a SymPy expression to compilable C code\n",
    "- use an array compatible assignment to print valid C array code\n",
    "- subclass the printer class and modify it to provide custom behavior\n",
    "- utilize common sub expression elimination to simplify and speed up the code execution"
   ]
  },
  {
   "cell_type": "markdown",
   "metadata": {},
   "source": [
    "Import SymPy and enable mathematical printing in the Jupyter notebook."
   ]
  },
  {
   "cell_type": "code",
   "execution_count": 1,
   "metadata": {
    "collapsed": true
   },
   "outputs": [],
   "source": [
    "import sympy as sym"
   ]
  },
  {
   "cell_type": "code",
   "execution_count": 2,
   "metadata": {
    "collapsed": true
   },
   "outputs": [],
   "source": [
    "sym.init_printing()"
   ]
  },
  {
   "cell_type": "markdown",
   "metadata": {},
   "source": [
    "# Ordinary Differential Equations\n",
    "\n",
    "The previously generated ordinary differential equations that describe chemical kinetic reactions are loaded below. These expressions describe the right hand side of this mathematical equation:\n",
    "\n",
    "$$\\frac{d\\mathbf{y}}{dt} = \\mathbf{f}(\\mathbf{y}(t))$$\n",
    "\n",
    "where the state vector $\\mathbf{y}(t)$ is made up of 14 states, i.e. $\\mathbf{y}(t) \\in \\mathbb{R}^{14}$.\n",
    "\n",
    "Below the variable `rhs_of_odes` represents $\\mathbf{f}(\\mathbf{y}(t))$ and `states` represents $\\mathbf{y}(t)$.\n",
    "\n",
    "From now own we will simply use $\\mathbf{y}$ instead of $\\mathbf{y}(t)$ and assume an implicit function of $t$."
   ]
  },
  {
   "cell_type": "code",
   "execution_count": 3,
   "metadata": {
    "collapsed": true
   },
   "outputs": [],
   "source": [
    "from scipy2017codegen.chem import load_large_ode"
   ]
  },
  {
   "cell_type": "code",
   "execution_count": 4,
   "metadata": {
    "collapsed": true
   },
   "outputs": [],
   "source": [
    "rhs_of_odes, states = load_large_ode()"
   ]
  },
  {
   "cell_type": "markdown",
   "metadata": {},
   "source": [
    "## Exercise [2 min]\n",
    "\n",
    "Display the expressions (`rhs_of_odes` and `states`), inspect them, and find out their types and dimensions. What are some of the characteristics of the equations (type of mathematical expressions, linear or non-linear, etc)?"
   ]
  },
  {
   "cell_type": "markdown",
   "metadata": {},
   "source": [
    "### Solution\n",
    "```python\n",
    "rhs_of_odes\n",
    "type(rhs_of_odes)\n",
    "rhs_of_odes.shape\n",
    "# rhs_of_odes is a 14 x 1 SymPy matrix of expressions. The expressions are\n",
    "# long multivariate polynomials.\n",
    "states\n",
    "type(states)\n",
    "states.shape\n",
    "# states is a 14 x 1 SymPy matrix of symbols\n",
    "```\n",
    "\n",
    "The equations are nonlinear equations of the states. There are 14 equations and 14 states. The coefficients in the equations are various floating point numbers."
   ]
  },
  {
   "cell_type": "code",
   "execution_count": 5,
   "metadata": {
    "collapsed": true
   },
   "outputs": [],
   "source": []
  },
  {
   "cell_type": "markdown",
   "metadata": {},
   "source": [
    "# Compute the Jacobian\n",
    "\n",
    "As has been shown in the previous lesson the Jacobian of the right hand side of the differential equations is often very useful for computations, such as integration and optimization. With:\n",
    "\n",
    "$$\\frac{d\\mathbf{y}}{dt} = \\mathbf{f}(\\mathbf{y})$$\n",
    "\n",
    "the Jacobian is defined as:\n",
    "\n",
    "$$\\mathbf{J}(\\mathbf{y}) = \\frac{\\partial\\mathbf{f}(\\mathbf{y})}{\\partial\\mathbf{y}}$$\n",
    "\n",
    "SymPy can compute the Jacobian of matrix objects with the `Matrix.jacobian()` method."
   ]
  },
  {
   "cell_type": "markdown",
   "metadata": {},
   "source": [
    "## Exercise [3 min]\n",
    "\n",
    "Look up the Jacobian in the SymPy documentation then compute the Jacobian and store the result in the variable `jac_of_odes`. Inspect the resulting Jacobian for dimensionality, type, and the symbolic form."
   ]
  },
  {
   "cell_type": "markdown",
   "metadata": {},
   "source": [
    "### Solution\n",
    "```python\n",
    "jac_of_odes = rhs_of_odes.jacobian(states)\n",
    "type(jac_of_odes)\n",
    "jac_of_odes.shape\n",
    "jac_of_odes\n",
    "```\n",
    "The Jacobian is a 14 x 14 SymPy matrix and contains 196 expressions which are linear functions of the state variables."
   ]
  },
  {
   "cell_type": "code",
   "execution_count": 5,
   "metadata": {
    "collapsed": true
   },
   "outputs": [],
   "source": []
  },
  {
   "cell_type": "markdown",
   "metadata": {},
   "source": [
    "# C Code Printing\n",
    "\n",
    "The two expressions are large and will likely have to be excuted many thousands of times to compute the desired numerical values, so we want them to execute as fast as possible. We can use SymPy to print these expressions as C code.\n",
    "\n",
    "We will design a double precision C function that evaluates both $\\mathbf{f}(\\mathbf{y})$ and $\\mathbf{J}(\\mathbf{y})$ simultaneously given the values of the states $\\mathbf{y}$. Below is a basic template for a C program that includes such a function, `evaluate_odes()`. Our job is to populate the function with the C version of the SymPy expressions.\n",
    "\n",
    "```C\n",
    "#include <math.h>\n",
    "#include <stdio.h>\n",
    "\n",
    "void evaluate_odes(const double state_vals[14], double rhs_result[14], double jac_result[196])\n",
    "{\n",
    "      // We need to fill in the code here using SymPy.\n",
    "}\n",
    "\n",
    "int main() {\n",
    "\n",
    "    // initialize the state vector with some values\n",
    "    double state_vals[14] = {1, 2, 3, 4, 5, 6, 7, 8, 9, 10, 11, 12, 13, 14};\n",
    "    // create \"empty\" 1D arrays to hold the results of the computation\n",
    "    double rhs_result[14];\n",
    "    double jac_result[196];\n",
    "    \n",
    "    // call the function\n",
    "    evaluate_odes(state_vals, rhs_result, jac_result);\n",
    "    \n",
    "    // print the computed values to the terminal\n",
    "    int i;\n",
    "\n",
    "    printf(\"The right hand side of the equations evaluates to:\\n\");\n",
    "    for (i=0; i < 14; i++) {\n",
    "        printf(\"%lf\\n\", rhs_result[i]);\n",
    "    }\n",
    "\n",
    "    printf(\"\\nThe Jacobian evaluates to:\\n\");\n",
    "    for (i=0; i < 196; i++) {\n",
    "        printf(\"%lf\\n\", jac_result[i]);\n",
    "    }\n",
    "\n",
    "    return 0;\n",
    "}\n",
    "\n",
    "```\n",
    "\n",
    "Instead of using the `ccode` convenience function you learned earlier let's use the underlying code printer class to do the printing. This will allow us to modify the class to for custom printing further down."
   ]
  },
  {
   "cell_type": "code",
   "execution_count": 5,
   "metadata": {
    "collapsed": true
   },
   "outputs": [],
   "source": [
    "from sympy.printing.ccode import C99CodePrinter"
   ]
  },
  {
   "cell_type": "markdown",
   "metadata": {},
   "source": [
    "All printing classes have to be instantiated and then the `.doprint()` method can be used to print SymPy expressions. Let's try to print the right hand side of the differential equations."
   ]
  },
  {
   "cell_type": "code",
   "execution_count": 6,
   "metadata": {
    "collapsed": true
   },
   "outputs": [],
   "source": [
    "printer = C99CodePrinter()"
   ]
  },
  {
   "cell_type": "code",
   "execution_count": 7,
   "metadata": {},
   "outputs": [
    {
     "name": "stdout",
     "output_type": "stream",
     "text": [
      "// Not supported in C:\n",
      "// ImmutableDenseMatrix\n",
      "Matrix([\n",
      "[                                                                                                                                                                                      -14520000.0*y0**2 - 0.0158*y0*y1 - 20900000.0*y0*y11 - 27600000.0*y0*y4 - 35500000.0*y0*y5 - 13600000.0*y0*y6 - 22900000.0*y0*y7 - 13000000.0*y0*y8 - 13000000.0*y0*y9 + 24400.0*y2*y4 + 5.83*y4 + 0.0854],\n",
      "[-14520000.0*y0**2 - 0.0158*y0*y1 - 27600000.0*y0*y4 - 26000000.0*y0*y8 - 1270.0*y1*y10 - 1270.0*y1*y12 - 4.58e-8*y1*y4 - 0.000155*y1*y8 - 2.12e-5*y1 + 4070000.0*y10*y5 + 118000000.0*y11*y2 + 24400.0*y2*y4 + 13300000.0*y2*y5 + 13300000.0*y2*y6 + 13300000.0*y2*y9 + 39500.0*y3*y5 + 10900000.0*y4*y5 + 36500.0*y4*y6 + 29200.0*y5*y6 + 8840000.0*y5*y9 + 2.6e-7*y6 - 101000.0*y8*y9 - 0.131],\n",
      "[                            14520000.0*y0**2 + 0.0158*y0*y1 + 27600000.0*y0*y4 + 35500000.0*y0*y5 + 13600000.0*y0*y6 + 26000000.0*y0*y8 + 1270.0*y1*y10 + 1270.0*y1*y12 + 0.000155*y1*y8 + 2.12e-5*y1 + 786000.0*y10*y12 - 118000000.0*y11*y2 + 128000.0*y12*y3 + 4070000.0*y12*y6 - 24400.0*y2*y4 - 13300000.0*y2*y5 - 13300000.0*y2*y6 - 13300000.0*y2*y9 + 11000000.0*y5*y8 + 101000.0*y8*y9],\n",
      "[                                                                                                                                                                                                                                                                                7260000.0*y0**2 + 27600000.0*y0*y4 + 4.58e-8*y1*y4 - 128000.0*y12*y3 - 39500.0*y3*y5 + 5140000.0*y4**2 + 0.0136],\n",
      "[                                                                                                                                        0.0158*y0*y1 + 20900000.0*y0*y11 - 27600000.0*y0*y4 - 4.58e-8*y1*y4 + 128000.0*y12*y3 - 24400.0*y2*y4 + 39500.0*y3*y5 - 10280000.0*y4**2 - 10900000.0*y4*y5 - 36500.0*y4*y6 - 13100000.0*y4*y7 - 11400000.0*y4*y8 - 11400000.0*y4*y9 - 5.83*y4 + 0.0188],\n",
      "[                                                                                              -35500000.0*y0*y5 + 13600000.0*y0*y6 + 1270.0*y1*y12 + 4.58e-8*y1*y4 - 4070000.0*y10*y5 + 50200000.0*y11*y12 - 13300000.0*y2*y5 - 39500.0*y3*y5 - 10900000.0*y4*y5 + 36500.0*y4*y6 + 22800000.0*y4*y9 - 9620000.0*y5**2 - 29200.0*y5*y6 - 11000000.0*y5*y8 - 8840000.0*y5*y9 - 0.0943*y5 + 0.0871],\n",
      "[                                                                                                                                                                      -13600000.0*y0*y6 + 13000000.0*y0*y8 + 1270.0*y1*y10 + 50200000.0*y10*y11 - 4070000.0*y12*y6 - 13300000.0*y2*y6 - 36500.0*y4*y6 + 4810000.0*y5**2 - 29200.0*y5*y6 - 0.09430026*y6 + 101000.0*y8*y9 + 840.0*y9**2 + 0.0221],\n",
      "[                                                                                                                                                                                                                                 -22900000.0*y0*y7 - 3750000.0*y12*y7 + 2620.0*y13 - 13100000.0*y4*y7 + 11000000.0*y5*y8 + 8840000.0*y5*y9 + 1.3e-7*y6 + 101000.0*y8*y9 + 840.0*y9**2 + 8.19e-7],\n",
      "[                                                                                                                                                                                         22900000.0*y0*y7 - 13000000.0*y0*y8 - 0.000155*y1*y8 + 786000.0*y10*y12 + 4070000.0*y10*y5 - 50200000.0*y11*y8 + 13300000.0*y2*y9 - 11400000.0*y4*y8 - 11000000.0*y5*y8 - 101000.0*y8*y9 + 773000.0*y9],\n",
      "[                                                                                                                                                                             -13000000.0*y0*y9 + 0.000155*y1*y8 + 50200000.0*y11*y8 + 4070000.0*y12*y6 - 13300000.0*y2*y9 + 13100000.0*y4*y7 - 11400000.0*y4*y9 + 29200.0*y5*y6 - 8840000.0*y5*y9 - 101000.0*y8*y9 - 1680.0*y9**2 - 773000.0*y9],\n",
      "[                                                                                                                                                                                                                                                  13000000.0*y0*y9 - 1270.0*y1*y10 - 50200000.0*y10*y11 - 786000.0*y10*y12 - 4070000.0*y10*y5 + 13300000.0*y2*y6 + 11400000.0*y4*y8 + 0.0943*y6],\n",
      "[                                                                                                                                                                                                                    -20900000.0*y0*y11 + 2.12e-5*y1 - 50200000.0*y10*y11 - 50200000.0*y11*y12 - 118000000.0*y11*y2 - 50200000.0*y11*y8 + 5.83*y4 + 0.0943*y5 + 0.0943*y6 + 773000.0*y9 + 0.0854],\n",
      "[                                                                                                                                                                                                                                     -1270.0*y1*y12 - 786000.0*y10*y12 - 50200000.0*y11*y12 - 128000.0*y12*y3 - 4070000.0*y12*y6 - 3750000.0*y12*y7 + 2620.0*y13 + 13300000.0*y2*y5 + 0.0943*y5],\n",
      "[                                                                                                                                                                                                                                                                                                                                                                  3750000.0*y12*y7 - 2620.0*y13]])\n"
     ]
    }
   ],
   "source": [
    "print(printer.doprint(rhs_of_odes))"
   ]
  },
  {
   "cell_type": "markdown",
   "metadata": {},
   "source": [
    "In this case, the C code printer does not do what we desire. It does not support printing a SymPy Matrix (see the first line of the output). In C, on possible representation of a matrix is an array type. The array type in C stores contigous values, e.g. doubles, in a chunk of memory. You can declare an array of doubles in C like:\n",
    "\n",
    "```C\n",
    "double my_array[10];\n",
    "```\n",
    "\n",
    "The word `double` is the data type of the individual values in the array which must all be the same. The word `my_array` is the variable name we choose to name the array and the `[10]` is the syntax to declare that this array will have 10 values.\n",
    "\n",
    "The array is \"empty\" when first declared and can be filled with values like so:\n",
    "\n",
    "```C\n",
    "my_array[0] = 5;\n",
    "my_array[1] = 6.78;\n",
    "my array[2] = my_array[0] * 12;\n",
    "```\n",
    "\n",
    "or like:\n",
    "\n",
    "```C\n",
    "my_array = {1, 2, 3, 4, 5, 6, 7, 8, 9, 10};\n",
    "```\n",
    "\n",
    "It is possible to declare multidimensional arrays in C that could map more directly to the indices of our two dimensional matrix, but in this case we will map our two dimensional matrix to a one dimenasional array using C contingous row ordering.\n",
    "\n",
    "The code printers are capable of dealing with this need through the `assign_to` keyword argument in the `.doprint()` method but we must define a SymPy object that is appropriate to be assigned to. In our case, since we want to assign a Matrix we need to use an appropriately sized Matrix symbol."
   ]
  },
  {
   "cell_type": "code",
   "execution_count": 8,
   "metadata": {
    "collapsed": true
   },
   "outputs": [],
   "source": [
    "rhs_result = sym.MatrixSymbol('rhs_result', 14, 1)"
   ]
  },
  {
   "cell_type": "code",
   "execution_count": 9,
   "metadata": {},
   "outputs": [
    {
     "name": "stdout",
     "output_type": "stream",
     "text": [
      "rhs_result\n"
     ]
    }
   ],
   "source": [
    "print(rhs_result)"
   ]
  },
  {
   "cell_type": "code",
   "execution_count": 10,
   "metadata": {},
   "outputs": [
    {
     "name": "stdout",
     "output_type": "stream",
     "text": [
      "rhs_result[0, 0]\n"
     ]
    }
   ],
   "source": [
    "print(rhs_result[0])"
   ]
  },
  {
   "cell_type": "code",
   "execution_count": 11,
   "metadata": {},
   "outputs": [
    {
     "name": "stdout",
     "output_type": "stream",
     "text": [
      "rhs_result[0] = -14520000.0*pow(y0, 2) - 0.0158*y0*y1 - 20900000.0*y0*y11 - 27600000.0*y0*y4 - 35500000.0*y0*y5 - 13600000.0*y0*y6 - 22900000.0*y0*y7 - 13000000.0*y0*y8 - 13000000.0*y0*y9 + 24400.0*y2*y4 + 5.83*y4 + 0.0854;\n",
      "rhs_result[1] = -14520000.0*pow(y0, 2) - 0.0158*y0*y1 - 27600000.0*y0*y4 - 26000000.0*y0*y8 - 1270.0*y1*y10 - 1270.0*y1*y12 - 4.58e-8*y1*y4 - 0.000155*y1*y8 - 2.12e-5*y1 + 4070000.0*y10*y5 + 118000000.0*y11*y2 + 24400.0*y2*y4 + 13300000.0*y2*y5 + 13300000.0*y2*y6 + 13300000.0*y2*y9 + 39500.0*y3*y5 + 10900000.0*y4*y5 + 36500.0*y4*y6 + 29200.0*y5*y6 + 8840000.0*y5*y9 + 2.6e-7*y6 - 101000.0*y8*y9 - 0.131;\n",
      "rhs_result[2] = 14520000.0*pow(y0, 2) + 0.0158*y0*y1 + 27600000.0*y0*y4 + 35500000.0*y0*y5 + 13600000.0*y0*y6 + 26000000.0*y0*y8 + 1270.0*y1*y10 + 1270.0*y1*y12 + 0.000155*y1*y8 + 2.12e-5*y1 + 786000.0*y10*y12 - 118000000.0*y11*y2 + 128000.0*y12*y3 + 4070000.0*y12*y6 - 24400.0*y2*y4 - 13300000.0*y2*y5 - 13300000.0*y2*y6 - 13300000.0*y2*y9 + 11000000.0*y5*y8 + 101000.0*y8*y9;\n",
      "rhs_result[3] = 7260000.0*pow(y0, 2) + 27600000.0*y0*y4 + 4.58e-8*y1*y4 - 128000.0*y12*y3 - 39500.0*y3*y5 + 5140000.0*pow(y4, 2) + 0.0136;\n",
      "rhs_result[4] = 0.0158*y0*y1 + 20900000.0*y0*y11 - 27600000.0*y0*y4 - 4.58e-8*y1*y4 + 128000.0*y12*y3 - 24400.0*y2*y4 + 39500.0*y3*y5 - 10280000.0*pow(y4, 2) - 10900000.0*y4*y5 - 36500.0*y4*y6 - 13100000.0*y4*y7 - 11400000.0*y4*y8 - 11400000.0*y4*y9 - 5.83*y4 + 0.0188;\n",
      "rhs_result[5] = -35500000.0*y0*y5 + 13600000.0*y0*y6 + 1270.0*y1*y12 + 4.58e-8*y1*y4 - 4070000.0*y10*y5 + 50200000.0*y11*y12 - 13300000.0*y2*y5 - 39500.0*y3*y5 - 10900000.0*y4*y5 + 36500.0*y4*y6 + 22800000.0*y4*y9 - 9620000.0*pow(y5, 2) - 29200.0*y5*y6 - 11000000.0*y5*y8 - 8840000.0*y5*y9 - 0.0943*y5 + 0.0871;\n",
      "rhs_result[6] = -13600000.0*y0*y6 + 13000000.0*y0*y8 + 1270.0*y1*y10 + 50200000.0*y10*y11 - 4070000.0*y12*y6 - 13300000.0*y2*y6 - 36500.0*y4*y6 + 4810000.0*pow(y5, 2) - 29200.0*y5*y6 - 0.09430026*y6 + 101000.0*y8*y9 + 840.0*pow(y9, 2) + 0.0221;\n",
      "rhs_result[7] = -22900000.0*y0*y7 - 3750000.0*y12*y7 + 2620.0*y13 - 13100000.0*y4*y7 + 11000000.0*y5*y8 + 8840000.0*y5*y9 + 1.3e-7*y6 + 101000.0*y8*y9 + 840.0*pow(y9, 2) + 8.19e-7;\n",
      "rhs_result[8] = 22900000.0*y0*y7 - 13000000.0*y0*y8 - 0.000155*y1*y8 + 786000.0*y10*y12 + 4070000.0*y10*y5 - 50200000.0*y11*y8 + 13300000.0*y2*y9 - 11400000.0*y4*y8 - 11000000.0*y5*y8 - 101000.0*y8*y9 + 773000.0*y9;\n",
      "rhs_result[9] = -13000000.0*y0*y9 + 0.000155*y1*y8 + 50200000.0*y11*y8 + 4070000.0*y12*y6 - 13300000.0*y2*y9 + 13100000.0*y4*y7 - 11400000.0*y4*y9 + 29200.0*y5*y6 - 8840000.0*y5*y9 - 101000.0*y8*y9 - 1680.0*pow(y9, 2) - 773000.0*y9;\n",
      "rhs_result[10] = 13000000.0*y0*y9 - 1270.0*y1*y10 - 50200000.0*y10*y11 - 786000.0*y10*y12 - 4070000.0*y10*y5 + 13300000.0*y2*y6 + 11400000.0*y4*y8 + 0.0943*y6;\n",
      "rhs_result[11] = -20900000.0*y0*y11 + 2.12e-5*y1 - 50200000.0*y10*y11 - 50200000.0*y11*y12 - 118000000.0*y11*y2 - 50200000.0*y11*y8 + 5.83*y4 + 0.0943*y5 + 0.0943*y6 + 773000.0*y9 + 0.0854;\n",
      "rhs_result[12] = -1270.0*y1*y12 - 786000.0*y10*y12 - 50200000.0*y11*y12 - 128000.0*y12*y3 - 4070000.0*y12*y6 - 3750000.0*y12*y7 + 2620.0*y13 + 13300000.0*y2*y5 + 0.0943*y5;\n",
      "rhs_result[13] = 3750000.0*y12*y7 - 2620.0*y13;\n"
     ]
    }
   ],
   "source": [
    "print(printer.doprint(rhs_of_odes, assign_to=rhs_result))"
   ]
  },
  {
   "cell_type": "markdown",
   "metadata": {},
   "source": [
    "Notice that we have proper array value assignment and valid lines of C code that can be used in our function."
   ]
  },
  {
   "cell_type": "markdown",
   "metadata": {},
   "source": [
    "## Excercise [5 min]\n",
    "\n",
    "Print out valid C code for the Jacobian matrix."
   ]
  },
  {
   "cell_type": "markdown",
   "metadata": {},
   "source": [
    "### Solution\n",
    "\n",
    "```python\n",
    "jac_result = sym.MatrixSymbol('jac_result', 14, 14)\n",
    "\n",
    "print(jac_result)\n",
    "\n",
    "print(printer.doprint(jac_of_odes, assign_to=jac_result))\n",
    "```"
   ]
  },
  {
   "cell_type": "code",
   "execution_count": 12,
   "metadata": {
    "collapsed": true
   },
   "outputs": [],
   "source": []
  },
  {
   "cell_type": "markdown",
   "metadata": {},
   "source": [
    "# Changing the Behavior of the Printer\n",
    "\n",
    "The SymPy code printers are relatively easy to extend. They are designed such that if you want to change how a particularly SymPy object prints, for example a `Symbol`, then you only need to modify the `_print_Symbol` method of the printer. In general, the code printers have a method for every SymPy object and also many builtin types. Use tab completion with `C99CodePrinter._print_` to see all of the options."
   ]
  },
  {
   "cell_type": "markdown",
   "metadata": {},
   "source": [
    "Once you find the method you want to modify, it is often useful to look at the existing impelementation of the print method to see how the code is written."
   ]
  },
  {
   "cell_type": "code",
   "execution_count": 12,
   "metadata": {
    "collapsed": true
   },
   "outputs": [],
   "source": [
    "C99CodePrinter._print_Symbol??"
   ]
  },
  {
   "cell_type": "markdown",
   "metadata": {},
   "source": [
    "Below is a simple example of overiding the `Symbol` printer method. Note that you should use the `self._print()` method instead of simply returning the string so that the proper printer, `self._print_str()`, is dispatched. This is most important if you are printing non-singletons, i.e. expressions that are made up of multiple singletons. "
   ]
  },
  {
   "cell_type": "code",
   "execution_count": 13,
   "metadata": {
    "collapsed": true
   },
   "outputs": [],
   "source": [
    "C99CodePrinter._print_str??"
   ]
  },
  {
   "cell_type": "code",
   "execution_count": 14,
   "metadata": {
    "collapsed": true
   },
   "outputs": [],
   "source": [
    "class MyCodePrinter(C99CodePrinter):\n",
    "    def _print_Symbol(self, expr):\n",
    "        return self._print(\"No matter what symbol you pass in I will always print:\\n\\nNi!\")"
   ]
  },
  {
   "cell_type": "code",
   "execution_count": 15,
   "metadata": {
    "collapsed": true
   },
   "outputs": [],
   "source": [
    "my_printer = MyCodePrinter()"
   ]
  },
  {
   "cell_type": "code",
   "execution_count": 16,
   "metadata": {},
   "outputs": [
    {
     "data": {
      "image/png": "[encoded data removed]",
      "text/latex": [
       "$$\\theta$$"
      ],
      "text/plain": [
       "θ"
      ]
     },
     "execution_count": 16,
     "metadata": {},
     "output_type": "execute_result"
    }
   ],
   "source": [
    "theta = sym.symbols('theta')\n",
    "theta"
   ]
  },
  {
   "cell_type": "code",
   "execution_count": 17,
   "metadata": {},
   "outputs": [
    {
     "name": "stdout",
     "output_type": "stream",
     "text": [
      "No matter what symbol you pass in I will always print:\n",
      "\n",
      "Ni!\n"
     ]
    }
   ],
   "source": [
    "print(my_printer.doprint(theta))"
   ]
  },
  {
   "cell_type": "markdown",
   "metadata": {},
   "source": [
    "## Exercise [10 min]\n",
    "\n",
    "One issue with our current code printer is that the expressions use the symbols `y0, y1, ..., y13` instead of accessing the values directly from the arrays with `state_vals[0], state_vals[1], ..., state_vals[13]`. We could go back and rename our SymPy symbols to use brackets, but another way would be to override the `_print_Symbol()` method to print these symbols as we desire. Modify the code printer so that it prints with the proper array access in the expression."
   ]
  },
  {
   "cell_type": "markdown",
   "metadata": {},
   "source": [
    "### Solution: Subclassing\n",
    "\n",
    "The following solution examines the symbol and if it is a state variable it overrides the printer, otherwise it uses the parent class to print the symbol as a fall back.\n",
    "\n",
    "```python\n",
    "\n",
    "class MyCodePrinter(C99CodePrinter):\n",
    "    def _print_Symbol(self, symbol):\n",
    "        if symbol in states:\n",
    "            idx = list(states).index(symbol)\n",
    "            return self._print('state_vals[{}]'.format(idx))\n",
    "        else:\n",
    "            return super()._print_Symbol(symbol)\n",
    "\n",
    "my_printer = MyCodePrinter()\n",
    "\n",
    "print(my_printer.doprint(rhs_of_odes, assign_to=rhs_result))\n",
    "```\n",
    "\n",
    "### Solution: Exact replacement\n",
    "\n",
    "Another option is to replace the symbols with `MatrixSymbol` elements. Notice that the C printer assumes that a 2D matrix will get mapped to a 1D C array.\n",
    "\n",
    "```python\n",
    "state_vals = sym.MatrixSymbol('state_vals', 14, 1)\n",
    "state_array_map = dict(zip(states, state_vals))\n",
    "print(state_array_map)\n",
    "print(printer.doprint(rhs_of_odes.xreplace(state_array_map), assign_to=rhs_result))\n",
    "```"
   ]
  },
  {
   "cell_type": "markdown",
   "metadata": {},
   "source": [
    "## Bonus Exercise\n",
    "\n",
    "*Do this exercise if you finish the previous one quickly.*\n",
    "\n",
    "It turns out that calling `pow()` for low value integer exponents executes slower than simply expanding the multiplication. For example `pow(x, 2)` could be printed as `x*x`. Modify the CCodePrinter `._print_Pow` method to expand the multiplication if the exponent is less than or equal to 4. You may want to have a look at the source code with `printer._print_Pow??`\n",
    "\n",
    "Note that a `Pow` expression has an `.exp` for exponent and `.base` for the item being raised. For example $x^2$ would have:\n",
    "\n",
    "```python\n",
    "expr = x**2\n",
    "expr.base == x\n",
    "expr.exp == 2\n",
    "```"
   ]
  },
  {
   "cell_type": "markdown",
   "metadata": {
    "collapsed": true
   },
   "source": [
    "### Solution\n",
    "\n",
    "```python\n",
    "printer._print_Pow??\n",
    "\n",
    "class MyCodePrinter(C99CodePrinter):\n",
    "    def _print_Pow(self, expr):\n",
    "        if expr.exp.is_integer and expr.exp > 0 and expr.exp <= 4:\n",
    "            return '*'.join([self._print(expr.base) for i in range(expr.exp)])\n",
    "        else:\n",
    "            return super()._print_Pow(expr)\n",
    "\n",
    "my_printer = MyCodePrinter()\n",
    "\n",
    "x = sym.Symbol('x')\n",
    "\n",
    "my_printer.doprint(x)\n",
    "\n",
    "my_printer.doprint(x**2)\n",
    "\n",
    "my_printer.doprint(x**4)\n",
    "\n",
    "my_printer.doprint(x**5)\n",
    "\n",
    "my_printer.doprint(x**1.5)\n",
    "```"
   ]
  },
  {
   "cell_type": "markdown",
   "metadata": {},
   "source": [
    "# Common Subexpression Elimination\n",
    "\n",
    "If you look carefully at the expressions in the two matrices you'll see repeated expressions. These are not ideal in the sense that the computer has to repeat the exact same calculation multiple times. For large expressions this can be a major issue. Compilers, such as gcc, can often eliminate common subexpressions on their own when different optimization flags are invoked but for complex expressions the algorithms in some compilers do not do a thorough job or compilation can take an extremely long time. SymPy has tools to perform common subexpression elimination which is both thorough and reasonably efficient. In particular if gcc is run with the lowest optimization setting `-O0` `cse` can give large speedups.\n",
    "\n",
    "For example if you have two expressions:\n",
    "\n",
    "```python\n",
    "a = x*y + 5\n",
    "b = x*y + 6\n",
    "```\n",
    "\n",
    "you can convert this to these three expressions:\n",
    "\n",
    "```python\n",
    "z = x*y\n",
    "a = z + 5\n",
    "b = z + 6\n",
    "```\n",
    "\n",
    "and `x*y` only has to be computed once.\n",
    "\n",
    "The `cse()` function in SymPy returns the subexpression, `z = x*y`, and the simplified expressions: `a = z + 5`, `b = z + 6`.\n",
    "\n",
    "Here is how it works:"
   ]
  },
  {
   "cell_type": "code",
   "execution_count": 18,
   "metadata": {},
   "outputs": [
    {
     "name": "stdout",
     "output_type": "stream",
     "text": [
      "Object `sm.cse` not found.\n"
     ]
    }
   ],
   "source": [
    "sm.cse?"
   ]
  },
  {
   "cell_type": "code",
   "execution_count": 19,
   "metadata": {
    "collapsed": true
   },
   "outputs": [],
   "source": [
    "sub_exprs, simplified_rhs = sym.cse(rhs_of_odes)"
   ]
  },
  {
   "cell_type": "code",
   "execution_count": 20,
   "metadata": {},
   "outputs": [
    {
     "name": "stdout",
     "output_type": "stream",
     "text": [
      "x₀ = 0.0158⋅y₀⋅y₁\n",
      "x₁ = -x₀\n",
      "x₂ = 27600000.0⋅y₀⋅y₄\n",
      "x₃ = -x₂\n",
      "x₄ = 24400.0⋅y₂⋅y₄\n",
      "       2\n",
      "x₅ = y₀ \n",
      "x₆ = 14520000.0⋅x₅\n",
      "x₇ = -x₆\n",
      "x₈ = 5.83⋅y₄\n",
      "x₉ = 20900000.0⋅y₀⋅y₁₁\n",
      "x₁₀ = -x₉\n",
      "x₁₁ = 35500000.0⋅y₀⋅y₅\n",
      "x₁₂ = -x₁₁\n",
      "x₁₃ = 13600000.0⋅y₀⋅y₆\n",
      "x₁₄ = -x₁₃\n",
      "x₁₅ = 22900000.0⋅y₀⋅y₇\n",
      "x₁₆ = -x₁₅\n",
      "x₁₇ = y₀⋅y₈\n",
      "x₁₈ = 13000000.0⋅x₁₇\n",
      "x₁₉ = -x₁₈\n",
      "x₂₀ = 13000000.0⋅y₀⋅y₉\n",
      "x₂₁ = -x₂₀\n",
      "x₂₂ = 4.58e-8⋅y₁⋅y₄\n",
      "x₂₃ = 39500.0⋅y₃⋅y₅\n",
      "x₂₄ = -x₂₂ + x₂₃\n",
      "x₂₅ = 2.12e-5⋅y₁\n",
      "x₂₆ = 26000000.0⋅x₁₇\n",
      "x₂₇ = 1270.0⋅y₁\n",
      "x₂₈ = x₂₇⋅y₁₀\n",
      "x₂₉ = -x₂₈\n",
      "x₃₀ = x₂₇⋅y₁₂\n",
      "x₃₁ = -x₃₀\n",
      "x₃₂ = 0.000155⋅y₁⋅y₈\n",
      "x₃₃ = -x₃₂\n",
      "x₃₄ = 4070000.0⋅y₁₀⋅y₅\n",
      "x₃₅ = 118000000.0⋅y₁₁⋅y₂\n",
      "x₃₆ = 13300000.0⋅y₂\n",
      "x₃₇ = x₃₆⋅y₅\n",
      "x₃₈ = x₃₆⋅y₆\n",
      "x₃₉ = x₃₆⋅y₉\n",
      "x₄₀ = 10900000.0⋅y₄⋅y₅\n",
      "x₄₁ = 36500.0⋅y₄⋅y₆\n",
      "x₄₂ = 29200.0⋅y₅⋅y₆\n",
      "x₄₃ = 8840000.0⋅y₅⋅y₉\n",
      "x₄₄ = 101000.0⋅y₈⋅y₉\n",
      "x₄₅ = -x₄₄\n",
      "x₄₆ = x₁₃ + x₃₀ - x₃₇\n",
      "x₄₇ = 786000.0⋅y₁₀⋅y₁₂\n",
      "x₄₈ = -x₃₅\n",
      "x₄₉ = 128000.0⋅y₁₂⋅y₃\n",
      "x₅₀ = 4070000.0⋅y₁₂⋅y₆\n",
      "x₅₁ = -x₄\n",
      "x₅₂ = -x₃₈\n",
      "x₅₃ = -x₃₉\n",
      "x₅₄ = 11000000.0⋅y₅⋅y₈\n",
      "x₅₅ = -x₂₃\n",
      "x₅₆ = -x₄₉\n",
      "        2\n",
      "x₅₇ = y₄ \n",
      "x₅₈ = -x₄₀\n",
      "x₅₉ = -x₄₁\n",
      "x₆₀ = 13100000.0⋅y₄⋅y₇\n",
      "x₆₁ = -x₆₀\n",
      "x₆₂ = 11400000.0⋅y₄\n",
      "x₆₃ = x₆₂⋅y₈\n",
      "x₆₄ = -x₆₃\n",
      "x₆₅ = -x₆₂⋅y₉\n",
      "x₆₆ = 0.0943⋅y₅\n",
      "x₆₇ = -x₃₄\n",
      "x₆₈ = 50200000.0⋅y₁₁\n",
      "x₆₉ = x₆₈⋅y₁₂\n",
      "x₇₀ = -x₄₂\n",
      "x₇₁ = -x₅₄\n",
      "x₇₂ = -x₄₃\n",
      "        2\n",
      "x₇₃ = y₅ \n",
      "x₇₄ = x₆₈⋅y₁₀\n",
      "x₇₅ = -x₅₀\n",
      "        2\n",
      "x₇₆ = y₉ \n",
      "x₇₇ = 840.0⋅x₇₆\n",
      "x₇₈ = 2620.0⋅y₁₃\n",
      "x₇₉ = 3750000.0⋅y₁₂⋅y₇\n",
      "x₈₀ = -x₇₉\n",
      "x₈₁ = 773000.0⋅y₉\n",
      "x₈₂ = x₆₈⋅y₈\n",
      "x₈₃ = -x₈₂\n",
      "x₈₄ = 0.0943⋅y₆\n",
      "x₈₅ = -x₇₄\n",
      "x₈₆ = -x₄₇\n",
      "x₈₇ = -x₆₉\n"
     ]
    }
   ],
   "source": [
    "for var, expr in sub_exprs:\n",
    "    sym.pprint(sym.Eq(var, expr))"
   ]
  },
  {
   "cell_type": "markdown",
   "metadata": {},
   "source": [
    "`cse()` can return a number of simplified expressions and to do this it returns a list. In our case we have 1 simplified expression that can be accessed as the first item of the list."
   ]
  },
  {
   "cell_type": "code",
   "execution_count": 21,
   "metadata": {},
   "outputs": [
    {
     "data": {
      "text/plain": [
       "list"
      ]
     },
     "execution_count": 21,
     "metadata": {},
     "output_type": "execute_result"
    }
   ],
   "source": [
    "type(simplified_rhs)"
   ]
  },
  {
   "cell_type": "code",
   "execution_count": 22,
   "metadata": {},
   "outputs": [
    {
     "data": {
      "image/png": "[encoded data removed]",
      "text/latex": [
       "$$1$$"
      ],
      "text/plain": [
       "1"
      ]
     },
     "execution_count": 22,
     "metadata": {},
     "output_type": "execute_result"
    }
   ],
   "source": [
    "len(simplified_rhs)"
   ]
  },
  {
   "cell_type": "code",
   "execution_count": 23,
   "metadata": {},
   "outputs": [
    {
     "data": {
      "text/latex": [
       "$$\\left[\\begin{matrix}x_{1} + x_{10} + x_{12} + x_{14} + x_{16} + x_{19} + x_{21} + x_{3} + x_{4} + x_{7} + x_{8} + 0.0854\\\\x_{1} + x_{24} - x_{25} - x_{26} + x_{29} + x_{3} + x_{31} + x_{33} + x_{34} + x_{35} + x_{37} + x_{38} + x_{39} + x_{4} + x_{40} + x_{41} + x_{42} + x_{43} + x_{45} + x_{7} + 2.6 \\cdot 10^{-7} y_{6} - 0.131\\\\x_{0} + x_{11} + x_{2} + x_{25} + x_{26} + x_{28} + x_{32} + x_{44} + x_{46} + x_{47} + x_{48} + x_{49} + x_{50} + x_{51} + x_{52} + x_{53} + x_{54} + x_{6}\\\\x_{2} + x_{22} + 7260000.0 x_{5} + x_{55} + x_{56} + 5140000.0 x_{57} + 0.0136\\\\x_{0} + x_{24} + x_{3} + x_{49} + x_{51} - 10280000.0 x_{57} + x_{58} + x_{59} + x_{61} + x_{64} + x_{65} - x_{8} + x_{9} + 0.0188\\\\x_{12} + x_{22} + x_{41} + x_{46} + x_{55} + x_{58} - x_{66} + x_{67} + x_{69} + x_{70} + x_{71} + x_{72} - 9620000.0 x_{73} + 22800000.0 y_{4} y_{9} + 0.0871\\\\x_{14} + x_{18} + x_{28} + x_{44} + x_{52} + x_{59} + x_{70} + 4810000.0 x_{73} + x_{74} + x_{75} + x_{77} - 0.09430026 y_{6} + 0.0221\\\\x_{16} + x_{43} + x_{44} + x_{54} + x_{61} + x_{77} + x_{78} + x_{80} + 1.3 \\cdot 10^{-7} y_{6} + 8.19 \\cdot 10^{-7}\\\\x_{15} + x_{19} + x_{33} + x_{34} + x_{39} + x_{45} + x_{47} + x_{64} + x_{71} + x_{81} + x_{83}\\\\x_{21} + x_{32} + x_{42} + x_{45} + x_{50} + x_{53} + x_{60} + x_{65} + x_{72} - 1680.0 x_{76} - x_{81} + x_{82}\\\\x_{20} + x_{29} + x_{38} + x_{63} + x_{67} + x_{84} + x_{85} + x_{86}\\\\x_{10} + x_{25} + x_{48} + x_{66} + x_{8} + x_{81} + x_{83} + x_{84} + x_{85} + x_{87} + 0.0854\\\\x_{31} + x_{37} + x_{56} + x_{66} + x_{75} + x_{78} + x_{80} + x_{86} + x_{87}\\\\- x_{78} + x_{79}\\end{matrix}\\right]$$"
      ],
      "text/plain": [
       "⎡                                 x₁ + x₁₀ + x₁₂ + x₁₄ + x₁₆ + x₁₉ + x₂₁ + x₃ \n",
       "⎢                                                                             \n",
       "⎢x₁ + x₂₄ - x₂₅ - x₂₆ + x₂₉ + x₃ + x₃₁ + x₃₃ + x₃₄ + x₃₅ + x₃₇ + x₃₈ + x₃₉ + x\n",
       "⎢                                                                             \n",
       "⎢               x₀ + x₁₁ + x₂ + x₂₅ + x₂₆ + x₂₈ + x₃₂ + x₄₄ + x₄₆ + x₄₇ + x₄₈ \n",
       "⎢                                                                             \n",
       "⎢                                    x₂ + x₂₂ + 7260000.0⋅x₅ + x₅₅ + x₅₆ + 514\n",
       "⎢                                                                             \n",
       "⎢                     x₀ + x₂₄ + x₃ + x₄₉ + x₅₁ - 10280000.0⋅x₅₇ + x₅₈ + x₅₉ +\n",
       "⎢                                                                             \n",
       "⎢          x₁₂ + x₂₂ + x₄₁ + x₄₆ + x₅₅ + x₅₈ - x₆₆ + x₆₇ + x₆₉ + x₇₀ + x₇₁ + x\n",
       "⎢                                                                             \n",
       "⎢                 x₁₄ + x₁₈ + x₂₈ + x₄₄ + x₅₂ + x₅₉ + x₇₀ + 4810000.0⋅x₇₃ + x₇\n",
       "⎢                                                                             \n",
       "⎢                                 x₁₆ + x₄₃ + x₄₄ + x₅₄ + x₆₁ + x₇₇ + x₇₈ + x₈\n",
       "⎢                                                                             \n",
       "⎢                                   x₁₅ + x₁₉ + x₃₃ + x₃₄ + x₃₉ + x₄₅ + x₄₇ + \n",
       "⎢                                                                             \n",
       "⎢                            x₂₁ + x₃₂ + x₄₂ + x₄₅ + x₅₀ + x₅₃ + x₆₀ + x₆₅ + x\n",
       "⎢                                                                             \n",
       "⎢                                            x₂₀ + x₂₉ + x₃₈ + x₆₃ + x₆₇ + x₈₄\n",
       "⎢                                                                             \n",
       "⎢                                  x₁₀ + x₂₅ + x₄₈ + x₆₆ + x₈ + x₈₁ + x₈₃ + x₈\n",
       "⎢                                                                             \n",
       "⎢                                         x₃₁ + x₃₇ + x₅₆ + x₆₆ + x₇₅ + x₇₈ + \n",
       "⎢                                                                             \n",
       "⎣                                                             -x₇₈ + x₇₉      \n",
       "\n",
       "+ x₄ + x₇ + x₈ + 0.0854                                 ⎤\n",
       "                                                        ⎥\n",
       "₄ + x₄₀ + x₄₁ + x₄₂ + x₄₃ + x₄₅ + x₇ + 2.6e-7⋅y₆ - 0.131⎥\n",
       "                                                        ⎥\n",
       "+ x₄₉ + x₅₀ + x₅₁ + x₅₂ + x₅₃ + x₅₄ + x₆                ⎥\n",
       "                                                        ⎥\n",
       "0000.0⋅x₅₇ + 0.0136                                     ⎥\n",
       "                                                        ⎥\n",
       " x₆₁ + x₆₄ + x₆₅ - x₈ + x₉ + 0.0188                     ⎥\n",
       "                                                        ⎥\n",
       "₇₂ - 9620000.0⋅x₇₃ + 22800000.0⋅y₄⋅y₉ + 0.0871          ⎥\n",
       "                                                        ⎥\n",
       "₄ + x₇₅ + x₇₇ - 0.09430026⋅y₆ + 0.0221                  ⎥\n",
       "                                                        ⎥\n",
       "₀ + 1.3e-7⋅y₆ + 8.19e-7                                 ⎥\n",
       "                                                        ⎥\n",
       "x₆₄ + x₇₁ + x₈₁ + x₈₃                                   ⎥\n",
       "                                                        ⎥\n",
       "₇₂ - 1680.0⋅x₇₆ - x₈₁ + x₈₂                             ⎥\n",
       "                                                        ⎥\n",
       " + x₈₅ + x₈₆                                            ⎥\n",
       "                                                        ⎥\n",
       "₄ + x₈₅ + x₈₇ + 0.0854                                  ⎥\n",
       "                                                        ⎥\n",
       "x₈₀ + x₈₆ + x₈₇                                         ⎥\n",
       "                                                        ⎥\n",
       "                                                        ⎦"
      ]
     },
     "execution_count": 23,
     "metadata": {},
     "output_type": "execute_result"
    }
   ],
   "source": [
    "simplified_rhs[0]"
   ]
  },
  {
   "cell_type": "markdown",
   "metadata": {},
   "source": [
    "You can find common subexpressions among multiple objects also:"
   ]
  },
  {
   "cell_type": "code",
   "execution_count": 24,
   "metadata": {
    "collapsed": true
   },
   "outputs": [],
   "source": [
    "jac_of_odes = rhs_of_odes.jacobian(states)\n",
    "\n",
    "sub_exprs, simplified_exprs = sym.cse((rhs_of_odes, jac_of_odes))"
   ]
  },
  {
   "cell_type": "code",
   "execution_count": 25,
   "metadata": {},
   "outputs": [
    {
     "name": "stdout",
     "output_type": "stream",
     "text": [
      "x₀ = 0.0158⋅y₀\n",
      "x₁ = x₀⋅y₁\n",
      "x₂ = -x₁\n",
      "x₃ = 27600000.0⋅y₀\n",
      "x₄ = x₃⋅y₄\n",
      "x₅ = -x₄\n",
      "x₆ = 24400.0⋅y₂\n",
      "x₇ = x₆⋅y₄\n",
      "       2\n",
      "x₈ = y₀ \n",
      "x₉ = 14520000.0⋅x₈\n",
      "x₁₀ = -x₉\n",
      "x₁₁ = 5.83⋅y₄\n",
      "x₁₂ = 20900000.0⋅y₀\n",
      "x₁₃ = x₁₂⋅y₁₁\n",
      "x₁₄ = -x₁₃\n",
      "x₁₅ = 35500000.0⋅y₀\n",
      "x₁₆ = x₁₅⋅y₅\n",
      "x₁₇ = -x₁₆\n",
      "x₁₈ = 13600000.0⋅y₀\n",
      "x₁₉ = x₁₈⋅y₆\n",
      "x₂₀ = -x₁₉\n",
      "x₂₁ = 22900000.0⋅y₀\n",
      "x₂₂ = x₂₁⋅y₇\n",
      "x₂₃ = -x₂₂\n",
      "x₂₄ = 13000000.0⋅y₀\n",
      "x₂₅ = x₂₄⋅y₈\n",
      "x₂₆ = -x₂₅\n",
      "x₂₇ = x₂₄⋅y₉\n",
      "x₂₈ = -x₂₇\n",
      "x₂₉ = 4.58e-8⋅y₁\n",
      "x₃₀ = x₂₉⋅y₄\n",
      "x₃₁ = 39500.0⋅y₃\n",
      "x₃₂ = x₃₁⋅y₅\n",
      "x₃₃ = -x₃₀ + x₃₂\n",
      "x₃₄ = 2.12e-5⋅y₁\n",
      "x₃₅ = 26000000.0⋅y₀\n",
      "x₃₆ = x₃₅⋅y₈\n",
      "x₃₇ = 1270.0⋅y₁\n",
      "x₃₈ = x₃₇⋅y₁₀\n",
      "x₃₉ = -x₃₈\n",
      "x₄₀ = x₃₇⋅y₁₂\n",
      "x₄₁ = -x₄₀\n",
      "x₄₂ = 0.000155⋅y₁\n",
      "x₄₃ = x₄₂⋅y₈\n",
      "x₄₄ = -x₄₃\n",
      "x₄₅ = 4070000.0⋅y₁₀\n",
      "x₄₆ = x₄₅⋅y₅\n",
      "x₄₇ = 118000000.0⋅y₁₁\n",
      "x₄₈ = x₄₇⋅y₂\n",
      "x₄₉ = 13300000.0⋅y₂\n",
      "x₅₀ = x₄₉⋅y₅\n",
      "x₅₁ = x₄₉⋅y₆\n",
      "x₅₂ = x₄₉⋅y₉\n",
      "x₅₃ = 10900000.0⋅y₄\n",
      "x₅₄ = x₅₃⋅y₅\n",
      "x₅₅ = 36500.0⋅y₄\n",
      "x₅₆ = x₅₅⋅y₆\n",
      "x₅₇ = 29200.0⋅y₅\n",
      "x₅₈ = x₅₇⋅y₆\n",
      "x₅₉ = 8840000.0⋅y₅\n",
      "x₆₀ = x₅₉⋅y₉\n",
      "x₆₁ = 101000.0⋅y₈\n",
      "x₆₂ = x₆₁⋅y₉\n",
      "x₆₃ = -x₆₂\n",
      "x₆₄ = x₁₉ + x₄₀ - x₅₀\n",
      "x₆₅ = 786000.0⋅y₁₀\n",
      "x₆₆ = x₆₅⋅y₁₂\n",
      "x₆₇ = -x₄₈\n",
      "x₆₈ = 128000.0⋅y₁₂\n",
      "x₆₉ = x₆₈⋅y₃\n",
      "x₇₀ = 4070000.0⋅y₁₂\n",
      "x₇₁ = x₇₀⋅y₆\n",
      "x₇₂ = -x₇\n",
      "x₇₃ = -x₅₁\n",
      "x₇₄ = -x₅₂\n",
      "x₇₅ = 11000000.0⋅y₅\n",
      "x₇₆ = x₇₅⋅y₈\n",
      "x₇₇ = -x₃₂\n",
      "x₇₈ = -x₆₉\n",
      "        2\n",
      "x₇₉ = y₄ \n",
      "x₈₀ = -x₅₄\n",
      "x₈₁ = -x₅₆\n",
      "x₈₂ = 13100000.0⋅y₄\n",
      "x₈₃ = x₈₂⋅y₇\n",
      "x₈₄ = -x₈₃\n",
      "x₈₅ = 11400000.0⋅y₄\n",
      "x₈₆ = x₈₅⋅y₈\n",
      "x₈₇ = -x₈₆\n",
      "x₈₈ = -x₈₅⋅y₉\n",
      "x₈₉ = 0.0943⋅y₅\n",
      "x₉₀ = -x₄₆\n",
      "x₉₁ = 50200000.0⋅y₁₁\n",
      "x₉₂ = x₉₁⋅y₁₂\n",
      "x₉₃ = 22800000.0⋅y₄\n",
      "x₉₄ = -x₅₈\n",
      "x₉₅ = -x₇₆\n",
      "x₉₆ = -x₆₀\n",
      "        2\n",
      "x₉₇ = y₅ \n",
      "x₉₈ = 50200000.0⋅y₁₀\n",
      "x₉₉ = x₉₈⋅y₁₁\n",
      "x₁₀₀ = -x₇₁\n",
      "         2\n",
      "x₁₀₁ = y₉ \n",
      "x₁₀₂ = 840.0⋅x₁₀₁\n",
      "x₁₀₃ = 2620.0⋅y₁₃\n",
      "x₁₀₄ = 3750000.0⋅y₁₂\n",
      "x₁₀₅ = x₁₀₄⋅y₇\n",
      "x₁₀₆ = -x₁₀₅\n",
      "x₁₀₇ = 773000.0⋅y₉\n",
      "x₁₀₈ = x₉₁⋅y₈\n",
      "x₁₀₉ = -x₁₀₈\n",
      "x₁₁₀ = 0.0943⋅y₆\n",
      "x₁₁₁ = -x₉₉\n",
      "x₁₁₂ = -x₆₆\n",
      "x₁₁₃ = -x₉₂\n",
      "x₁₁₄ = 29040000.0⋅y₀\n",
      "x₁₁₅ = 0.0158⋅y₁\n",
      "x₁₁₆ = 27600000.0⋅y₄\n",
      "x₁₁₇ = -x₁₁₆\n",
      "x₁₁₈ = -x₁₁₄ - x₁₁₅ + x₁₁₇\n",
      "x₁₁₉ = 20900000.0⋅y₁₁\n",
      "x₁₂₀ = -x₁₁₉\n",
      "x₁₂₁ = 35500000.0⋅y₅\n",
      "x₁₂₂ = -x₁₂₁\n",
      "x₁₂₃ = 13600000.0⋅y₆\n",
      "x₁₂₄ = -x₁₂₃\n",
      "x₁₂₅ = 22900000.0⋅y₇\n",
      "x₁₂₆ = -x₁₂₅\n",
      "x₁₂₇ = 13000000.0⋅y₈\n",
      "x₁₂₈ = -x₁₂₇\n",
      "x₁₂₉ = 13000000.0⋅y₉\n",
      "x₁₃₀ = -x₁₂₉\n",
      "x₁₃₁ = -x₀\n",
      "x₁₃₂ = 24400.0⋅y₄\n",
      "x₁₃₃ = -x₃\n",
      "x₁₃₄ = x₁₃₃ + x₆\n",
      "x₁₃₅ = -x₁₅\n",
      "x₁₃₆ = -x₁₈\n",
      "x₁₃₇ = -x₂₁\n",
      "x₁₃₈ = -x₂₄\n",
      "x₁₃₉ = -x₁₂\n",
      "x₁₄₀ = 26000000.0⋅y₈\n",
      "x₁₄₁ = 1270.0⋅y₁₀\n",
      "x₁₄₂ = -x₁₄₁\n",
      "x₁₄₃ = 1270.0⋅y₁₂\n",
      "x₁₄₄ = -x₁₄₃\n",
      "x₁₄₅ = 4.58e-8⋅y₄\n",
      "x₁₄₆ = -x₁₄₅\n",
      "x₁₄₇ = 0.000155⋅y₈\n",
      "x₁₄₈ = -x₁₄₇\n",
      "x₁₄₉ = 13300000.0⋅y₅\n",
      "x₁₅₀ = 13300000.0⋅y₆\n",
      "x₁₅₁ = 13300000.0⋅y₉\n",
      "x₁₅₂ = 39500.0⋅y₅\n",
      "x₁₅₃ = -x₂₉\n",
      "x₁₅₄ = 10900000.0⋅y₅\n",
      "x₁₅₅ = 36500.0⋅y₆\n",
      "x₁₅₆ = 29200.0⋅y₆\n",
      "x₁₅₇ = 8840000.0⋅y₉\n",
      "x₁₅₈ = -x₄₂\n",
      "x₁₅₉ = 101000.0⋅y₉\n",
      "x₁₆₀ = -x₁₅₉\n",
      "x₁₆₁ = -x₆₁\n",
      "x₁₆₂ = x₁₆₁ + x₄₉\n",
      "x₁₆₃ = -x₃₇\n",
      "x₁₆₄ = 4070000.0⋅y₅\n",
      "x₁₆₅ = 118000000.0⋅y₂\n",
      "x₁₆₆ = -x₄₇\n",
      "x₁₆₇ = -x₁₃₂\n",
      "x₁₆₈ = -x₁₄₉\n",
      "x₁₆₉ = -x₁₅₀\n",
      "x₁₇₀ = -x₁₅₁\n",
      "x₁₇₁ = -x₆\n",
      "x₁₇₂ = -x₄₉\n",
      "x₁₇₃ = 11000000.0⋅y₈\n",
      "x₁₇₄ = x₁₅₉ + x₇₅\n",
      "x₁₇₅ = 786000.0⋅y₁₂\n",
      "x₁₇₆ = -x₁₆₅\n",
      "x₁₇₇ = 128000.0⋅y₃\n",
      "x₁₇₈ = 4070000.0⋅y₆\n",
      "x₁₇₉ = -x₆₈\n",
      "x₁₈₀ = -x₁₅₂\n",
      "x₁₈₁ = -x₃₁\n",
      "x₁₈₂ = -x₁₇₇\n",
      "x₁₈₃ = -x₁₅₄\n",
      "x₁₈₄ = -x₁₅₅\n",
      "x₁₈₅ = 13100000.0⋅y₇\n",
      "x₁₈₆ = -x₁₈₅\n",
      "x₁₈₇ = 11400000.0⋅y₈\n",
      "x₁₈₈ = -x₁₈₇\n",
      "x₁₈₉ = -11400000.0⋅y₉\n",
      "x₁₉₀ = -x₅₃\n",
      "x₁₉₁ = -x₅₅\n",
      "x₁₉₂ = -x₈₂\n",
      "x₁₉₃ = -x₈₅\n",
      "x₁₉₄ = -x₄₅\n",
      "x₁₉₅ = -x₁₅₆\n",
      "x₁₉₆ = -x₁₇₃\n",
      "x₁₉₇ = -x₁₅₇\n",
      "x₁₉₈ = -x₅₇\n",
      "x₁₉₉ = -x₇₅\n",
      "x₂₀₀ = -x₅₉\n",
      "x₂₀₁ = -x₁₆₄\n",
      "x₂₀₂ = 50200000.0⋅y₁₂\n",
      "x₂₀₃ = x₃₇ + x₉₁\n",
      "x₂₀₄ = -x₇₀\n",
      "x₂₀₅ = x₆₁ + 1680.0⋅y₉\n",
      "x₂₀₆ = -x₁₇₈\n",
      "x₂₀₇ = -x₁₀₄\n",
      "x₂₀₈ = 3750000.0⋅y₇\n",
      "x₂₀₉ = -x₂₀₈\n",
      "x₂₁₀ = x₁₃₈ + x₁₉₃\n",
      "x₂₁₁ = -x₉₁\n",
      "x₂₁₂ = 50200000.0⋅y₈\n",
      "x₂₁₃ = -x₂₁₂\n",
      "x₂₁₄ = x₄₉ + 0.0943\n",
      "x₂₁₅ = x₁₆₃ + x₂₁₁\n",
      "x₂₁₆ = -x₁₇₅\n",
      "x₂₁₇ = -x₉₈\n",
      "x₂₁₈ = -x₆₅\n",
      "x₂₁₉ = -x₂₀₂\n"
     ]
    }
   ],
   "source": [
    "for var, expr in sub_exprs:\n",
    "    sym.pprint(sym.Eq(var, expr))"
   ]
  },
  {
   "cell_type": "code",
   "execution_count": 26,
   "metadata": {},
   "outputs": [
    {
     "data": {
      "text/latex": [
       "$$\\left[\\begin{matrix}x_{10} + x_{11} + x_{14} + x_{17} + x_{2} + x_{20} + x_{23} + x_{26} + x_{28} + x_{5} + x_{7} + 0.0854\\\\x_{10} + x_{2} + x_{33} - x_{34} - x_{36} + x_{39} + x_{41} + x_{44} + x_{46} + x_{48} + x_{5} + x_{50} + x_{51} + x_{52} + x_{54} + x_{56} + x_{58} + x_{60} + x_{63} + x_{7} + 2.6 \\cdot 10^{-7} y_{6} - 0.131\\\\x_{1} + x_{16} + x_{34} + x_{36} + x_{38} + x_{4} + x_{43} + x_{62} + x_{64} + x_{66} + x_{67} + x_{69} + x_{71} + x_{72} + x_{73} + x_{74} + x_{76} + x_{9}\\\\x_{30} + x_{4} + x_{77} + x_{78} + 5140000.0 x_{79} + 7260000.0 x_{8} + 0.0136\\\\x_{1} - x_{11} + x_{13} + x_{33} + x_{5} + x_{69} + x_{72} - 10280000.0 x_{79} + x_{80} + x_{81} + x_{84} + x_{87} + x_{88} + 0.0188\\\\x_{17} + x_{30} + x_{56} + x_{64} + x_{77} + x_{80} - x_{89} + x_{90} + x_{92} + x_{93} y_{9} + x_{94} + x_{95} + x_{96} - 9620000.0 x_{97} + 0.0871\\\\x_{100} + x_{102} + x_{20} + x_{25} + x_{38} + x_{62} + x_{73} + x_{81} + x_{94} + 4810000.0 x_{97} + x_{99} - 0.09430026 y_{6} + 0.0221\\\\x_{102} + x_{103} + x_{106} + x_{23} + x_{60} + x_{62} + x_{76} + x_{84} + 1.3 \\cdot 10^{-7} y_{6} + 8.19 \\cdot 10^{-7}\\\\x_{107} + x_{109} + x_{22} + x_{26} + x_{44} + x_{46} + x_{52} + x_{63} + x_{66} + x_{87} + x_{95}\\\\- 1680.0 x_{101} - x_{107} + x_{108} + x_{28} + x_{43} + x_{58} + x_{63} + x_{71} + x_{74} + x_{83} + x_{88} + x_{96}\\\\x_{110} + x_{111} + x_{112} + x_{27} + x_{39} + x_{51} + x_{86} + x_{90}\\\\x_{107} + x_{109} + x_{11} + x_{110} + x_{111} + x_{113} + x_{14} + x_{34} + x_{67} + x_{89} + 0.0854\\\\x_{100} + x_{103} + x_{106} + x_{112} + x_{113} + x_{41} + x_{50} + x_{78} + x_{89}\\\\- x_{103} + x_{105}\\end{matrix}\\right]$$"
      ],
      "text/plain": [
       "⎡                                x₁₀ + x₁₁ + x₁₄ + x₁₇ + x₂ + x₂₀ + x₂₃ + x₂₆ \n",
       "⎢                                                                             \n",
       "⎢x₁₀ + x₂ + x₃₃ - x₃₄ - x₃₆ + x₃₉ + x₄₁ + x₄₄ + x₄₆ + x₄₈ + x₅ + x₅₀ + x₅₁ + x\n",
       "⎢                                                                             \n",
       "⎢                x₁ + x₁₆ + x₃₄ + x₃₆ + x₃₈ + x₄ + x₄₃ + x₆₂ + x₆₄ + x₆₆ + x₆₇\n",
       "⎢                                                                             \n",
       "⎢                                     x₃₀ + x₄ + x₇₇ + x₇₈ + 5140000.0⋅x₇₉ + 7\n",
       "⎢                                                                             \n",
       "⎢                    x₁ - x₁₁ + x₁₃ + x₃₃ + x₅ + x₆₉ + x₇₂ - 10280000.0⋅x₇₉ + \n",
       "⎢                                                                             \n",
       "⎢               x₁₇ + x₃₀ + x₅₆ + x₆₄ + x₇₇ + x₈₀ - x₈₉ + x₉₀ + x₉₂ + x₉₃⋅y₉ +\n",
       "⎢                                                                             \n",
       "⎢                 x₁₀₀ + x₁₀₂ + x₂₀ + x₂₅ + x₃₈ + x₆₂ + x₇₃ + x₈₁ + x₉₄ + 4810\n",
       "⎢                                                                             \n",
       "⎢                                x₁₀₂ + x₁₀₃ + x₁₀₆ + x₂₃ + x₆₀ + x₆₂ + x₇₆ + \n",
       "⎢                                                                             \n",
       "⎢                                  x₁₀₇ + x₁₀₉ + x₂₂ + x₂₆ + x₄₄ + x₄₆ + x₅₂ +\n",
       "⎢                                                                             \n",
       "⎢                           -1680.0⋅x₁₀₁ - x₁₀₇ + x₁₀₈ + x₂₈ + x₄₃ + x₅₈ + x₆₃\n",
       "⎢                                                                             \n",
       "⎢                                           x₁₁₀ + x₁₁₁ + x₁₁₂ + x₂₇ + x₃₉ + x\n",
       "⎢                                                                             \n",
       "⎢                               x₁₀₇ + x₁₀₉ + x₁₁ + x₁₁₀ + x₁₁₁ + x₁₁₃ + x₁₄ +\n",
       "⎢                                                                             \n",
       "⎢                                       x₁₀₀ + x₁₀₃ + x₁₀₆ + x₁₁₂ + x₁₁₃ + x₄₁\n",
       "⎢                                                                             \n",
       "⎣                                                             -x₁₀₃ + x₁₀₅    \n",
       "\n",
       "+ x₂₈ + x₅ + x₇ + 0.0854                                 ⎤\n",
       "                                                         ⎥\n",
       "₅₂ + x₅₄ + x₅₆ + x₅₈ + x₆₀ + x₆₃ + x₇ + 2.6e-7⋅y₆ - 0.131⎥\n",
       "                                                         ⎥\n",
       " + x₆₉ + x₇₁ + x₇₂ + x₇₃ + x₇₄ + x₇₆ + x₉                ⎥\n",
       "                                                         ⎥\n",
       "260000.0⋅x₈ + 0.0136                                     ⎥\n",
       "                                                         ⎥\n",
       "x₈₀ + x₈₁ + x₈₄ + x₈₇ + x₈₈ + 0.0188                     ⎥\n",
       "                                                         ⎥\n",
       " x₉₄ + x₉₅ + x₉₆ - 9620000.0⋅x₉₇ + 0.0871                ⎥\n",
       "                                                         ⎥\n",
       "000.0⋅x₉₇ + x₉₉ - 0.09430026⋅y₆ + 0.0221                 ⎥\n",
       "                                                         ⎥\n",
       "x₈₄ + 1.3e-7⋅y₆ + 8.19e-7                                ⎥\n",
       "                                                         ⎥\n",
       " x₆₃ + x₆₆ + x₈₇ + x₉₅                                   ⎥\n",
       "                                                         ⎥\n",
       " + x₇₁ + x₇₄ + x₈₃ + x₈₈ + x₉₆                           ⎥\n",
       "                                                         ⎥\n",
       "₅₁ + x₈₆ + x₉₀                                           ⎥\n",
       "                                                         ⎥\n",
       " x₃₄ + x₆₇ + x₈₉ + 0.0854                                ⎥\n",
       "                                                         ⎥\n",
       " + x₅₀ + x₇₈ + x₈₉                                       ⎥\n",
       "                                                         ⎥\n",
       "                                                         ⎦"
      ]
     },
     "execution_count": 26,
     "metadata": {},
     "output_type": "execute_result"
    }
   ],
   "source": [
    "simplified_exprs[0]"
   ]
  },
  {
   "cell_type": "code",
   "execution_count": 27,
   "metadata": {},
   "outputs": [
    {
     "data": {
      "text/latex": [
       "$$\\left[\\begin{array}{cccccccccccccc}x_{118} + x_{120} + x_{122} + x_{124} + x_{126} + x_{128} + x_{130} & x_{131} & x_{132} & 0 & x_{134} + 5.83 & x_{135} & x_{136} & x_{137} & x_{138} & x_{138} & 0 & x_{139} & 0 & 0\\\\x_{118} - x_{140} & x_{131} + x_{142} + x_{144} + x_{146} + x_{148} - 2.12 \\cdot 10^{-5} & x_{132} + x_{149} + x_{150} + x_{151} + x_{47} & x_{152} & x_{134} + x_{153} + x_{154} + x_{155} & x_{156} + x_{157} + x_{31} + x_{45} + x_{49} + x_{53} & x_{49} + x_{55} + x_{57} + 2.6 \\cdot 10^{-7} & 0 & x_{158} + x_{160} - x_{35} & x_{162} + x_{59} & x_{163} + x_{164} & x_{165} & x_{163} & 0\\\\x_{114} + x_{115} + x_{116} + x_{121} + x_{123} + x_{140} & x_{0} + x_{141} + x_{143} + x_{147} + 2.12 \\cdot 10^{-5} & x_{166} + x_{167} + x_{168} + x_{169} + x_{170} & x_{68} & x_{171} + x_{3} & x_{15} + x_{172} + x_{173} & x_{172} + x_{18} + x_{70} & 0 & x_{174} + x_{35} + x_{42} & x_{172} + x_{61} & x_{175} + x_{37} & x_{176} & x_{177} + x_{178} + x_{37} + x_{65} & 0\\\\x_{116} + 14520000.0 y_{0} & x_{145} & 0 & x_{179} + x_{180} & x_{29} + x_{3} + 10280000.0 y_{4} & x_{181} & 0 & 0 & 0 & 0 & 0 & 0 & x_{182} & 0\\\\x_{115} + x_{117} + x_{119} & x_{0} + x_{146} & x_{167} & x_{152} + x_{68} & x_{133} + x_{153} + x_{171} + x_{183} + x_{184} + x_{186} + x_{188} + x_{189} - 20560000.0 y_{4} - 5.83 & x_{190} + x_{31} & x_{191} & x_{192} & x_{193} & x_{193} & 0 & x_{12} & x_{177} & 0\\\\x_{122} + x_{123} & x_{143} + x_{145} & x_{168} & x_{180} & x_{155} + x_{183} + x_{29} + 22800000.0 y_{9} & x_{135} + x_{172} + x_{181} + x_{190} + x_{194} + x_{195} + x_{196} + x_{197} - 19240000.0 y_{5} - 0.0943 & x_{18} + x_{198} + x_{55} & 0 & x_{199} & x_{200} + x_{93} & x_{201} & x_{202} & x_{203} & 0\\\\x_{124} + x_{127} & x_{141} & x_{169} & 0 & x_{184} & x_{195} + 9620000.0 y_{5} & x_{136} + x_{172} + x_{191} + x_{198} + x_{204} - 0.09430026 & 0 & x_{159} + x_{24} & x_{205} & x_{203} & x_{98} & x_{206} & 0\\\\x_{126} & 0 & 0 & 0 & x_{186} & x_{157} + x_{173} & 1.3 \\cdot 10^{-7} & x_{137} + x_{192} + x_{207} & x_{174} & x_{205} + x_{59} & 0 & 0 & x_{209} & 2620.0\\\\x_{125} + x_{128} & x_{148} & x_{151} & 0 & x_{188} & x_{196} + x_{45} & 0 & x_{21} & x_{158} + x_{160} + x_{199} + x_{210} + x_{211} & x_{162} + 773000.0 & x_{164} + x_{175} & x_{213} & x_{65} & 0\\\\x_{130} & x_{147} & x_{170} & 0 & x_{185} + x_{189} & x_{156} + x_{197} & x_{57} + x_{70} & x_{82} & x_{160} + x_{42} + x_{91} & x_{161} + x_{172} + x_{200} + x_{210} - 3360.0 y_{9} - 773000.0 & 0 & x_{212} & x_{178} & 0\\\\x_{129} & x_{142} & x_{150} & 0 & x_{187} & x_{194} & x_{214} & 0 & x_{85} & x_{24} & x_{201} + x_{215} + x_{216} & x_{217} & x_{218} & 0\\\\x_{120} & 2.12 \\cdot 10^{-5} & x_{166} & 0 & 5.83 & 0.0943 & 0.0943 & 0 & x_{211} & 773000.0 & x_{211} & x_{139} + x_{176} + x_{213} + x_{217} + x_{219} & x_{211} & 0\\\\0 & x_{144} & x_{149} & x_{179} & 0 & x_{214} & x_{204} & x_{207} & 0 & 0 & x_{216} & x_{219} & x_{182} + x_{206} + x_{209} + x_{215} + x_{218} & 2620.0\\\\0 & 0 & 0 & 0 & 0 & 0 & 0 & x_{104} & 0 & 0 & 0 & 0 & x_{208} & -2620.0\\end{array}\\right]$$"
      ],
      "text/plain": [
       "⎡x₁₁₈ + x₁₂₀ + x₁₂₂ + x₁₂₄ + x₁₂₆ + x₁₂₈ + x₁₃₀                     x₁₃₁      \n",
       "⎢                                                                             \n",
       "⎢                 x₁₁₈ - x₁₄₀                    x₁₃₁ + x₁₄₂ + x₁₄₄ + x₁₄₆ + x\n",
       "⎢                                                                             \n",
       "⎢   x₁₁₄ + x₁₁₅ + x₁₁₆ + x₁₂₁ + x₁₂₃ + x₁₄₀          x₀ + x₁₄₁ + x₁₄₃ + x₁₄₇ +\n",
       "⎢                                                                             \n",
       "⎢             x₁₁₆ + 14520000.0⋅y₀                                  x₁₄₅      \n",
       "⎢                                                                             \n",
       "⎢              x₁₁₅ + x₁₁₇ + x₁₁₉                                x₀ + x₁₄₆    \n",
       "⎢                                                                             \n",
       "⎢                 x₁₂₂ + x₁₂₃                                   x₁₄₃ + x₁₄₅   \n",
       "⎢                                                                             \n",
       "⎢                 x₁₂₄ + x₁₂₇                                       x₁₄₁      \n",
       "⎢                                                                             \n",
       "⎢                     x₁₂₆                                           0        \n",
       "⎢                                                                             \n",
       "⎢                 x₁₂₅ + x₁₂₈                                       x₁₄₈      \n",
       "⎢                                                                             \n",
       "⎢                     x₁₃₀                                          x₁₄₇      \n",
       "⎢                                                                             \n",
       "⎢                     x₁₂₉                                          x₁₄₂      \n",
       "⎢                                                                             \n",
       "⎢                     x₁₂₀                                        2.12e-5     \n",
       "⎢                                                                             \n",
       "⎢                      0                                            x₁₄₄      \n",
       "⎢                                                                             \n",
       "⎣                      0                                             0        \n",
       "\n",
       "                             x₁₃₂                     0                       \n",
       "                                                                              \n",
       "₁₄₈ - 2.12e-5  x₁₃₂ + x₁₄₉ + x₁₅₀ + x₁₅₁ + x₄₇      x₁₅₂                      \n",
       "                                                                              \n",
       " 2.12e-5       x₁₆₆ + x₁₆₇ + x₁₆₈ + x₁₆₉ + x₁₇₀      x₆₈                      \n",
       "                                                                              \n",
       "                              0                  x₁₇₉ + x₁₈₀                  \n",
       "                                                                              \n",
       "                             x₁₆₇                x₁₅₂ + x₆₈   x₁₃₃ + x₁₅₃ + x₁\n",
       "                                                                              \n",
       "                             x₁₆₈                   x₁₈₀                      \n",
       "                                                                              \n",
       "                             x₁₆₉                     0                       \n",
       "                                                                              \n",
       "                              0                       0                       \n",
       "                                                                              \n",
       "                             x₁₅₁                     0                       \n",
       "                                                                              \n",
       "                             x₁₇₀                     0                       \n",
       "                                                                              \n",
       "                             x₁₅₀                     0                       \n",
       "                                                                              \n",
       "                             x₁₆₆                     0                       \n",
       "                                                                              \n",
       "                             x₁₄₉                   x₁₇₉                      \n",
       "                                                                              \n",
       "                              0                       0                       \n",
       "\n",
       "                x₁₃₄ + 5.83                                                   \n",
       "                                                                              \n",
       "         x₁₃₄ + x₁₅₃ + x₁₅₄ + x₁₅₅                                            \n",
       "                                                                              \n",
       "                 x₁₇₁ + x₃                                                    \n",
       "                                                                              \n",
       "          x₂₉ + x₃ + 10280000.0⋅y₄                                            \n",
       "                                                                              \n",
       "₇₁ + x₁₈₃ + x₁₈₄ + x₁₈₆ + x₁₈₈ + x₁₈₉ - 20560000.0⋅y₄ - 5.83                  \n",
       "                                                                              \n",
       "     x₁₅₅ + x₁₈₃ + x₂₉ + 22800000.0⋅y₉                        x₁₃₅ + x₁₇₂ + x₁\n",
       "                                                                              \n",
       "                    x₁₈₄                                                      \n",
       "                                                                              \n",
       "                    x₁₈₆                                                      \n",
       "                                                                              \n",
       "                    x₁₈₈                                                      \n",
       "                                                                              \n",
       "                x₁₈₅ + x₁₈₉                                                   \n",
       "                                                                              \n",
       "                    x₁₈₇                                                      \n",
       "                                                                              \n",
       "                    5.83                                                      \n",
       "                                                                              \n",
       "                     0                                                        \n",
       "                                                                              \n",
       "                     0                                                        \n",
       "\n",
       "                     x₁₃₅                                                     \n",
       "                                                                              \n",
       "     x₁₅₆ + x₁₅₇ + x₃₁ + x₄₅ + x₄₉ + x₅₃                                  x₄₉ \n",
       "                                                                              \n",
       "              x₁₅ + x₁₇₂ + x₁₇₃                                               \n",
       "                                                                              \n",
       "                     x₁₈₁                                                     \n",
       "                                                                              \n",
       "                  x₁₉₀ + x₃₁                                                  \n",
       "                                                                              \n",
       "₈₁ + x₁₉₀ + x₁₉₄ + x₁₉₅ + x₁₉₆ + x₁₉₇ - 19240000.0⋅y₅ - 0.0943                \n",
       "                                                                              \n",
       "             x₁₉₅ + 9620000.0⋅y₅                                x₁₃₆ + x₁₇₂ + \n",
       "                                                                              \n",
       "                 x₁₅₇ + x₁₇₃                                                  \n",
       "                                                                              \n",
       "                  x₁₉₆ + x₄₅                                                  \n",
       "                                                                              \n",
       "                 x₁₅₆ + x₁₉₇                                                  \n",
       "                                                                              \n",
       "                     x₁₉₄                                                     \n",
       "                                                                              \n",
       "                    0.0943                                                    \n",
       "                                                                              \n",
       "                     x₂₁₄                                                     \n",
       "                                                                              \n",
       "                      0                                                       \n",
       "\n",
       "      x₁₃₆                              x₁₃₇                       x₁₃₈       \n",
       "                                                                              \n",
       "+ x₅₅ + x₅₇ + 2.6e-7                     0                  x₁₅₈ + x₁₆₀ - x₃₅ \n",
       "                                                                              \n",
       "x₁₇₂ + x₁₈ + x₇₀                         0                   x₁₇₄ + x₃₅ + x₄₂ \n",
       "                                                                              \n",
       "        0                                0                          0         \n",
       "                                                                              \n",
       "      x₁₉₁                              x₁₉₂                       x₁₉₃       \n",
       "                                                                              \n",
       "x₁₈ + x₁₉₈ + x₅₅                         0                         x₁₉₉       \n",
       "                                                                              \n",
       "x₁₉₁ + x₁₉₈ + x₂₀₄ - 0.09430026          0                      x₁₅₉ + x₂₄    \n",
       "                                                                              \n",
       "     1.3e-7                      x₁₃₇ + x₁₉₂ + x₂₀₇                x₁₇₄       \n",
       "                                                                              \n",
       "        0                               x₂₁          x₁₅₈ + x₁₆₀ + x₁₉₉ + x₂₁₀\n",
       "                                                                              \n",
       "    x₅₇ + x₇₀                           x₈₂                  x₁₆₀ + x₄₂ + x₉₁ \n",
       "                                                                              \n",
       "      x₂₁₄                               0                         x₈₅        \n",
       "                                                                              \n",
       "     0.0943                              0                         x₂₁₁       \n",
       "                                                                              \n",
       "      x₂₀₄                              x₂₀₇                        0         \n",
       "                                                                              \n",
       "        0                               x₁₀₄                        0         \n",
       "\n",
       "                               x₁₃₈                                0          \n",
       "                                                                              \n",
       "                            x₁₆₂ + x₅₉                        x₁₆₃ + x₁₆₄     \n",
       "                                                                              \n",
       "                            x₁₇₂ + x₆₁                         x₁₇₅ + x₃₇     \n",
       "                                                                              \n",
       "                                0                                  0          \n",
       "                                                                              \n",
       "                               x₁₉₃                                0          \n",
       "                                                                              \n",
       "                            x₂₀₀ + x₉₃                            x₂₀₁        \n",
       "                                                                              \n",
       "                               x₂₀₅                               x₂₀₃        \n",
       "                                                                              \n",
       "                            x₂₀₅ + x₅₉                             0          \n",
       "                                                                              \n",
       " + x₂₁₁                  x₁₆₂ + 773000.0                      x₁₆₄ + x₁₇₅     \n",
       "                                                                              \n",
       "         x₁₆₁ + x₁₇₂ + x₂₀₀ + x₂₁₀ - 3360.0⋅y₉ - 773000.0          0          \n",
       "                                                                              \n",
       "                               x₂₄                         x₂₀₁ + x₂₁₅ + x₂₁₆ \n",
       "                                                                              \n",
       "                             773000.0                             x₂₁₁        \n",
       "                                                                              \n",
       "                                0                                 x₂₁₆        \n",
       "                                                                              \n",
       "                                0                                  0          \n",
       "\n",
       "               x₁₃₉                               0                     0   ⎤\n",
       "                                                                            ⎥\n",
       "               x₁₆₅                              x₁₆₃                   0   ⎥\n",
       "                                                                            ⎥\n",
       "               x₁₇₆                    x₁₇₇ + x₁₇₈ + x₃₇ + x₆₅          0   ⎥\n",
       "                                                                            ⎥\n",
       "                0                                x₁₈₂                   0   ⎥\n",
       "                                                                            ⎥\n",
       "               x₁₂                               x₁₇₇                   0   ⎥\n",
       "                                                                            ⎥\n",
       "               x₂₀₂                              x₂₀₃                   0   ⎥\n",
       "                                                                            ⎥\n",
       "               x₉₈                               x₂₀₆                   0   ⎥\n",
       "                                                                            ⎥\n",
       "                0                                x₂₀₉                2620.0 ⎥\n",
       "                                                                            ⎥\n",
       "               x₂₁₃                              x₆₅                    0   ⎥\n",
       "                                                                            ⎥\n",
       "               x₂₁₂                              x₁₇₈                   0   ⎥\n",
       "                                                                            ⎥\n",
       "               x₂₁₇                              x₂₁₈                   0   ⎥\n",
       "                                                                            ⎥\n",
       " x₁₃₉ + x₁₇₆ + x₂₁₃ + x₂₁₇ + x₂₁₉                x₂₁₁                   0   ⎥\n",
       "                                                                            ⎥\n",
       "               x₂₁₉                x₁₈₂ + x₂₀₆ + x₂₀₉ + x₂₁₅ + x₂₁₈  2620.0 ⎥\n",
       "                                                                            ⎥\n",
       "                0                                x₂₀₈                -2620.0⎦"
      ]
     },
     "execution_count": 27,
     "metadata": {},
     "output_type": "execute_result"
    }
   ],
   "source": [
    "simplified_exprs[1]"
   ]
  },
  {
   "cell_type": "markdown",
   "metadata": {},
   "source": [
    "# Exercise [15min]\n",
    "\n",
    "Use common subexpression elimination to print out C code for your two arrays such that:\n",
    "\n",
    "```C\n",
    "double x0 = first_sub_expression;\n",
    "...\n",
    "double xN = last_sub_expression;\n",
    "\n",
    "rhs_result[0] = expressions_containing_the_subexpressions;\n",
    "...\n",
    "rhs_result[13] = ...;\n",
    "\n",
    "jac_result[0] = ...;\n",
    "...\n",
    "jac_result[195] = ...;\n",
    "```\n",
    "\n",
    "The code you create can be copied and pasted into the provided template above to make a C program. *Refer back to the introduction to C code printing above.*\n",
    "\n",
    "To give you a bit of help we will first introduce the `Assignment` class. The printers know how to print variable assignments that are defined by an `Assignment` instance."
   ]
  },
  {
   "cell_type": "code",
   "execution_count": 28,
   "metadata": {},
   "outputs": [
    {
     "name": "stdout",
     "output_type": "stream",
     "text": [
      "theta = 5;\n"
     ]
    }
   ],
   "source": [
    "from sympy.printing.codeprinter import Assignment\n",
    "\n",
    "print(printer.doprint(Assignment(theta, 5)))"
   ]
  },
  {
   "cell_type": "markdown",
   "metadata": {},
   "source": [
    "The following code demonstrates a way to use `cse()` to simplify single matrix objects. Note that we use `ImmutableDenseMatrix` because all dense matrics are internally converted to this type in the printers. Check the type of your matrices to see."
   ]
  },
  {
   "cell_type": "code",
   "execution_count": 29,
   "metadata": {
    "collapsed": true
   },
   "outputs": [],
   "source": [
    "class CMatrixPrinter(C99CodePrinter):\n",
    "    def _print_ImmutableDenseMatrix(self, expr):\n",
    "        sub_exprs, simplified = sym.cse(expr)\n",
    "        lines = []\n",
    "        for var, sub_expr in sub_exprs:\n",
    "            lines.append('double ' + self._print(Assignment(var, sub_expr)))\n",
    "        M = sym.MatrixSymbol('M', *expr.shape)\n",
    "        return '\\n'.join(lines) + '\\n' + self._print(Assignment(M, expr))"
   ]
  },
  {
   "cell_type": "code",
   "execution_count": 30,
   "metadata": {},
   "outputs": [
    {
     "name": "stdout",
     "output_type": "stream",
     "text": [
      "double x0 = 29040000.0*y0;\n",
      "double x1 = 0.0158*y1;\n",
      "double x2 = 27600000.0*y4;\n",
      "double x3 = -x2;\n",
      "double x4 = -x0 - x1 + x3;\n",
      "double x5 = 20900000.0*y11;\n",
      "double x6 = -x5;\n",
      "double x7 = 35500000.0*y5;\n",
      "double x8 = -x7;\n",
      "double x9 = 13600000.0*y6;\n",
      "double x10 = -x9;\n",
      "double x11 = 22900000.0*y7;\n",
      "double x12 = -x11;\n",
      "double x13 = 13000000.0*y8;\n",
      "double x14 = -x13;\n",
      "double x15 = 13000000.0*y9;\n",
      "double x16 = -x15;\n",
      "double x17 = 0.0158*y0;\n",
      "double x18 = -x17;\n",
      "double x19 = 24400.0*y4;\n",
      "double x20 = 27600000.0*y0;\n",
      "double x21 = -x20;\n",
      "double x22 = 24400.0*y2;\n",
      "double x23 = x21 + x22;\n",
      "double x24 = 35500000.0*y0;\n",
      "double x25 = -x24;\n",
      "double x26 = 13600000.0*y0;\n",
      "double x27 = -x26;\n",
      "double x28 = 22900000.0*y0;\n",
      "double x29 = -x28;\n",
      "double x30 = 13000000.0*y0;\n",
      "double x31 = -x30;\n",
      "double x32 = 20900000.0*y0;\n",
      "double x33 = -x32;\n",
      "double x34 = 26000000.0*y8;\n",
      "double x35 = 1270.0*y10;\n",
      "double x36 = -x35;\n",
      "double x37 = 1270.0*y12;\n",
      "double x38 = -x37;\n",
      "double x39 = 4.58e-8*y4;\n",
      "double x40 = -x39;\n",
      "double x41 = 0.000155*y8;\n",
      "double x42 = -x41;\n",
      "double x43 = 118000000.0*y11;\n",
      "double x44 = 13300000.0*y5;\n",
      "double x45 = 13300000.0*y6;\n",
      "double x46 = 13300000.0*y9;\n",
      "double x47 = 39500.0*y5;\n",
      "double x48 = 4.58e-8*y1;\n",
      "double x49 = -x48;\n",
      "double x50 = 10900000.0*y5;\n",
      "double x51 = 36500.0*y6;\n",
      "double x52 = 4070000.0*y10;\n",
      "double x53 = 13300000.0*y2;\n",
      "double x54 = 39500.0*y3;\n",
      "double x55 = 10900000.0*y4;\n",
      "double x56 = 29200.0*y6;\n",
      "double x57 = 8840000.0*y9;\n",
      "double x58 = 36500.0*y4;\n",
      "double x59 = 29200.0*y5;\n",
      "double x60 = 26000000.0*y0;\n",
      "double x61 = 0.000155*y1;\n",
      "double x62 = -x61;\n",
      "double x63 = 101000.0*y9;\n",
      "double x64 = -x63;\n",
      "double x65 = 8840000.0*y5;\n",
      "double x66 = 101000.0*y8;\n",
      "double x67 = -x66;\n",
      "double x68 = x53 + x67;\n",
      "double x69 = 1270.0*y1;\n",
      "double x70 = -x69;\n",
      "double x71 = 4070000.0*y5;\n",
      "double x72 = 118000000.0*y2;\n",
      "double x73 = -x43;\n",
      "double x74 = -x19;\n",
      "double x75 = -x44;\n",
      "double x76 = -x45;\n",
      "double x77 = -x46;\n",
      "double x78 = 128000.0*y12;\n",
      "double x79 = -x22;\n",
      "double x80 = -x53;\n",
      "double x81 = 11000000.0*y8;\n",
      "double x82 = 4070000.0*y12;\n",
      "double x83 = 11000000.0*y5;\n",
      "double x84 = x63 + x83;\n",
      "double x85 = 786000.0*y12;\n",
      "double x86 = -x72;\n",
      "double x87 = 786000.0*y10;\n",
      "double x88 = 128000.0*y3;\n",
      "double x89 = 4070000.0*y6;\n",
      "double x90 = -x78;\n",
      "double x91 = -x47;\n",
      "double x92 = -x54;\n",
      "double x93 = -x88;\n",
      "double x94 = -x50;\n",
      "double x95 = -x51;\n",
      "double x96 = 13100000.0*y7;\n",
      "double x97 = -x96;\n",
      "double x98 = 11400000.0*y8;\n",
      "double x99 = -x98;\n",
      "double x100 = -11400000.0*y9;\n",
      "double x101 = -x55;\n",
      "double x102 = -x58;\n",
      "double x103 = 13100000.0*y4;\n",
      "double x104 = -x103;\n",
      "double x105 = 11400000.0*y4;\n",
      "double x106 = -x105;\n",
      "double x107 = -x52;\n",
      "double x108 = -x56;\n",
      "double x109 = -x81;\n",
      "double x110 = -x57;\n",
      "double x111 = -x59;\n",
      "double x112 = -x83;\n",
      "double x113 = -x65;\n",
      "double x114 = -x71;\n",
      "double x115 = 50200000.0*y12;\n",
      "double x116 = 50200000.0*y11;\n",
      "double x117 = x116 + x69;\n",
      "double x118 = -x82;\n",
      "double x119 = x66 + 1680.0*y9;\n",
      "double x120 = 50200000.0*y10;\n",
      "double x121 = -x89;\n",
      "double x122 = 3750000.0*y12;\n",
      "double x123 = -x122;\n",
      "double x124 = 3750000.0*y7;\n",
      "double x125 = -x124;\n",
      "double x126 = x106 + x31;\n",
      "double x127 = -x116;\n",
      "double x128 = 50200000.0*y8;\n",
      "double x129 = -x128;\n",
      "double x130 = x53 + 0.0943;\n",
      "double x131 = x127 + x70;\n",
      "double x132 = -x85;\n",
      "double x133 = -x120;\n",
      "double x134 = -x87;\n",
      "double x135 = -x115;\n",
      "M[0] = -29040000.0*y0 - 0.0158*y1 - 20900000.0*y11 - 27600000.0*y4 - 35500000.0*y5 - 13600000.0*y6 - 22900000.0*y7 - 13000000.0*y8 - 13000000.0*y9;\n",
      "M[1] = -0.0158*y0;\n",
      "M[2] = 24400.0*y4;\n",
      "M[3] = 0;\n",
      "M[4] = -27600000.0*y0 + 24400.0*y2 + 5.83;\n",
      "M[5] = -35500000.0*y0;\n",
      "M[6] = -13600000.0*y0;\n",
      "M[7] = -22900000.0*y0;\n",
      "M[8] = -13000000.0*y0;\n",
      "M[9] = -13000000.0*y0;\n",
      "M[10] = 0;\n",
      "M[11] = -20900000.0*y0;\n",
      "M[12] = 0;\n",
      "M[13] = 0;\n",
      "M[14] = -29040000.0*y0 - 0.0158*y1 - 27600000.0*y4 - 26000000.0*y8;\n",
      "M[15] = -0.0158*y0 - 1270.0*y10 - 1270.0*y12 - 4.58e-8*y4 - 0.000155*y8 - 2.12e-5;\n",
      "M[16] = 118000000.0*y11 + 24400.0*y4 + 13300000.0*y5 + 13300000.0*y6 + 13300000.0*y9;\n",
      "M[17] = 39500.0*y5;\n",
      "M[18] = -27600000.0*y0 - 4.58e-8*y1 + 24400.0*y2 + 10900000.0*y5 + 36500.0*y6;\n",
      "M[19] = 4070000.0*y10 + 13300000.0*y2 + 39500.0*y3 + 10900000.0*y4 + 29200.0*y6 + 8840000.0*y9;\n",
      "M[20] = 13300000.0*y2 + 36500.0*y4 + 29200.0*y5 + 2.6e-7;\n",
      "M[21] = 0;\n",
      "M[22] = -26000000.0*y0 - 0.000155*y1 - 101000.0*y9;\n",
      "M[23] = 13300000.0*y2 + 8840000.0*y5 - 101000.0*y8;\n",
      "M[24] = -1270.0*y1 + 4070000.0*y5;\n",
      "M[25] = 118000000.0*y2;\n",
      "M[26] = -1270.0*y1;\n",
      "M[27] = 0;\n",
      "M[28] = 29040000.0*y0 + 0.0158*y1 + 27600000.0*y4 + 35500000.0*y5 + 13600000.0*y6 + 26000000.0*y8;\n",
      "M[29] = 0.0158*y0 + 1270.0*y10 + 1270.0*y12 + 0.000155*y8 + 2.12e-5;\n",
      "M[30] = -118000000.0*y11 - 24400.0*y4 - 13300000.0*y5 - 13300000.0*y6 - 13300000.0*y9;\n",
      "M[31] = 128000.0*y12;\n",
      "M[32] = 27600000.0*y0 - 24400.0*y2;\n",
      "M[33] = 35500000.0*y0 - 13300000.0*y2 + 11000000.0*y8;\n",
      "M[34] = 13600000.0*y0 + 4070000.0*y12 - 13300000.0*y2;\n",
      "M[35] = 0;\n",
      "M[36] = 26000000.0*y0 + 0.000155*y1 + 11000000.0*y5 + 101000.0*y9;\n",
      "M[37] = -13300000.0*y2 + 101000.0*y8;\n",
      "M[38] = 1270.0*y1 + 786000.0*y12;\n",
      "M[39] = -118000000.0*y2;\n",
      "M[40] = 1270.0*y1 + 786000.0*y10 + 128000.0*y3 + 4070000.0*y6;\n",
      "M[41] = 0;\n",
      "M[42] = 14520000.0*y0 + 27600000.0*y4;\n",
      "M[43] = 4.58e-8*y4;\n",
      "M[44] = 0;\n",
      "M[45] = -128000.0*y12 - 39500.0*y5;\n",
      "M[46] = 27600000.0*y0 + 4.58e-8*y1 + 10280000.0*y4;\n",
      "M[47] = -39500.0*y3;\n",
      "M[48] = 0;\n",
      "M[49] = 0;\n",
      "M[50] = 0;\n",
      "M[51] = 0;\n",
      "M[52] = 0;\n",
      "M[53] = 0;\n",
      "M[54] = -128000.0*y3;\n",
      "M[55] = 0;\n",
      "M[56] = 0.0158*y1 + 20900000.0*y11 - 27600000.0*y4;\n",
      "M[57] = 0.0158*y0 - 4.58e-8*y4;\n",
      "M[58] = -24400.0*y4;\n",
      "M[59] = 128000.0*y12 + 39500.0*y5;\n",
      "M[60] = -27600000.0*y0 - 4.58e-8*y1 - 24400.0*y2 - 20560000.0*y4 - 10900000.0*y5 - 36500.0*y6 - 13100000.0*y7 - 11400000.0*y8 - 11400000.0*y9 - 5.83;\n",
      "M[61] = 39500.0*y3 - 10900000.0*y4;\n",
      "M[62] = -36500.0*y4;\n",
      "M[63] = -13100000.0*y4;\n",
      "M[64] = -11400000.0*y4;\n",
      "M[65] = -11400000.0*y4;\n",
      "M[66] = 0;\n",
      "M[67] = 20900000.0*y0;\n",
      "M[68] = 128000.0*y3;\n",
      "M[69] = 0;\n",
      "M[70] = -35500000.0*y5 + 13600000.0*y6;\n",
      "M[71] = 1270.0*y12 + 4.58e-8*y4;\n",
      "M[72] = -13300000.0*y5;\n",
      "M[73] = -39500.0*y5;\n",
      "M[74] = 4.58e-8*y1 - 10900000.0*y5 + 36500.0*y6 + 22800000.0*y9;\n",
      "M[75] = -35500000.0*y0 - 4070000.0*y10 - 13300000.0*y2 - 39500.0*y3 - 10900000.0*y4 - 19240000.0*y5 - 29200.0*y6 - 11000000.0*y8 - 8840000.0*y9 - 0.0943;\n",
      "M[76] = 13600000.0*y0 + 36500.0*y4 - 29200.0*y5;\n",
      "M[77] = 0;\n",
      "M[78] = -11000000.0*y5;\n",
      "M[79] = 22800000.0*y4 - 8840000.0*y5;\n",
      "M[80] = -4070000.0*y5;\n",
      "M[81] = 50200000.0*y12;\n",
      "M[82] = 1270.0*y1 + 50200000.0*y11;\n",
      "M[83] = 0;\n",
      "M[84] = -13600000.0*y6 + 13000000.0*y8;\n",
      "M[85] = 1270.0*y10;\n",
      "M[86] = -13300000.0*y6;\n",
      "M[87] = 0;\n",
      "M[88] = -36500.0*y6;\n",
      "M[89] = 9620000.0*y5 - 29200.0*y6;\n",
      "M[90] = -13600000.0*y0 - 4070000.0*y12 - 13300000.0*y2 - 36500.0*y4 - 29200.0*y5 - 0.09430026;\n",
      "M[91] = 0;\n",
      "M[92] = 13000000.0*y0 + 101000.0*y9;\n",
      "M[93] = 101000.0*y8 + 1680.0*y9;\n",
      "M[94] = 1270.0*y1 + 50200000.0*y11;\n",
      "M[95] = 50200000.0*y10;\n",
      "M[96] = -4070000.0*y6;\n",
      "M[97] = 0;\n",
      "M[98] = -22900000.0*y7;\n",
      "M[99] = 0;\n",
      "M[100] = 0;\n",
      "M[101] = 0;\n",
      "M[102] = -13100000.0*y7;\n",
      "M[103] = 11000000.0*y8 + 8840000.0*y9;\n",
      "M[104] = 1.3e-7;\n",
      "M[105] = -22900000.0*y0 - 3750000.0*y12 - 13100000.0*y4;\n",
      "M[106] = 11000000.0*y5 + 101000.0*y9;\n",
      "M[107] = 8840000.0*y5 + 101000.0*y8 + 1680.0*y9;\n",
      "M[108] = 0;\n",
      "M[109] = 0;\n",
      "M[110] = -3750000.0*y7;\n",
      "M[111] = 2620.0;\n",
      "M[112] = 22900000.0*y7 - 13000000.0*y8;\n",
      "M[113] = -0.000155*y8;\n",
      "M[114] = 13300000.0*y9;\n",
      "M[115] = 0;\n",
      "M[116] = -11400000.0*y8;\n",
      "M[117] = 4070000.0*y10 - 11000000.0*y8;\n",
      "M[118] = 0;\n",
      "M[119] = 22900000.0*y0;\n",
      "M[120] = -13000000.0*y0 - 0.000155*y1 - 50200000.0*y11 - 11400000.0*y4 - 11000000.0*y5 - 101000.0*y9;\n",
      "M[121] = 13300000.0*y2 - 101000.0*y8 + 773000.0;\n",
      "M[122] = 786000.0*y12 + 4070000.0*y5;\n",
      "M[123] = -50200000.0*y8;\n",
      "M[124] = 786000.0*y10;\n",
      "M[125] = 0;\n",
      "M[126] = -13000000.0*y9;\n",
      "M[127] = 0.000155*y8;\n",
      "M[128] = -13300000.0*y9;\n",
      "M[129] = 0;\n",
      "M[130] = 13100000.0*y7 - 11400000.0*y9;\n",
      "M[131] = 29200.0*y6 - 8840000.0*y9;\n",
      "M[132] = 4070000.0*y12 + 29200.0*y5;\n",
      "M[133] = 13100000.0*y4;\n",
      "M[134] = 0.000155*y1 + 50200000.0*y11 - 101000.0*y9;\n",
      "M[135] = -13000000.0*y0 - 13300000.0*y2 - 11400000.0*y4 - 8840000.0*y5 - 101000.0*y8 - 3360.0*y9 - 773000.0;\n",
      "M[136] = 0;\n",
      "M[137] = 50200000.0*y8;\n",
      "M[138] = 4070000.0*y6;\n",
      "M[139] = 0;\n",
      "M[140] = 13000000.0*y9;\n",
      "M[141] = -1270.0*y10;\n",
      "M[142] = 13300000.0*y6;\n",
      "M[143] = 0;\n",
      "M[144] = 11400000.0*y8;\n",
      "M[145] = -4070000.0*y10;\n",
      "M[146] = 13300000.0*y2 + 0.0943;\n",
      "M[147] = 0;\n",
      "M[148] = 11400000.0*y4;\n",
      "M[149] = 13000000.0*y0;\n",
      "M[150] = -1270.0*y1 - 50200000.0*y11 - 786000.0*y12 - 4070000.0*y5;\n",
      "M[151] = -50200000.0*y10;\n",
      "M[152] = -786000.0*y10;\n",
      "M[153] = 0;\n",
      "M[154] = -20900000.0*y11;\n",
      "M[155] = 2.12e-5;\n",
      "M[156] = -118000000.0*y11;\n",
      "M[157] = 0;\n",
      "M[158] = 5.83;\n",
      "M[159] = 0.0943;\n",
      "M[160] = 0.0943;\n",
      "M[161] = 0;\n",
      "M[162] = -50200000.0*y11;\n",
      "M[163] = 773000.0;\n",
      "M[164] = -50200000.0*y11;\n",
      "M[165] = -20900000.0*y0 - 50200000.0*y10 - 50200000.0*y12 - 118000000.0*y2 - 50200000.0*y8;\n",
      "M[166] = -50200000.0*y11;\n",
      "M[167] = 0;\n",
      "M[168] = 0;\n",
      "M[169] = -1270.0*y12;\n",
      "M[170] = 13300000.0*y5;\n",
      "M[171] = -128000.0*y12;\n",
      "M[172] = 0;\n",
      "M[173] = 13300000.0*y2 + 0.0943;\n",
      "M[174] = -4070000.0*y12;\n",
      "M[175] = -3750000.0*y12;\n",
      "M[176] = 0;\n",
      "M[177] = 0;\n",
      "M[178] = -786000.0*y12;\n",
      "M[179] = -50200000.0*y12;\n",
      "M[180] = -1270.0*y1 - 786000.0*y10 - 50200000.0*y11 - 128000.0*y3 - 4070000.0*y6 - 3750000.0*y7;\n",
      "M[181] = 2620.0;\n",
      "M[182] = 0;\n",
      "M[183] = 0;\n",
      "M[184] = 0;\n",
      "M[185] = 0;\n",
      "M[186] = 0;\n",
      "M[187] = 0;\n",
      "M[188] = 0;\n",
      "M[189] = 3750000.0*y12;\n",
      "M[190] = 0;\n",
      "M[191] = 0;\n",
      "M[192] = 0;\n",
      "M[193] = 0;\n",
      "M[194] = 3750000.0*y7;\n",
      "M[195] = -2620.0;\n"
     ]
    }
   ],
   "source": [
    "p = CMatrixPrinter()\n",
    "print(p.doprint(jac_of_odes))"
   ]
  },
  {
   "cell_type": "markdown",
   "metadata": {
    "collapsed": true
   },
   "source": [
    "Now create a custom printer that uses `cse()` on the two matrices simulatneously so that subexpressions are not repeated. *Hint: think about how the list printer method, `_print_list(self, list_of_exprs)`, might help here.*"
   ]
  },
  {
   "cell_type": "markdown",
   "metadata": {
    "collapsed": true
   },
   "source": [
    "### Solution\n",
    "\n",
    "```python\n",
    "class CMatrixPrinter(C99CodePrinter):\n",
    "    \n",
    "    def _print_list(self, list_of_exprs):\n",
    "        # NOTE : The MutableDenseMatrix is turned in an ImmutableMatrix inside here.\n",
    "        if all(isinstance(x, sym.ImmutableMatrix) for x in list_of_exprs):\n",
    "            sub_exprs, simplified_exprs = sym.cse(list_of_exprs)\n",
    "            lines = []\n",
    "            for var, sub_expr in sub_exprs:\n",
    "                ass = Assignment(var, sub_expr.xreplace(state_array_map))\n",
    "                lines.append('double ' + self._print(ass))\n",
    "            for mat in simplified_exprs:\n",
    "                lines.append(self._print(mat.xreplace(state_array_map)))\n",
    "            return '\\n'.join(lines)\n",
    "        else:\n",
    "            return super()._print_list(list_of_exprs)\n",
    "            \n",
    "    def _print_ImmutableDenseMatrix(self, expr):\n",
    "        if expr.shape[1] > 1:\n",
    "            M = sym.MatrixSymbol('jac_result', *expr.shape)\n",
    "        else:\n",
    "            M = sym.MatrixSymbol('rhs_result', *expr.shape)\n",
    "        return self._print(Assignment(M, expr))\n",
    "\n",
    "p = CMatrixPrinter()\n",
    "print(p.doprint([rhs_of_odes, jac_of_odes]))\n",
    "```"
   ]
  },
  {
   "cell_type": "markdown",
   "metadata": {},
   "source": [
    "## Bonus Exercise: Compile and Run the C Program\n",
    "\n",
    "Below we provide you with a template for the C program described above. You can use it by passing in a string like:\n",
    "\n",
    "```python\n",
    "c_template.format(code='the holy grail')\n",
    "```\n",
    "\n",
    "Use this template and your code printer to create a file called `run.c` in the working directory.\n",
    "\n",
    "To compile the code there are several options. The first is gcc (the GNU C Compiler). If you have Linux, Mac, or Windows (w/ mingw installed) you can use the Jupyter notebook `!` command to send your command to the terminal. For example:\n",
    "\n",
    "```ipython\n",
    "!gcc run.c -lm -o run\n",
    "```\n",
    "\n",
    "This will compile `run.c`, link against the C math library with `-lm` and output, `-o`, to a file `run` (Mac/Linux) or `run.exe` (Windows).\n",
    "\n",
    "On Mac and Linux the program can be executed with:\n",
    "\n",
    "```ipython\n",
    "!./run\n",
    "```\n",
    "\n",
    "and on Windows:\n",
    "\n",
    "```ipython\n",
    "!run.exe\n",
    "```\n",
    "\n",
    "Other options are using the clang compiler or Windows `cl` compiler command:\n",
    "\n",
    "```ipython\n",
    "!clang run.c -lm -o run\n",
    "!cl run.c -lm\n",
    "```"
   ]
  },
  {
   "cell_type": "markdown",
   "metadata": {
    "collapsed": true
   },
   "source": [
    "### Solution\n",
    "\n",
    "```python\n",
    "c_program = c_template.format(code=p.doprint([rhs_of_odes, jac_of_odes]))\n",
    "print(c_program)\n",
    "\n",
    "with open('run.c', 'w') as f:\n",
    "    f.write(c_program)\n",
    "```"
   ]
  },
  {
   "cell_type": "code",
   "execution_count": 31,
   "metadata": {
    "collapsed": true
   },
   "outputs": [],
   "source": [
    "c_template = \"\"\"\\\n",
    "#include <math.h>\n",
    "#include <stdio.h>\n",
    "\n",
    "void evaluate_odes(const double state_vals[14], double rhs_result[14], double jac_result[196])\n",
    "{{\n",
    "    // We need to fill in the code here using SymPy.\n",
    "{code}\n",
    "}}\n",
    "\n",
    "int main() {{\n",
    "\n",
    "    // initialize the state vector with some values\n",
    "    double state_vals[14] = {{1, 2, 3, 4, 5, 6, 7, 8, 9, 10, 11, 12, 13, 14}};\n",
    "    // create \"empty\" 1D arrays to hold the results of the computation\n",
    "    double rhs_result[14];\n",
    "    double jac_result[196];\n",
    "\n",
    "    // call the function\n",
    "    evaluate_odes(state_vals, rhs_result, jac_result);\n",
    "\n",
    "    // print the computed values to the terminal\n",
    "    int i;\n",
    "    printf(\"The right hand side of the equations evaluates to:\\\\n\");\n",
    "    for (i=0; i < 14; i++) {{\n",
    "        printf(\"%lf\\\\n\", rhs_result[i]);\n",
    "    }}\n",
    "    printf(\"\\\\nThe Jacobian evaluates to:\\\\n\");\n",
    "    for (i=0; i < 196; i++) {{\n",
    "        printf(\"%lf\\\\n\", jac_result[i]);\n",
    "    }}\n",
    "\n",
    "    return 0;\n",
    "}}\\\n",
    "\"\"\""
   ]
  },
  {
   "cell_type": "code",
   "execution_count": 32,
   "metadata": {
    "collapsed": true
   },
   "outputs": [],
   "source": []
  }
 ],
 "metadata": {
  "anaconda-cloud": {},
  "kernelspec": {
   "display_name": "Python 3",
   "language": "python",
   "name": "python3"
  },
  "language_info": {
   "codemirror_mode": {
    "name": "ipython",
    "version": 3
   },
   "file_extension": ".py",
   "mimetype": "text/x-python",
   "name": "python",
   "nbconvert_exporter": "python",
   "pygments_lexer": "ipython3",
   "version": "3.6.1"
  }
 },
 "nbformat": 4,
 "nbformat_minor": 2
}
