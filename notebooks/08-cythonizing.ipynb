{
 "cells": [
  {
   "cell_type": "markdown",
   "metadata": {},
   "source": [
    "# The Easy \"Hard\" Way: Cythonizing\n",
    "\n",
    "In this notebook, we'll build on the previous work where we used SymPy's code printers to generate code for evaluating expressions numerically. As a layer of abstraction on top of C code printers, which generate snippets of code we can copy into a C program, we can generate a fully compilable C library. On top of this, we will see how to use Cython to compile such a library into a Python extension module so its computational routines can be called directly from Python.\n",
    "\n",
    "**Learning Objectives**\n",
    "\n",
    "After this lesson, you will be able to:\n",
    "\n",
    "1. write a simple Cython function and run it a Jupyter notebook using the `%%cython` magic command\n",
    "2. use the SymPy `codegen` function to output compilable C code\n",
    "3. wrap `codegen`-generated code with Cython, compile it into an extension module, and call it from Python\n",
    "4. use SymPy's `autowrap` function to do all of this behind the scenes\n",
    "5. pass a custom code printer to `autowrap` to make use of an external C library"
   ]
  },
  {
   "cell_type": "code",
   "execution_count": 1,
   "metadata": {
    "collapsed": true
   },
   "outputs": [],
   "source": [
    "%matplotlib inline\n",
    "import matplotlib.pyplot as plt\n",
    "import numpy as np\n",
    "import sympy as sym\n",
    "sym.init_printing()"
   ]
  },
  {
   "cell_type": "markdown",
   "metadata": {},
   "source": [
    "## 1. A Quick Introduction to Cython\n",
    "\n",
    "[Cython](http://cython.org/) is a **compiler** and a **programming language** used to generate C [extension modules](https://docs.python.org/3.6/extending/extending.html) for Python.\n",
    "\n",
    "The Cython *language* is a Python/C [creole](https://en.wikipedia.org/wiki/Creole_language) which is essentially Python with some additional keywords for specifying static data types. It looks something like this:\n",
    "\n",
    "```cython\n",
    "def cython_sum(int n):\n",
    "    cdef float s = 0.0\n",
    "    cdef int i\n",
    "    for i in range(n):\n",
    "        s += i\n",
    "    return s\n",
    "```\n",
    "\n",
    "The Cython *compiler* transforms this code into a \"flavor\" of C specific to Python extension modules. This C code is then compiled into a binary file that can be imported and used just like a regular Python module -- the difference being that the functions you use from that module can potentially be much faster and more efficient than an equivalent pure Python implementation.\n",
    "\n",
    "Aside from writing Cython code for computations, Cython is commonly used for writing *wrappers* around existing C code so that the functions therein can be made available in an extension module as described above. We will use this technique to make the SymPy-generated C code accessible to Python for use in SciPy's `odeint`."
   ]
  },
  {
   "cell_type": "markdown",
   "metadata": {},
   "source": [
    "### Example\n",
    "\n",
    "As a quick demonstration of what Cython can offer, we'll walk through a simple example of generating numbers in the [Fibonacci sequence](https://en.wikipedia.org/wiki/Fibonacci_number). If you're not familiar with it already, the sequence is initialized with $F_0 = 0$ and $F_1 = 1$, then the remaining terms are defined recursively by:\n",
    "\n",
    "$$\n",
    "F_i = F_{i-1} + F_{i-2}\n",
    "$$\n",
    "\n",
    "\n",
    "Our objective is to write a function that computes the $n$-th Fibonacci number. Let's start by writing a simple iterative solution in pure Python."
   ]
  },
  {
   "cell_type": "code",
   "execution_count": 2,
   "metadata": {
    "collapsed": true
   },
   "outputs": [],
   "source": [
    "def python_fib(n):\n",
    "    a = 0.0\n",
    "    b = 1.0\n",
    "    for i in range(n):\n",
    "        tmp = a\n",
    "        a = a + b\n",
    "        b = tmp\n",
    "    return a"
   ]
  },
  {
   "cell_type": "code",
   "execution_count": 3,
   "metadata": {
    "collapsed": true
   },
   "outputs": [
    {
     "data": {
      "image/png": "[encoded data removed]",
      "text/latex": [
       "$$\\left [ 0.0, \\quad 1.0, \\quad 1.0, \\quad 2.0, \\quad 3.0, \\quad 5.0, \\quad 8.0, \\quad 13.0, \\quad 21.0, \\quad 34.0\\right ]$$"
      ],
      "text/plain": [
       "[0.0, 1.0, 1.0, 2.0, 3.0, 5.0, 8.0, 13.0, 21.0, 34.0]"
      ]
     },
     "execution_count": 3,
     "metadata": {},
     "output_type": "execute_result"
    }
   ],
   "source": [
    "[python_fib(i) for i in range(10)]"
   ]
  },
  {
   "cell_type": "markdown",
   "metadata": {},
   "source": [
    "Let's see how long it takes to compute the 100th Fibonacci number."
   ]
  },
  {
   "cell_type": "code",
   "execution_count": 4,
   "metadata": {
    "collapsed": true
   },
   "outputs": [
    {
     "name": "stdout",
     "output_type": "stream",
     "text": [
      "4.92 µs ± 128 ns per loop (mean ± std. dev. of 7 runs, 100000 loops each)\n"
     ]
    }
   ],
   "source": [
    "%timeit python_fib(100)"
   ]
  },
  {
   "cell_type": "markdown",
   "metadata": {},
   "source": [
    "Now let's implement the same thing with Cython. Since Cython is essentially \"Python with types,\" it is often fairly easy to make the move and see improvements in speed. It does come at the cost, however, of a separate compilation step.\n",
    "\n",
    "There are [several ways to ways to go about the compilation process](http://docs.cython.org/en/latest/src/quickstart/build.html), and in many cases, Cython's tooling makes it fairly simple. For example, Jupyter notebooks can make use of a `%%cython` magic command that will do all of compilation in the background for us. To make use of it, we need to load the `cython` extension."
   ]
  },
  {
   "cell_type": "code",
   "execution_count": 5,
   "metadata": {
    "collapsed": true
   },
   "outputs": [],
   "source": [
    "%load_ext cython"
   ]
  },
  {
   "cell_type": "markdown",
   "metadata": {},
   "source": [
    "Now we can write a Cython function.\n",
    "\n",
    "*Note: the `--annotate` (or `-a`) flag of the `%%cython` magic command will produce an interactive annotated printout of the Cython code, allowing us to see the C code that is generated.*"
   ]
  },
  {
   "cell_type": "code",
   "execution_count": 6,
   "metadata": {
    "collapsed": true,
    "scrolled": true
   },
   "outputs": [],
   "source": [
    "%%cython\n",
    "def cython_fib(int n):\n",
    "    cdef double a = 0.0\n",
    "    cdef double b = 1.0\n",
    "    cdef double tmp\n",
    "    for i in range(n):\n",
    "        tmp = a\n",
    "        a = a + b\n",
    "        b = tmp\n",
    "    return a"
   ]
  },
  {
   "cell_type": "code",
   "execution_count": 7,
   "metadata": {
    "collapsed": true
   },
   "outputs": [
    {
     "name": "stdout",
     "output_type": "stream",
     "text": [
      "174 ns ± 1.73 ns per loop (mean ± std. dev. of 7 runs, 10000000 loops each)\n"
     ]
    }
   ],
   "source": [
    "%timeit cython_fib(100)"
   ]
  },
  {
   "cell_type": "markdown",
   "metadata": {},
   "source": [
    "To see a bit more about writing Cython and its potential performance benefits, see [this Cython examples notebook](cython-examples.ipynb).\n",
    "\n",
    "Even better, check out Kurt Smith's [Cython tutorial](https://github.com/kwmsmith/scipy-2017-cython-tutorial) which is happening at the same time as this tutorial."
   ]
  },
  {
   "cell_type": "markdown",
   "metadata": {},
   "source": [
    "## 2. Generating C Code with SymPy's `codegen()`\n",
    "\n",
    "Our main goal in using Cython is to wrap SymPy-generated C code into a Python extension module so that we can call the fast compiled numerical routines from Python.\n",
    "\n",
    "SymPy's `codegen` function takes code *printing* a step further: it wraps a snippet of code that numerically evaluates an expression with a function, and puts that function into the context of a file that is fully ready-to-compile code.\n",
    "\n",
    "Here we'll revisit the water radiolysis system, with the aim of numerically computing the right hand side of the system of ODEs and integrating using SciPy's `odeint`.\n",
    "\n",
    "Recall that this system looks like:\n",
    "\n",
    "$$\n",
    "\\begin{align}\n",
    "\\frac{dy_0(t)}{dt} &= f_0\\left(y_0,\\,y_1,\\,\\dots,\\,y_{13},\\,t\\right) \\\\\n",
    "&\\vdots \\\\\n",
    "\\frac{dy_{13}(t)}{dt} &= f_{13}\\left(y_0,\\,y_1,\\,\\dots,\\,y_{13},\\,t\\right)\n",
    "\\end{align}\n",
    "$$\n",
    "\n",
    "where we are representing our state variables $y_0,\\,y_1,\\dots,y_{13}$ as a vector $\\mathbf{y}(t)$ that we called `states` in our code, and the collection of functions on the right hand side $\\mathbf{f}(\\mathbf{y}(t))$ we called `rhs_of_odes`.\n",
    "\n",
    "Start by importing the system of ODEs and the matrix of state variables."
   ]
  },
  {
   "cell_type": "code",
   "execution_count": 8,
   "metadata": {
    "collapsed": true,
    "scrolled": true
   },
   "outputs": [
    {
     "data": {
      "image/png": "[encoded data removed]",
      "text/latex": [
       "$$- 14520000.0 y_{0}^{2} - 0.0158 y_{0} y_{1} - 20900000.0 y_{0} y_{11} - 27600000.0 y_{0} y_{4} - 35500000.0 y_{0} y_{5} - 13600000.0 y_{0} y_{6} - 22900000.0 y_{0} y_{7} - 13000000.0 y_{0} y_{8} - 13000000.0 y_{0} y_{9} + 24400.0 y_{2} y_{4} + 5.83 y_{4} + 0.0854$$"
      ],
      "text/plain": [
       "               2                                                              \n",
       "- 14520000.0⋅y₀  - 0.0158⋅y₀⋅y₁ - 20900000.0⋅y₀⋅y₁₁ - 27600000.0⋅y₀⋅y₄ - 35500\n",
       "\n",
       "                                                                              \n",
       "000.0⋅y₀⋅y₅ - 13600000.0⋅y₀⋅y₆ - 22900000.0⋅y₀⋅y₇ - 13000000.0⋅y₀⋅y₈ - 1300000\n",
       "\n",
       "                                            \n",
       "0.0⋅y₀⋅y₉ + 24400.0⋅y₂⋅y₄ + 5.83⋅y₄ + 0.0854"
      ]
     },
     "execution_count": 8,
     "metadata": {},
     "output_type": "execute_result"
    }
   ],
   "source": [
    "from scipy2017codegen.chem import load_large_ode\n",
    "rhs_of_odes, states = load_large_ode()\n",
    "rhs_of_odes[0]"
   ]
  },
  {
   "cell_type": "markdown",
   "metadata": {},
   "source": [
    "Now we'll use `codegen` (under `sympy.utilities.codegen`) to output C source and header files which can compute the right hand side (RHS) of the ODEs numerically, given the current values of our state variables. Here we'll import it and show the documentation:"
   ]
  },
  {
   "cell_type": "code",
   "execution_count": 9,
   "metadata": {
    "collapsed": true
   },
   "outputs": [],
   "source": [
    "from sympy.utilities.codegen import codegen\n",
    "#codegen?"
   ]
  },
  {
   "cell_type": "markdown",
   "metadata": {},
   "source": [
    "We just have one expression we're interested in computing, and that is the matrix expression representing the derivatives of our state variables with respect to time: `rhs_of_odes`. What we want `codegen` to do is create a C function that takes in the current values of the state variables and gives us back each of the derivatives."
   ]
  },
  {
   "cell_type": "code",
   "execution_count": 10,
   "metadata": {
    "collapsed": true
   },
   "outputs": [],
   "source": [
    "[(cf, cs), (hf, hs)] = codegen(('c_odes', rhs_of_odes), language='c')"
   ]
  },
  {
   "cell_type": "markdown",
   "metadata": {},
   "source": [
    "Note that we've just expanded the outputs into individual variables so we can access the generated code easily. `codegen` gives us back the `.c` filename and its source code in a tuple, and the `.h` filename and its source in another tuple. Let's print the source code."
   ]
  },
  {
   "cell_type": "code",
   "execution_count": 11,
   "metadata": {
    "collapsed": true
   },
   "outputs": [
    {
     "name": "stdout",
     "output_type": "stream",
     "text": [
      "/******************************************************************************\n",
      " *                      Code generated with sympy 1.1.1                       *\n",
      " *                                                                            *\n",
      " *              See http://www.sympy.org/ for more information.               *\n",
      " *                                                                            *\n",
      " *                       This file is part of 'project'                       *\n",
      " ******************************************************************************/\n",
      "#include \"c_odes.h\"\n",
      "#include <math.h>\n",
      "\n",
      "void c_odes(double y0, double y1, double y10, double y11, double y12, double y13, double y2, double y3, double y4, double y5, double y6, double y7, double y8, double y9, double *out_6549624247668437757) {\n",
      "\n",
      "   out_6549624247668437757[0] = -14520000.0*pow(y0, 2) - 0.0158*y0*y1 - 20900000.0*y0*y11 - 27600000.0*y0*y4 - 35500000.0*y0*y5 - 13600000.0*y0*y6 - 22900000.0*y0*y7 - 13000000.0*y0*y8 - 13000000.0*y0*y9 + 24400.0*y2*y4 + 5.83*y4 + 0.0854;\n",
      "   out_6549624247668437757[1] = -14520000.0*pow(y0, 2) - 0.0158*y0*y1 - 27600000.0*y0*y4 - 26000000.0*y0*y8 - 1270.0*y1*y10 - 1270.0*y1*y12 - 4.58e-8*y1*y4 - 0.000155*y1*y8 - 2.12e-5*y1 + 4070000.0*y10*y5 + 118000000.0*y11*y2 + 24400.0*y2*y4 + 13300000.0*y2*y5 + 13300000.0*y2*y6 + 13300000.0*y2*y9 + 39500.0*y3*y5 + 10900000.0*y4*y5 + 36500.0*y4*y6 + 29200.0*y5*y6 + 8840000.0*y5*y9 + 2.6e-7*y6 - 101000.0*y8*y9 - 0.131;\n",
      "   out_6549624247668437757[2] = 14520000.0*pow(y0, 2) + 0.0158*y0*y1 + 27600000.0*y0*y4 + 35500000.0*y0*y5 + 13600000.0*y0*y6 + 26000000.0*y0*y8 + 1270.0*y1*y10 + 1270.0*y1*y12 + 0.000155*y1*y8 + 2.12e-5*y1 + 786000.0*y10*y12 - 118000000.0*y11*y2 + 128000.0*y12*y3 + 4070000.0*y12*y6 - 24400.0*y2*y4 - 13300000.0*y2*y5 - 13300000.0*y2*y6 - 13300000.0*y2*y9 + 11000000.0*y5*y8 + 101000.0*y8*y9;\n",
      "   out_6549624247668437757[3] = 7260000.0*pow(y0, 2) + 27600000.0*y0*y4 + 4.58e-8*y1*y4 - 128000.0*y12*y3 - 39500.0*y3*y5 + 5140000.0*pow(y4, 2) + 0.0136;\n",
      "   out_6549624247668437757[4] = 0.0158*y0*y1 + 20900000.0*y0*y11 - 27600000.0*y0*y4 - 4.58e-8*y1*y4 + 128000.0*y12*y3 - 24400.0*y2*y4 + 39500.0*y3*y5 - 10280000.0*pow(y4, 2) - 10900000.0*y4*y5 - 36500.0*y4*y6 - 13100000.0*y4*y7 - 11400000.0*y4*y8 - 11400000.0*y4*y9 - 5.83*y4 + 0.0188;\n",
      "   out_6549624247668437757[5] = -35500000.0*y0*y5 + 13600000.0*y0*y6 + 1270.0*y1*y12 + 4.58e-8*y1*y4 - 4070000.0*y10*y5 + 50200000.0*y11*y12 - 13300000.0*y2*y5 - 39500.0*y3*y5 - 10900000.0*y4*y5 + 36500.0*y4*y6 + 22800000.0*y4*y9 - 9620000.0*pow(y5, 2) - 29200.0*y5*y6 - 11000000.0*y5*y8 - 8840000.0*y5*y9 - 0.0943*y5 + 0.0871;\n",
      "   out_6549624247668437757[6] = -13600000.0*y0*y6 + 13000000.0*y0*y8 + 1270.0*y1*y10 + 50200000.0*y10*y11 - 4070000.0*y12*y6 - 13300000.0*y2*y6 - 36500.0*y4*y6 + 4810000.0*pow(y5, 2) - 29200.0*y5*y6 - 0.09430026*y6 + 101000.0*y8*y9 + 840.0*pow(y9, 2) + 0.0221;\n",
      "   out_6549624247668437757[7] = -22900000.0*y0*y7 - 3750000.0*y12*y7 + 2620.0*y13 - 13100000.0*y4*y7 + 11000000.0*y5*y8 + 8840000.0*y5*y9 + 1.3e-7*y6 + 101000.0*y8*y9 + 840.0*pow(y9, 2) + 8.19e-7;\n",
      "   out_6549624247668437757[8] = 22900000.0*y0*y7 - 13000000.0*y0*y8 - 0.000155*y1*y8 + 786000.0*y10*y12 + 4070000.0*y10*y5 - 50200000.0*y11*y8 + 13300000.0*y2*y9 - 11400000.0*y4*y8 - 11000000.0*y5*y8 - 101000.0*y8*y9 + 773000.0*y9;\n",
      "   out_6549624247668437757[9] = -13000000.0*y0*y9 + 0.000155*y1*y8 + 50200000.0*y11*y8 + 4070000.0*y12*y6 - 13300000.0*y2*y9 + 13100000.0*y4*y7 - 11400000.0*y4*y9 + 29200.0*y5*y6 - 8840000.0*y5*y9 - 101000.0*y8*y9 - 1680.0*pow(y9, 2) - 773000.0*y9;\n",
      "   out_6549624247668437757[10] = 13000000.0*y0*y9 - 1270.0*y1*y10 - 50200000.0*y10*y11 - 786000.0*y10*y12 - 4070000.0*y10*y5 + 13300000.0*y2*y6 + 11400000.0*y4*y8 + 0.0943*y6;\n",
      "   out_6549624247668437757[11] = -20900000.0*y0*y11 + 2.12e-5*y1 - 50200000.0*y10*y11 - 50200000.0*y11*y12 - 118000000.0*y11*y2 - 50200000.0*y11*y8 + 5.83*y4 + 0.0943*y5 + 0.0943*y6 + 773000.0*y9 + 0.0854;\n",
      "   out_6549624247668437757[12] = -1270.0*y1*y12 - 786000.0*y10*y12 - 50200000.0*y11*y12 - 128000.0*y12*y3 - 4070000.0*y12*y6 - 3750000.0*y12*y7 + 2620.0*y13 + 13300000.0*y2*y5 + 0.0943*y5;\n",
      "   out_6549624247668437757[13] = 3750000.0*y12*y7 - 2620.0*y13;\n",
      "\n",
      "}\n",
      "\n"
     ]
    }
   ],
   "source": [
    "print(cs)"
   ]
  },
  {
   "cell_type": "markdown",
   "metadata": {},
   "source": [
    "There are several things here worth noting:\n",
    "\n",
    "- the state variables are passed in individually\n",
    "- the state variables in the function signature are out of order\n",
    "- the output array is passed in as a pointer like in our Fibonacci sequence example, but it has an auto-generated name\n",
    "\n",
    "Let's address the first issue first. Similarly to what we did in the C printing exercises, let's use a `MatrixSymbol` to represent our state vector instead of a matrix of individual state variable symbols (i.e. `y[0]` instead of `y0`). First, create the `MatrixSymbol` object that is the same shape as our states matrix."
   ]
  },
  {
   "cell_type": "code",
   "execution_count": 12,
   "metadata": {
    "collapsed": true
   },
   "outputs": [],
   "source": [
    "y = sym.MatrixSymbol('y', *states.shape)"
   ]
  },
  {
   "cell_type": "markdown",
   "metadata": {},
   "source": [
    "Now we need to replace the use of `y0`, `y1`, etc. in our `rhs_of_odes` matrix with the elements of our new state vector (e.g. `y[0]`, `y[1]`, etc.). We saw how to do this already in [the previous notebook](07-the-hard-way.ipynb). Start by forming a mapping from `y0 -> y[0, 0]`, `y1 -> y[1, 0]`, etc."
   ]
  },
  {
   "cell_type": "code",
   "execution_count": 13,
   "metadata": {
    "collapsed": true
   },
   "outputs": [
    {
     "data": {
      "image/png": "[encoded data removed]",
      "text/latex": [
       "$$\\left \\{ y_{0} : y_{0, 0}, \\quad y_{1} : y_{1, 0}, \\quad y_{10} : y_{10, 0}, \\quad y_{11} : y_{11, 0}, \\quad y_{12} : y_{12, 0}, \\quad y_{13} : y_{13, 0}, \\quad y_{2} : y_{2, 0}, \\quad y_{3} : y_{3, 0}, \\quad y_{4} : y_{4, 0}, \\quad y_{5} : y_{5, 0}, \\quad y_{6} : y_{6, 0}, \\quad y_{7} : y_{7, 0}, \\quad y_{8} : y_{8, 0}, \\quad y_{9} : y_{9, 0}\\right \\}$$"
      ],
      "text/plain": [
       "{y₀: y₀₀, y₁: y₁₀, y₁₀: y₁₀₀, y₁₁: y₁₁₀, y₁₂: y₁₂₀, y₁₃: y₁₃₀, y₂: y₂₀, y₃: y₃\n",
       "₀, y₄: y₄₀, y₅: y₅₀, y₆: y₆₀, y₇: y₇₀, y₈: y₈₀, y₉: y₉₀}"
      ]
     },
     "execution_count": 13,
     "metadata": {},
     "output_type": "execute_result"
    }
   ],
   "source": [
    "state_array_map = dict(zip(states, y))\n",
    "state_array_map"
   ]
  },
  {
   "cell_type": "markdown",
   "metadata": {},
   "source": [
    "Now replace the symbols in `rhs_of_odes` according to the mapping.  We'll call it `rhs_of_odes_ind` and use that from now on."
   ]
  },
  {
   "cell_type": "code",
   "execution_count": 14,
   "metadata": {
    "collapsed": true
   },
   "outputs": [
    {
     "data": {
      "image/png": "[encoded data removed]",
      "text/latex": [
       "$$- 14520000.0 y_{0, 0}^{2} - 0.0158 y_{0, 0} y_{1, 0} - 27600000.0 y_{0, 0} y_{4, 0} - 35500000.0 y_{0, 0} y_{5, 0} - 13600000.0 y_{0, 0} y_{6, 0} - 22900000.0 y_{0, 0} y_{7, 0} - 13000000.0 y_{0, 0} y_{8, 0} - 13000000.0 y_{0, 0} y_{9, 0} - 20900000.0 y_{0, 0} y_{11, 0} + 24400.0 y_{2, 0} y_{4, 0} + 5.83 y_{4, 0} + 0.0854$$"
      ],
      "text/plain": [
       "                2                                                             \n",
       "- 14520000.0⋅y₀₀  - 0.0158⋅y₀₀⋅y₁₀ - 27600000.0⋅y₀₀⋅y₄₀ - 35500000.0⋅y₀₀⋅y₅₀ -\n",
       "\n",
       "                                                                              \n",
       " 13600000.0⋅y₀₀⋅y₆₀ - 22900000.0⋅y₀₀⋅y₇₀ - 13000000.0⋅y₀₀⋅y₈₀ - 13000000.0⋅y₀₀\n",
       "\n",
       "                                                                \n",
       "⋅y₉₀ - 20900000.0⋅y₀₀⋅y₁₁₀ + 24400.0⋅y₂₀⋅y₄₀ + 5.83⋅y₄₀ + 0.0854"
      ]
     },
     "execution_count": 14,
     "metadata": {},
     "output_type": "execute_result"
    }
   ],
   "source": [
    "rhs_of_odes_ind = rhs_of_odes.xreplace(state_array_map)\n",
    "rhs_of_odes_ind[0]"
   ]
  },
  {
   "cell_type": "markdown",
   "metadata": {},
   "source": [
    "**Exercise**: use `codegen` again, but this time with `rhs_of_odes_ind` which makes use of a state vector rather than a container of symbols. Check out the resulting code. What is different about the function signature?\n",
    "\n",
    "```python\n",
    "[(cf, cs), (hf, hs)] = codegen(???)\n",
    "```"
   ]
  },
  {
   "cell_type": "code",
   "execution_count": 15,
   "metadata": {
    "collapsed": true
   },
   "outputs": [],
   "source": []
  },
  {
   "cell_type": "markdown",
   "metadata": {},
   "source": [
    "**Solution**\n",
    "\n",
    "```\n",
    "|\n",
    "|\n",
    "|\n",
    "|\n",
    "|\n",
    "|\n",
    "|\n",
    "|\n",
    "|\n",
    "|\n",
    "v\n",
    "```"
   ]
  },
  {
   "cell_type": "code",
   "execution_count": 15,
   "metadata": {
    "collapsed": true
   },
   "outputs": [
    {
     "name": "stdout",
     "output_type": "stream",
     "text": [
      "/******************************************************************************\n",
      " *                      Code generated with sympy 1.1.1                       *\n",
      " *                                                                            *\n",
      " *              See http://www.sympy.org/ for more information.               *\n",
      " *                                                                            *\n",
      " *                       This file is part of 'project'                       *\n",
      " ******************************************************************************/\n",
      "#include \"c_odes.h\"\n",
      "#include <math.h>\n",
      "\n",
      "void c_odes(double *y, double *out_4214094164328970130) {\n",
      "\n",
      "   out_4214094164328970130[0] = -14520000.0*pow(y[0], 2) - 0.0158*y[0]*y[1] - 27600000.0*y[0]*y[4] - 35500000.0*y[0]*y[5] - 13600000.0*y[0]*y[6] - 22900000.0*y[0]*y[7] - 13000000.0*y[0]*y[8] - 13000000.0*y[0]*y[9] - 20900000.0*y[0]*y[11] + 24400.0*y[2]*y[4] + 5.83*y[4] + 0.0854;\n",
      "   out_4214094164328970130[1] = -14520000.0*pow(y[0], 2) - 0.0158*y[0]*y[1] - 27600000.0*y[0]*y[4] - 26000000.0*y[0]*y[8] - 4.58e-8*y[1]*y[4] - 0.000155*y[1]*y[8] - 1270.0*y[1]*y[10] - 1270.0*y[1]*y[12] - 2.12e-5*y[1] + 24400.0*y[2]*y[4] + 13300000.0*y[2]*y[5] + 13300000.0*y[2]*y[6] + 13300000.0*y[2]*y[9] + 118000000.0*y[2]*y[11] + 39500.0*y[3]*y[5] + 10900000.0*y[4]*y[5] + 36500.0*y[4]*y[6] + 29200.0*y[5]*y[6] + 8840000.0*y[5]*y[9] + 4070000.0*y[5]*y[10] + 2.6e-7*y[6] - 101000.0*y[8]*y[9] - 0.131;\n",
      "   out_4214094164328970130[2] = 14520000.0*pow(y[0], 2) + 0.0158*y[0]*y[1] + 27600000.0*y[0]*y[4] + 35500000.0*y[0]*y[5] + 13600000.0*y[0]*y[6] + 26000000.0*y[0]*y[8] + 0.000155*y[1]*y[8] + 1270.0*y[1]*y[10] + 1270.0*y[1]*y[12] + 2.12e-5*y[1] - 24400.0*y[2]*y[4] - 13300000.0*y[2]*y[5] - 13300000.0*y[2]*y[6] - 13300000.0*y[2]*y[9] - 118000000.0*y[2]*y[11] + 128000.0*y[3]*y[12] + 11000000.0*y[5]*y[8] + 4070000.0*y[6]*y[12] + 101000.0*y[8]*y[9] + 786000.0*y[10]*y[12];\n",
      "   out_4214094164328970130[3] = 7260000.0*pow(y[0], 2) + 27600000.0*y[0]*y[4] + 4.58e-8*y[1]*y[4] - 39500.0*y[3]*y[5] - 128000.0*y[3]*y[12] + 5140000.0*pow(y[4], 2) + 0.0136;\n",
      "   out_4214094164328970130[4] = 0.0158*y[0]*y[1] - 27600000.0*y[0]*y[4] + 20900000.0*y[0]*y[11] - 4.58e-8*y[1]*y[4] - 24400.0*y[2]*y[4] + 39500.0*y[3]*y[5] + 128000.0*y[3]*y[12] - 10280000.0*pow(y[4], 2) - 10900000.0*y[4]*y[5] - 36500.0*y[4]*y[6] - 13100000.0*y[4]*y[7] - 11400000.0*y[4]*y[8] - 11400000.0*y[4]*y[9] - 5.83*y[4] + 0.0188;\n",
      "   out_4214094164328970130[5] = -35500000.0*y[0]*y[5] + 13600000.0*y[0]*y[6] + 4.58e-8*y[1]*y[4] + 1270.0*y[1]*y[12] - 13300000.0*y[2]*y[5] - 39500.0*y[3]*y[5] - 10900000.0*y[4]*y[5] + 36500.0*y[4]*y[6] + 22800000.0*y[4]*y[9] - 9620000.0*pow(y[5], 2) - 29200.0*y[5]*y[6] - 11000000.0*y[5]*y[8] - 8840000.0*y[5]*y[9] - 4070000.0*y[5]*y[10] - 0.0943*y[5] + 50200000.0*y[11]*y[12] + 0.0871;\n",
      "   out_4214094164328970130[6] = -13600000.0*y[0]*y[6] + 13000000.0*y[0]*y[8] + 1270.0*y[1]*y[10] - 13300000.0*y[2]*y[6] - 36500.0*y[4]*y[6] + 4810000.0*pow(y[5], 2) - 29200.0*y[5]*y[6] - 4070000.0*y[6]*y[12] - 0.09430026*y[6] + 101000.0*y[8]*y[9] + 840.0*pow(y[9], 2) + 50200000.0*y[10]*y[11] + 0.0221;\n",
      "   out_4214094164328970130[7] = -22900000.0*y[0]*y[7] - 13100000.0*y[4]*y[7] + 11000000.0*y[5]*y[8] + 8840000.0*y[5]*y[9] + 1.3e-7*y[6] - 3750000.0*y[7]*y[12] + 101000.0*y[8]*y[9] + 840.0*pow(y[9], 2) + 2620.0*y[13] + 8.19e-7;\n",
      "   out_4214094164328970130[8] = 22900000.0*y[0]*y[7] - 13000000.0*y[0]*y[8] - 0.000155*y[1]*y[8] + 13300000.0*y[2]*y[9] - 11400000.0*y[4]*y[8] - 11000000.0*y[5]*y[8] + 4070000.0*y[5]*y[10] - 101000.0*y[8]*y[9] - 50200000.0*y[8]*y[11] + 773000.0*y[9] + 786000.0*y[10]*y[12];\n",
      "   out_4214094164328970130[9] = -13000000.0*y[0]*y[9] + 0.000155*y[1]*y[8] - 13300000.0*y[2]*y[9] + 13100000.0*y[4]*y[7] - 11400000.0*y[4]*y[9] + 29200.0*y[5]*y[6] - 8840000.0*y[5]*y[9] + 4070000.0*y[6]*y[12] - 101000.0*y[8]*y[9] + 50200000.0*y[8]*y[11] - 1680.0*pow(y[9], 2) - 773000.0*y[9];\n",
      "   out_4214094164328970130[10] = 13000000.0*y[0]*y[9] - 1270.0*y[1]*y[10] + 13300000.0*y[2]*y[6] + 11400000.0*y[4]*y[8] - 4070000.0*y[5]*y[10] + 0.0943*y[6] - 50200000.0*y[10]*y[11] - 786000.0*y[10]*y[12];\n",
      "   out_4214094164328970130[11] = -20900000.0*y[0]*y[11] + 2.12e-5*y[1] - 118000000.0*y[2]*y[11] + 5.83*y[4] + 0.0943*y[5] + 0.0943*y[6] - 50200000.0*y[8]*y[11] + 773000.0*y[9] - 50200000.0*y[10]*y[11] - 50200000.0*y[11]*y[12] + 0.0854;\n",
      "   out_4214094164328970130[12] = -1270.0*y[1]*y[12] + 13300000.0*y[2]*y[5] - 128000.0*y[3]*y[12] + 0.0943*y[5] - 4070000.0*y[6]*y[12] - 3750000.0*y[7]*y[12] - 786000.0*y[10]*y[12] - 50200000.0*y[11]*y[12] + 2620.0*y[13];\n",
      "   out_4214094164328970130[13] = 3750000.0*y[7]*y[12] - 2620.0*y[13];\n",
      "\n",
      "}\n",
      "\n"
     ]
    }
   ],
   "source": [
    "[(cf, cs), (hf, hs)] = codegen(('c_odes', rhs_of_odes_ind), language='c')\n",
    "print(cs)"
   ]
  },
  {
   "cell_type": "markdown",
   "metadata": {},
   "source": [
    "So by re-writing our expression in terms of a `MatrixSymbol` rather than individual symbols, the function signature of the generated code is cleaned up greatly.\n",
    "\n",
    "However, we still have the issue of the auto-generated output variable name. To fix this, we can form a matrix *equation* rather than an expression. The name given to the symbol on the left hand side of the equation will then be used for our output variable name.\n",
    "\n",
    "We'll start by defining a new `MatrixSymbol` that will represent the left hand side of our equation -- the derivatives of each state variable."
   ]
  },
  {
   "cell_type": "code",
   "execution_count": 16,
   "metadata": {
    "collapsed": true
   },
   "outputs": [],
   "source": [
    "dY = sym.MatrixSymbol('dY', *y.shape)"
   ]
  },
  {
   "cell_type": "markdown",
   "metadata": {},
   "source": [
    "**Exercise**: form an equation using `sym.Eq` to equate the two sides of our system of differential equations, then use this as the expression in `codegen`. Print out just the *header* source to see the function signature. What is the output argument called now?\n",
    "\n",
    "```python\n",
    "ode_eq = sym.Eq(???)\n",
    "[(cf, cs), (hf, hs)] = codegen(???)\n",
    "print(???)\n",
    "```"
   ]
  },
  {
   "cell_type": "code",
   "execution_count": 17,
   "metadata": {
    "collapsed": true
   },
   "outputs": [],
   "source": []
  },
  {
   "cell_type": "markdown",
   "metadata": {},
   "source": [
    "**Solution**\n",
    "\n",
    "```\n",
    "|\n",
    "|\n",
    "|\n",
    "|\n",
    "|\n",
    "|\n",
    "|\n",
    "|\n",
    "|\n",
    "|\n",
    "v\n",
    "```"
   ]
  },
  {
   "cell_type": "code",
   "execution_count": 17,
   "metadata": {
    "collapsed": true
   },
   "outputs": [
    {
     "name": "stdout",
     "output_type": "stream",
     "text": [
      "/******************************************************************************\n",
      " *                      Code generated with sympy 1.1.1                       *\n",
      " *                                                                            *\n",
      " *              See http://www.sympy.org/ for more information.               *\n",
      " *                                                                            *\n",
      " *                       This file is part of 'project'                       *\n",
      " ******************************************************************************/\n",
      "\n",
      "\n",
      "#ifndef PROJECT__C_ODES__H\n",
      "#define PROJECT__C_ODES__H\n",
      "\n",
      "void c_odes(double *y, double *dY);\n",
      "\n",
      "#endif\n",
      "\n",
      "\n"
     ]
    }
   ],
   "source": [
    "ode_eq = sym.Eq(dY, rhs_of_odes_ind)\n",
    "[(cf, cs), (hf, hs)] = codegen(('c_odes', ode_eq), language='c')\n",
    "print(hs)"
   ]
  },
  {
   "cell_type": "markdown",
   "metadata": {},
   "source": [
    "Now we see that the `c_odes` function signature is nice and clean. We pass it a pointer to an array representing the current values of all of our state variables and a pointer to an array that we want to fill with the derivatives of each of those state variables.\n",
    "\n",
    "If you're not familiar with C and pointers, you just need to know that it is idiomatic in C to preallocate a block of memory representing an array, then pass the *location* of that memory (and usually the number of elements it can hold), rather than passing the array itself to/from a function. For our purposes, this is as complicated as pointers will get.\n",
    "\n",
    "Just so we can compile this code and use it, we'll re-use the `codegen` call above with `to_files=True` so the `.c` and `.h` files are actually written to the filesystem, rather than having their contents returned in a string."
   ]
  },
  {
   "cell_type": "code",
   "execution_count": 18,
   "metadata": {
    "collapsed": true
   },
   "outputs": [],
   "source": [
    "codegen(('c_odes', ode_eq), language='c', to_files=True)"
   ]
  },
  {
   "cell_type": "markdown",
   "metadata": {},
   "source": [
    "## 3. Wrapping the Generated Code with Cython\n",
    "\n",
    "Now we want to wrap the function that was generated `c_odes` with a Cython function so we can generate an extension module and call that function from Python. Wrapping a set of C functions involves writing a Cython script that specifies the Python interface to the C functions. This script must do two things:\n",
    "\n",
    "1. specify the function signatures as found in the C source\n",
    "2. implement the Python interface to the C functions by wrapping them\n",
    "\n",
    "The build system of Cython is able to take the Cython wrapper source code as well as the C library source code and compile/link things together into a Python extension module. We will write our wrapper code in a cell making use of the magic command `%%cython_pyximport`, which does a few things for us:\n",
    "\n",
    "- writes the contents of the cell to a Cython source file (`modname.pyx`)\n",
    "- looks for a `modname.pyxbld` file for instructions on how to build things\n",
    "- builds everything into an extension module\n",
    "- imports the extension module, making the functions declared there available in the notebook\n",
    "\n",
    "So, it works similarly to the `%%cython` magic command we saw at the very beginning, but things are a bit more complicated now because we have this external library `c_odes` that needs to be compiled as well.\n",
    "\n",
    "*Note: The `pyxbld` file contains code similar to what would be found in the `setup.py` file of a package making use of Cython code for wrapping C libraries.*\n",
    "\n",
    "In either case, all that's needed is to tell setuptools/Cython:\n",
    "\n",
    "- the name of the extension module we want to make\n",
    "- the location of the Cython and C source files to be built\n",
    "- the location of headers needed during compilation -- both our C library's headers as well as NumPy's headers\n",
    "\n",
    "We will call our extension module `cy_odes`, so here we'll generate a `cy_odes.pyxbld` file to specify how to build the module."
   ]
  },
  {
   "cell_type": "code",
   "execution_count": 19,
   "metadata": {
    "collapsed": true
   },
   "outputs": [
    {
     "name": "stdout",
     "output_type": "stream",
     "text": [
      "Overwriting cy_odes.pyxbld\n"
     ]
    }
   ],
   "source": [
    "%%writefile cy_odes.pyxbld\n",
    "import numpy\n",
    "\n",
    "#            module name specified by `%%cython_pyximport` magic\n",
    "#            |        just `modname + \".pyx\"`\n",
    "#            |        |\n",
    "def make_ext(modname, pyxfilename):\n",
    "    from setuptools.extension import Extension\n",
    "    return Extension(modname,\n",
    "                     sources=[pyxfilename, 'c_odes.c'],\n",
    "                     include_dirs=['.', numpy.get_include()])"
   ]
  },
  {
   "cell_type": "markdown",
   "metadata": {},
   "source": [
    "Now we can write our wrapper code.\n",
    "\n",
    "To write the wrapper, we first write the function signature as specified by the C library. Then, we create a *wrapper function* that makes use of the C implementation and returns the result. This wrapper function becomes the interface to the compiled code, and it does not need to be identical to the C function signature. In fact, we'll make our wrapper function compliant with the `odeint` interface (i.e. takes a 1-dimensional array of state variable values and the current time)."
   ]
  },
  {
   "cell_type": "code",
   "execution_count": 20,
   "metadata": {
    "collapsed": true
   },
   "outputs": [],
   "source": [
    "%%cython_pyximport cy_odes\n",
    "import numpy as np\n",
    "cimport numpy as cnp # cimport gives us access to NumPy's C API\n",
    "\n",
    "# here we just replicate the function signature from the header\n",
    "cdef extern from \"c_odes.h\":\n",
    "    void c_odes(double *y, double *dY)\n",
    "\n",
    "# here is the \"wrapper\" signature that conforms to the odeint interface\n",
    "def cy_odes(cnp.ndarray[cnp.double_t, ndim=1] y, double t):\n",
    "    # preallocate our output array\n",
    "    cdef cnp.ndarray[cnp.double_t, ndim=1] dY = np.empty(y.size, dtype=np.double)\n",
    "    # now call the C function\n",
    "    c_odes(<double *> y.data, <double *> dY.data)\n",
    "    # return the result\n",
    "    return dY"
   ]
  },
  {
   "cell_type": "markdown",
   "metadata": {},
   "source": [
    "**Exercise**: use `np.random.randn` to generate random state variable values and evaluate the right-hand-side of our ODEs with those values.\n",
    "\n",
    "```python\n",
    "random_vals = np.random.randn(???)\n",
    "???\n",
    "```"
   ]
  },
  {
   "cell_type": "code",
   "execution_count": 21,
   "metadata": {
    "collapsed": true
   },
   "outputs": [],
   "source": []
  },
  {
   "cell_type": "markdown",
   "metadata": {},
   "source": [
    "**Solution**\n",
    "\n",
    "```\n",
    "|\n",
    "|\n",
    "|\n",
    "|\n",
    "|\n",
    "|\n",
    "|\n",
    "|\n",
    "|\n",
    "|\n",
    "v\n",
    "```"
   ]
  },
  {
   "cell_type": "code",
   "execution_count": 21,
   "metadata": {
    "collapsed": true
   },
   "outputs": [
    {
     "data": {
      "text/plain": [
       "array([ -5.58444450e+07,  -1.43377561e+08,   1.21216068e+08,\n",
       "         5.51420674e+07,  -3.24387510e+07,  -5.79326199e+07,\n",
       "         3.06733155e+07,   3.19719271e+06,  -7.36330857e+07,\n",
       "         6.63062194e+07,  -3.30160071e+06,   2.12750417e+07,\n",
       "         3.24521425e+07,   3.85962970e+05])"
      ]
     },
     "execution_count": 21,
     "metadata": {},
     "output_type": "execute_result"
    }
   ],
   "source": [
    "random_vals = np.random.randn(14)\n",
    "cy_odes(random_vals, 0) # note: any time value will do"
   ]
  },
  {
   "cell_type": "markdown",
   "metadata": {},
   "source": [
    "Now we can use `odeint` to integrate the equations and plot the results to check that it worked. First we need to import `odeint`."
   ]
  },
  {
   "cell_type": "code",
   "execution_count": 22,
   "metadata": {
    "collapsed": true
   },
   "outputs": [],
   "source": [
    "from scipy.integrate import odeint"
   ]
  },
  {
   "cell_type": "markdown",
   "metadata": {},
   "source": [
    "A couple convenience functions are provided in the `scipy2017codegen` package which give some reasonable initial conditions for the system and plot the state trajectories, respectively. Start by grabbing some initial values for our state variables and time values."
   ]
  },
  {
   "cell_type": "code",
   "execution_count": 23,
   "metadata": {
    "collapsed": true
   },
   "outputs": [],
   "source": [
    "from scipy2017codegen.chem import watrad_init, watrad_plot\n",
    "y_init, t_vals = watrad_init()"
   ]
  },
  {
   "cell_type": "markdown",
   "metadata": {},
   "source": [
    "Finally we can integrate the equations using our Cython-wrapped C function and plot the results."
   ]
  },
  {
   "cell_type": "code",
   "execution_count": 24,
   "metadata": {
    "collapsed": true
   },
   "outputs": [
    {
     "data": {
      "image/png": "[encoded data removed]",
      "text/plain": [
       "<matplotlib.figure.Figure at 0x7f6602d6a160>"
      ]
     },
     "metadata": {},
     "output_type": "display_data"
    }
   ],
   "source": [
    "y_vals = odeint(cy_odes, y_init, t_vals)\n",
    "watrad_plot(t_vals, y_vals)"
   ]
  },
  {
   "cell_type": "markdown",
   "metadata": {},
   "source": [
    "## 4. Generating and Compiling a C Extension Module Automatically\n",
    "\n",
    "As yet another layer of abstraction on top of `codegen`, SymPy provides an `autowrap` function that can *automatically generate* a Cython wrapper for the generated C code. This greatly simplifies the process of going from a SymPy expression to numerical computation, but as we'll see, we lose a bit of flexibility compared to manually creating the Cython wrapper.\n",
    "\n",
    "Let's start by importing the `autowrap` function and checking out its documentation."
   ]
  },
  {
   "cell_type": "code",
   "execution_count": 25,
   "metadata": {
    "collapsed": true
   },
   "outputs": [],
   "source": [
    "from sympy.utilities.autowrap import autowrap\n",
    "#autowrap?"
   ]
  },
  {
   "cell_type": "markdown",
   "metadata": {},
   "source": [
    "So `autowrap` takes in a SymPy expression and gives us back a binary callable which evaluates the expression numerically. Let's use the `Equality` formed earlier to generate a function we can call to evaluate the right hand side of our system of ODEs."
   ]
  },
  {
   "cell_type": "code",
   "execution_count": 26,
   "metadata": {
    "collapsed": true
   },
   "outputs": [],
   "source": [
    "auto_odes = autowrap(ode_eq, backend='cython', tempdir='./autowraptmp')"
   ]
  },
  {
   "cell_type": "markdown",
   "metadata": {},
   "source": [
    "**Exercise**: use the main Jupyter notebook tab to head to the temporary directory `autowrap` just created. Take a look at some of the files it contains. Can you map everything we did manually to the files generated?"
   ]
  },
  {
   "cell_type": "markdown",
   "metadata": {},
   "source": [
    "**Solution**\n",
    "\n",
    "```\n",
    "|\n",
    "|\n",
    "|\n",
    "|\n",
    "|\n",
    "|\n",
    "|\n",
    "|\n",
    "|\n",
    "|\n",
    "v\n",
    "```"
   ]
  },
  {
   "cell_type": "markdown",
   "metadata": {},
   "source": [
    "`autowrap` generates quite a few files, but we'll explicitly list a few here:\n",
    "\n",
    "- `wrapped_code_#.c`: the same thing `codegen` generated\n",
    "- `wrapper_module_#.pyx`: the Cython wrapper code\n",
    "- `wrapper_module_#.c`: the cythonized code\n",
    "- `setup.py`: specification of the `Extension` for how to build the extension module"
   ]
  },
  {
   "cell_type": "markdown",
   "metadata": {},
   "source": [
    "**Exercise**: just like we did before, generate some random values for the state variables and use `auto_odes` to compute the derivatives. Did it work like before?\n",
    "\n",
    "*Hint: take a look at `wrapper_module_#.pyx` to see the types of the arrays being passed in / created.*\n",
    "\n",
    "```python\n",
    "random_vals = np.random.randn(???)\n",
    "auto_odes(???)\n",
    "```"
   ]
  },
  {
   "cell_type": "code",
   "execution_count": 27,
   "metadata": {
    "collapsed": true
   },
   "outputs": [],
   "source": []
  },
  {
   "cell_type": "markdown",
   "metadata": {},
   "source": [
    "**Solution**\n",
    "\n",
    "```\n",
    "|\n",
    "|\n",
    "|\n",
    "|\n",
    "|\n",
    "|\n",
    "|\n",
    "|\n",
    "|\n",
    "|\n",
    "v\n",
    "```"
   ]
  },
  {
   "cell_type": "code",
   "execution_count": 27,
   "metadata": {
    "collapsed": true
   },
   "outputs": [
    {
     "data": {
      "text/plain": [
       "array([[ -1.59143427e+08],\n",
       "       [ -1.78797258e+08],\n",
       "       [  1.94548478e+08],\n",
       "       [  9.23492443e+07],\n",
       "       [ -2.68661548e+07],\n",
       "       [ -9.13972231e+07],\n",
       "       [ -1.34056167e+08],\n",
       "       [  1.23450152e+07],\n",
       "       [  6.01177594e+07],\n",
       "       [ -7.13960467e+07],\n",
       "       [  1.43724471e+08],\n",
       "       [  2.92394836e+08],\n",
       "       [  5.26333607e+07],\n",
       "       [  5.14192558e+05]])"
      ]
     },
     "execution_count": 27,
     "metadata": {},
     "output_type": "execute_result"
    }
   ],
   "source": [
    "random_vals = np.random.randn(14, 1) # need a 2-dimensional vector\n",
    "auto_odes(random_vals)"
   ]
  },
  {
   "cell_type": "markdown",
   "metadata": {},
   "source": [
    "One advantage to wrapping the generated C code manually is that we get fine control over how the function is used from Python. That is, in our hand-written Cython wrapper we were able to specify that from the Python side, the input to our wrapper function and its return value are both 1-dimensional `ndarray` objects. We were also able to add in the extra argument `t` for the current time, making the wrapper function fully compatible with `odeint`.\n",
    "\n",
    "However, `autowrap` just sees that we have a matrix equation where each side is a 2-dimensional array with shape (14, 1). The function returned then expects the input array to be 2-dimensional and it returns a 2-dimensional array."
   ]
  },
  {
   "cell_type": "markdown",
   "metadata": {},
   "source": [
    "This won't work with `odeint`, so we can write a simple wrapper that massages the input and output and adds an extra argument for `t`."
   ]
  },
  {
   "cell_type": "code",
   "execution_count": 28,
   "metadata": {
    "collapsed": true
   },
   "outputs": [],
   "source": [
    "def auto_odes_wrapper(y, t):\n",
    "    dY = auto_odes(y[:, np.newaxis])\n",
    "    return dY.squeeze()"
   ]
  },
  {
   "cell_type": "markdown",
   "metadata": {},
   "source": [
    "Now a 1-dimensional input works."
   ]
  },
  {
   "cell_type": "code",
   "execution_count": 29,
   "metadata": {
    "collapsed": true
   },
   "outputs": [
    {
     "data": {
      "text/plain": [
       "array([ -5868426.13205708, -45494311.47359753, -21454926.09321377,\n",
       "        -9733526.84245328,  63572892.59926135,  66368504.58383791,\n",
       "        33379608.77710303, -18924226.1362403 ,  17776197.57594277,\n",
       "       -11031978.45210227,  -9120111.94782154, -44637921.61136612,\n",
       "       -27166859.19608055,   1196204.18186406])"
      ]
     },
     "execution_count": 29,
     "metadata": {},
     "output_type": "execute_result"
    }
   ],
   "source": [
    "random_vals = np.random.randn(14)\n",
    "auto_odes_wrapper(random_vals, 0)"
   ]
  },
  {
   "cell_type": "markdown",
   "metadata": {},
   "source": [
    "**Exercise**: As we have seen previously, we can analytically evaluate the Jacobian of our system of ODEs, which can be helpful in numerical integration. Compute the Jacobian of `rhs_of_odes_ind` with respect to `y`, then use `autowrap` to generate a function that evaluates the Jacobian numerically. Finally, write a Python wrapper called `auto_jac_wrapper` to make it compatible with `odeint`.\n",
    "\n",
    "```python\n",
    "# compute jacobian of rhs_of_odes_ind with respect to y\n",
    "???\n",
    "\n",
    "# generate a function that computes the jacobian\n",
    "auto_jac = autowrap(???)\n",
    "\n",
    "def auto_jac_wrapper(y, t):\n",
    "    return ???\n",
    "```\n",
    "\n",
    "Test your wrapper by passing in the `random_vals` array from above. The shape of the result should be `(14, 14)`."
   ]
  },
  {
   "cell_type": "code",
   "execution_count": 30,
   "metadata": {
    "collapsed": true
   },
   "outputs": [],
   "source": []
  },
  {
   "cell_type": "markdown",
   "metadata": {},
   "source": [
    "**Solution**\n",
    "\n",
    "```\n",
    "|\n",
    "|\n",
    "|\n",
    "|\n",
    "|\n",
    "|\n",
    "|\n",
    "|\n",
    "|\n",
    "|\n",
    "v\n",
    "```"
   ]
  },
  {
   "cell_type": "code",
   "execution_count": 30,
   "metadata": {
    "collapsed": true
   },
   "outputs": [
    {
     "data": {
      "image/png": "[encoded data removed]",
      "text/latex": [
       "$$\\left ( 14, \\quad 14\\right )$$"
      ],
      "text/plain": [
       "(14, 14)"
      ]
     },
     "execution_count": 30,
     "metadata": {},
     "output_type": "execute_result"
    }
   ],
   "source": [
    "jac = rhs_of_odes_ind.jacobian(y)\n",
    "\n",
    "auto_jac = autowrap(jac, backend='cython', tempdir='./autowraptmp')\n",
    "\n",
    "def auto_jac_wrapper(y, t):\n",
    "    return auto_jac(y[:, np.newaxis])\n",
    "\n",
    "auto_jac_wrapper(random_vals, 2).shape"
   ]
  },
  {
   "cell_type": "markdown",
   "metadata": {},
   "source": [
    "Finally, we can use our two wrapped functions in `odeint` and compare to our manually-written Cython wrapper result."
   ]
  },
  {
   "cell_type": "code",
   "execution_count": 31,
   "metadata": {
    "collapsed": true
   },
   "outputs": [
    {
     "data": {
      "image/png": "[encoded data removed]",
      "text/plain": [
       "<matplotlib.figure.Figure at 0x7f660230e7f0>"
      ]
     },
     "metadata": {},
     "output_type": "display_data"
    }
   ],
   "source": [
    "y_vals = odeint(auto_odes_wrapper, y_init, t_vals, Dfun=auto_jac_wrapper)\n",
    "watrad_plot(t_vals, y_vals)"
   ]
  },
  {
   "cell_type": "markdown",
   "metadata": {},
   "source": [
    "## 5. Using a Custom Printer and an External Library with `autowrap`\n",
    "\n",
    "As of SymPy 1.1, `autowrap` accepts a custom `CodeGen` object, which is responsible for generating the code. The `CodeGen` object in turn accepts a custom `CodePrinter` object, meaning we can use these two points of flexibility to make use of customized code printing in an autowrapped function. The following example is somewhat contrived, but the concept in general is powerful.\n",
    "\n",
    "In our set of ODEs, there are quite a few instances of $y_i^2$, where $y_i$ is one of the 14 state variables. As an example, here's the equation for $\\frac{dy_3(t)}{dt}$:"
   ]
  },
  {
   "cell_type": "code",
   "execution_count": 32,
   "metadata": {
    "collapsed": true
   },
   "outputs": [
    {
     "data": {
      "image/png": "[encoded data removed]",
      "text/latex": [
       "$$7260000.0 y_{0}^{2} + 27600000.0 y_{0} y_{4} + 4.58 \\cdot 10^{-8} y_{1} y_{4} - 128000.0 y_{12} y_{3} - 39500.0 y_{3} y_{5} + 5140000.0 y_{4}^{2} + 0.0136$$"
      ],
      "text/plain": [
       "            2                                                                 \n",
       "7260000.0⋅y₀  + 27600000.0⋅y₀⋅y₄ + 4.58e-8⋅y₁⋅y₄ - 128000.0⋅y₁₂⋅y₃ - 39500.0⋅y\n",
       "\n",
       "                   2         \n",
       "₃⋅y₅ + 5140000.0⋅y₄  + 0.0136"
      ]
     },
     "execution_count": 32,
     "metadata": {},
     "output_type": "execute_result"
    }
   ],
   "source": [
    "rhs_of_odes[3]"
   ]
  },
  {
   "cell_type": "markdown",
   "metadata": {},
   "source": [
    "There is a library called [fastapprox](https://github.com/romeric/fastapprox) that provides computational routines things like powers, exponentials, logarithms, and a few others. These routines provide limited precision with respect to something like `math.h`'s equivalent functions, but they offer potentially faster computation.\n",
    "\n",
    "The fastapprox library provides a function called `fastpow`, with the signature `fastpow(float x, float p)`. It it follows the interface of `pow` from `math.h`. In the previous notebook, we saw how to turn instances of $x^3$ into `x*x*x`, which is potentially quicker than `pow(x, 3)`. Here, let's just use `fastpow` instead."
   ]
  },
  {
   "cell_type": "markdown",
   "metadata": {},
   "source": [
    "**Exercise**: implement a `CustomPrinter` class that inherits from `C99CodePrinter` and overrides the `_print_Pow` function to make use of `fastpow`. Test it by instantiating the custom printer and printing a SymPy expression $x^3$.\n",
    "\n",
    "*Hint: it may be helpful to run `C99CodePrinter._print_Pow??` to see how it works*\n",
    "\n",
    "```python\n",
    "from sympy.printing.ccode import C99CodePrinter\n",
    "\n",
    "class CustomPrinter(C99CodePrinter):\n",
    "    def _print_Pow(self, expr):\n",
    "        ???\n",
    "\n",
    "printer = CustomPrinter()\n",
    "x = sym.symbols('x')\n",
    "# print x**3 using the custom printer\n",
    "???\n",
    "```"
   ]
  },
  {
   "cell_type": "code",
   "execution_count": 33,
   "metadata": {
    "collapsed": true
   },
   "outputs": [],
   "source": []
  },
  {
   "cell_type": "markdown",
   "metadata": {},
   "source": [
    "**Solution**\n",
    "\n",
    "```\n",
    "|\n",
    "|\n",
    "|\n",
    "|\n",
    "|\n",
    "|\n",
    "|\n",
    "|\n",
    "|\n",
    "|\n",
    "v\n",
    "```"
   ]
  },
  {
   "cell_type": "code",
   "execution_count": 33,
   "metadata": {
    "collapsed": true
   },
   "outputs": [
    {
     "data": {
      "text/plain": [
       "'fastpow(x, 3)'"
      ]
     },
     "execution_count": 33,
     "metadata": {},
     "output_type": "execute_result"
    }
   ],
   "source": [
    "from sympy.printing.ccode import C99CodePrinter\n",
    "\n",
    "class CustomPrinter(C99CodePrinter):\n",
    "    def _print_Pow(self, expr):\n",
    "        return \"fastpow({}, {})\".format(self._print(expr.base),\n",
    "                                        self._print(expr.exp))\n",
    "\n",
    "printer = CustomPrinter()\n",
    "x = sym.symbols('x')\n",
    "printer.doprint(x**3)"
   ]
  },
  {
   "cell_type": "markdown",
   "metadata": {},
   "source": [
    "Now we can create a `C99CodeGen` object that will make use of this printer. This object will be passed in to `autowrap` with the `code_gen` keyword argument, and `autowrap` will use it in the code generation process."
   ]
  },
  {
   "cell_type": "code",
   "execution_count": 34,
   "metadata": {
    "collapsed": true
   },
   "outputs": [],
   "source": [
    "from sympy.utilities.codegen import C99CodeGen\n",
    "gen = C99CodeGen(printer=printer)"
   ]
  },
  {
   "cell_type": "markdown",
   "metadata": {},
   "source": [
    "However, for our generated code to use the `fastpow` function, it needs to have a `#include \"fastpow.h\"` preprocessor statement at the top. The code gen object supports this by allowing us to append preprocessor statements to its `preprocessor_statements` attribute."
   ]
  },
  {
   "cell_type": "code",
   "execution_count": 35,
   "metadata": {
    "collapsed": true
   },
   "outputs": [],
   "source": [
    "gen.preprocessor_statements.append('#include \"fastpow.h\"')"
   ]
  },
  {
   "cell_type": "markdown",
   "metadata": {},
   "source": [
    "One final issue remains, and that is telling `autowrap` where to find the fastapprox library headers. These header files have just been downloaded from GitHub and placed in the `scipy2017codegen` package, so it should be installed with the conda environment. We can find it by looking for the package directory."
   ]
  },
  {
   "cell_type": "code",
   "execution_count": 36,
   "metadata": {
    "collapsed": true
   },
   "outputs": [],
   "source": [
    "import os\n",
    "import scipy2017codegen\n",
    "\n",
    "package_dir = os.path.dirname(scipy2017codegen.__file__)\n",
    "fastapprox_dir = os.path.join(package_dir, 'fastapprox')"
   ]
  },
  {
   "cell_type": "markdown",
   "metadata": {},
   "source": [
    "Finally we're ready to call `autowrap`. We'll just use `ode_eq`, the `Equality` we created before, pass in the custom `CodeGen` object, and tell `autowrap` where the fastapprox headers are located."
   ]
  },
  {
   "cell_type": "code",
   "execution_count": 37,
   "metadata": {
    "collapsed": true
   },
   "outputs": [],
   "source": [
    "auto_odes_fastpow = autowrap(ode_eq,\n",
    "                             code_gen=gen,\n",
    "                             backend='cython',\n",
    "                             include_dirs=[fastapprox_dir],\n",
    "                             tempdir='autowraptmp_custom')"
   ]
  },
  {
   "cell_type": "markdown",
   "metadata": {},
   "source": [
    "If we navigate to the tmp directory created, we can view the `wrapped_code_#.c` to see our custom printing in action.\n",
    "\n",
    "As before, we need a wrapper function for use with `odeint`, but aside from that, everything should be in place."
   ]
  },
  {
   "cell_type": "code",
   "execution_count": 38,
   "metadata": {
    "collapsed": true
   },
   "outputs": [
    {
     "name": "stderr",
     "output_type": "stream",
     "text": [
      "/home/travis/miniconda3/envs/codegen17/lib/python3.6/site-packages/scipy/integrate/odepack.py:218: ODEintWarning: Excess work done on this call (perhaps wrong Dfun type). Run with full_output = 1 to get quantitative information.\n",
      "  warnings.warn(warning_msg, ODEintWarning)\n",
      "/home/travis/miniconda3/envs/codegen17/lib/python3.6/site-packages/matplotlib/ticker.py:2176: RuntimeWarning: overflow encountered in power\n",
      "  ticklocs = b ** decades\n",
      "/home/travis/miniconda3/envs/codegen17/lib/python3.6/site-packages/matplotlib/ticker.py:1099: RuntimeWarning: invalid value encountered in double_scalars\n",
      "  coeff = np.round(x / b ** exponent)\n",
      "/home/travis/miniconda3/envs/codegen17/lib/python3.6/site-packages/matplotlib/scale.py:111: RuntimeWarning: invalid value encountered in less_equal\n",
      "  out[a <= 0] = -1000\n"
     ]
    },
    {
     "data": {
      "image/png": "[encoded data removed]",
      "text/plain": [
       "<matplotlib.figure.Figure at 0x7f664a3497b8>"
      ]
     },
     "metadata": {},
     "output_type": "display_data"
    }
   ],
   "source": [
    "def auto_odes_fastpow_wrapper(y, t):\n",
    "    dY = auto_odes_fastpow(y[:, np.newaxis])\n",
    "    return dY.squeeze()\n",
    "\n",
    "y_vals, info = odeint(auto_odes_fastpow_wrapper, y_init, t_vals, full_output=True)\n",
    "watrad_plot(t_vals, y_vals)"
   ]
  },
  {
   "cell_type": "markdown",
   "metadata": {},
   "source": [
    "**Exercise**: generate an array of random state variable values, then use this array in the `auto_odes_wrapper` and `auto_odes_fastpow_wrapper` functions. Compare their outputs."
   ]
  },
  {
   "cell_type": "code",
   "execution_count": 39,
   "metadata": {
    "collapsed": true
   },
   "outputs": [],
   "source": []
  },
  {
   "cell_type": "markdown",
   "metadata": {},
   "source": [
    "**Solution**\n",
    "\n",
    "```\n",
    "|\n",
    "|\n",
    "|\n",
    "|\n",
    "|\n",
    "|\n",
    "|\n",
    "|\n",
    "|\n",
    "|\n",
    "v\n",
    "```"
   ]
  },
  {
   "cell_type": "code",
   "execution_count": 39,
   "metadata": {
    "collapsed": true
   },
   "outputs": [
    {
     "data": {
      "text/plain": [
       "array([ -4.42041081e+02,  -4.42041081e+02,   4.42041081e+02,\n",
       "         4.15476423e+02,  -3.88911766e+02,  -3.60157538e+01,\n",
       "         1.80183385e+01,   1.04615428e-02,   0.00000000e+00,\n",
       "        -2.09230855e-02,   0.00000000e+00,   0.00000000e+00,\n",
       "         0.00000000e+00,   0.00000000e+00])"
      ]
     },
     "execution_count": 39,
     "metadata": {},
     "output_type": "execute_result"
    }
   ],
   "source": [
    "random_vals = np.random.randn(14)\n",
    "dY1 = auto_odes_wrapper(random_vals, 0)\n",
    "dY2 = auto_odes_fastpow_wrapper(random_vals, 0)\n",
    "dY1 - dY2"
   ]
  }
 ],
 "metadata": {
  "anaconda-cloud": {},
  "kernelspec": {
   "display_name": "Python 3",
   "language": "python",
   "name": "python3"
  },
  "language_info": {
   "codemirror_mode": {
    "name": "ipython",
    "version": 3
   },
   "file_extension": ".py",
   "mimetype": "text/x-python",
   "name": "python",
   "nbconvert_exporter": "python",
   "pygments_lexer": "ipython3",
   "version": "3.6.1"
  }
 },
 "nbformat": 4,
 "nbformat_minor": 2
}
