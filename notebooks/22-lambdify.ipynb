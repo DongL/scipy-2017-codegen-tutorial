{
 "cells": [
  {
   "cell_type": "markdown",
   "metadata": {},
   "source": [
    "## Creating a function from a symbolic expression\n",
    "In SymPy there is a function to create a Python function which evaluates (usually numerically) an expression. SymPy allows the user to define the signature of this function (which is convenient when working with e.g. a numerical solver in ``scipy``)."
   ]
  },
  {
   "cell_type": "code",
   "execution_count": 1,
   "metadata": {},
   "outputs": [
    {
     "data": {
      "image/png": "[encoded data removed]",
      "text/latex": [
       "$$3 x^{2} + \\log{\\left (x^{2} + y^{2} + 1 \\right )}$$"
      ],
      "text/plain": [
       "   2      ⎛ 2    2    ⎞\n",
       "3⋅x  + log⎝x  + y  + 1⎠"
      ]
     },
     "execution_count": 1,
     "metadata": {},
     "output_type": "execute_result"
    }
   ],
   "source": [
    "import sympy as sym\n",
    "sym.init_printing()\n",
    "x, y = sym.symbols('x y')\n",
    "expr = 3*x**2 + sym.log(x**2 + y**2 + 1)\n",
    "expr"
   ]
  },
  {
   "cell_type": "markdown",
   "metadata": {},
   "source": [
    "One way to evaluate above expression numerically is to invoke the ``subs`` method followed by the ``evalf`` method:"
   ]
  },
  {
   "cell_type": "code",
   "execution_count": 2,
   "metadata": {},
   "outputs": [
    {
     "data": {
      "image/png": "[encoded data removed]",
      "text/latex": [
       "$$874.627544390489$$"
      ],
      "text/plain": [
       "874.627544390489"
      ]
     },
     "execution_count": 2,
     "metadata": {},
     "output_type": "execute_result"
    }
   ],
   "source": [
    "expr.subs({x: 17, y: 42}).evalf()"
   ]
  },
  {
   "cell_type": "markdown",
   "metadata": {},
   "source": [
    "However, if we need to do this repeatedly it can be quite slow:"
   ]
  },
  {
   "cell_type": "code",
   "execution_count": 3,
   "metadata": {},
   "outputs": [
    {
     "name": "stdout",
     "output_type": "stream",
     "text": [
      "708 µs ± 59.2 µs per loop (mean ± std. dev. of 7 runs, 1000 loops each)\n"
     ]
    }
   ],
   "source": [
    "%timeit expr.subs({x: 17, y: 42}).evalf()"
   ]
  },
  {
   "cell_type": "markdown",
   "metadata": {},
   "source": [
    "even compared to a simple lambda function:"
   ]
  },
  {
   "cell_type": "code",
   "execution_count": 4,
   "metadata": {},
   "outputs": [
    {
     "data": {
      "image/png": "[encoded data removed]",
      "text/latex": [
       "$$874.6275443904885$$"
      ],
      "text/plain": [
       "874.6275443904885"
      ]
     },
     "execution_count": 4,
     "metadata": {},
     "output_type": "execute_result"
    }
   ],
   "source": [
    "import math\n",
    "f = lambda x, y: 3*x**2 + math.log(x**2 + y**2 + 1)\n",
    "f(17, 42)"
   ]
  },
  {
   "cell_type": "code",
   "execution_count": 5,
   "metadata": {},
   "outputs": [
    {
     "name": "stdout",
     "output_type": "stream",
     "text": [
      "2.89 µs ± 42.3 ns per loop (mean ± std. dev. of 7 runs, 100000 loops each)\n"
     ]
    }
   ],
   "source": [
    "%timeit f(17, 42)"
   ]
  },
  {
   "cell_type": "markdown",
   "metadata": {},
   "source": [
    "SymPy can also create a function analogous to f above. The function for doing so is called ``lambdify``:"
   ]
  },
  {
   "cell_type": "code",
   "execution_count": 6,
   "metadata": {},
   "outputs": [
    {
     "data": {
      "image/png": "[encoded data removed]",
      "text/latex": [
       "$$874.6275443904885$$"
      ],
      "text/plain": [
       "874.6275443904885"
      ]
     },
     "execution_count": 6,
     "metadata": {},
     "output_type": "execute_result"
    }
   ],
   "source": [
    "g = sym.lambdify([x, y], expr, modules=['math'])\n",
    "g(17, 42)"
   ]
  },
  {
   "cell_type": "code",
   "execution_count": 7,
   "metadata": {},
   "outputs": [
    {
     "name": "stdout",
     "output_type": "stream",
     "text": [
      "2.77 µs ± 167 ns per loop (mean ± std. dev. of 7 runs, 100000 loops each)\n"
     ]
    }
   ],
   "source": [
    "%timeit g(17, 42)"
   ]
  },
  {
   "cell_type": "markdown",
   "metadata": {},
   "source": [
    "Note how we specified ``modules`` above: it tells ``lambdify`` to use ``math.log``, if we don't specify modules SymPy will (since v1.1) use ``numpy`` by default. This can be useful when dealing with arrays in the input:"
   ]
  },
  {
   "cell_type": "code",
   "execution_count": 8,
   "metadata": {},
   "outputs": [
    {
     "data": {
      "image/png": "[encoded data removed]",
      "text/latex": [
       "$$\\left ( 5\\right )$$"
      ],
      "text/plain": [
       "(5,)"
      ]
     },
     "execution_count": 8,
     "metadata": {},
     "output_type": "execute_result"
    }
   ],
   "source": [
    "import numpy as np\n",
    "xarr = np.linspace(17, 18, 5)\n",
    "h = sym.lambdify([x, y], expr)\n",
    "out = h(xarr, 42)\n",
    "out.shape"
   ]
  },
  {
   "cell_type": "markdown",
   "metadata": {},
   "source": [
    "NumPy's broadcasting then works as expected:"
   ]
  },
  {
   "cell_type": "code",
   "execution_count": 9,
   "metadata": {},
   "outputs": [
    {
     "data": {
      "image/png": "[encoded data removed]",
      "text/latex": [
       "$$\\left ( 5, \\quad 7\\right )$$"
      ],
      "text/plain": [
       "(5, 7)"
      ]
     },
     "execution_count": 9,
     "metadata": {},
     "output_type": "execute_result"
    }
   ],
   "source": [
    "yarr = np.linspace(42, 43, 7).reshape((1, 7))\n",
    "out2 = h(xarr.reshape((5, 1)), yarr)\n",
    "out2.shape"
   ]
  },
  {
   "cell_type": "markdown",
   "metadata": {},
   "source": [
    "Behind the scenes ``lambdify`` constructs a string representation of the Python code and uses Python's ``eval`` function to compile the function (to byte-code in CPython).\n",
    "\n",
    "Let's now look at how we can get a specific function signature from ``lambdify``:"
   ]
  },
  {
   "cell_type": "code",
   "execution_count": 10,
   "metadata": {},
   "outputs": [
    {
     "data": {
      "image/png": "[encoded data removed]",
      "text/latex": [
       "$$24$$"
      ],
      "text/plain": [
       "24"
      ]
     },
     "execution_count": 10,
     "metadata": {},
     "output_type": "execute_result"
    }
   ],
   "source": [
    "z = z1, z2, z3 = sym.symbols('z:3')\n",
    "expr2 = x*y*(z1 + z2 + z3)\n",
    "func2 = sym.lambdify([x, y, z], expr2)\n",
    "func2(1, 2, (3, 4, 5))"
   ]
  },
  {
   "cell_type": "markdown",
   "metadata": {},
   "source": [
    "## Case: Radioactive decay\n",
    "The synthetic isotope Technetium-99m is used in medical diagnostics ([scintigraphy](https://en.wikipedia.org/wiki/Nuclear_medicine)):\n",
    "$$\n",
    "^{99m}Tc \\overset{\\lambda_1}{\\longrightarrow} \\,^{99}Tc \\overset{\\lambda_2}{\\longrightarrow} \\,^{99}Ru \\\\\n",
    "\\lambda_1 = 3.2\\cdot 10^{-5}\\,s^{-1} \\\\\n",
    "\\lambda_2 = 1.04 \\cdot 10^{-13}\\,s^{-1} \\\\\n",
    "$$\n",
    "SymPy can solve the differential equations describing the amounts versus time analytically.\n",
    "Let's denote the concentrations of each isotope $x(t),\\ y(t)\\ \\&\\ z(t)$ respectively."
   ]
  },
  {
   "cell_type": "code",
   "execution_count": 11,
   "metadata": {},
   "outputs": [
    {
     "data": {
      "image/png": "[encoded data removed]",
      "text/latex": [
       "$$\\left [ \\frac{d}{d t} x{\\left (t \\right )} = - \\lambda_{1} x{\\left (t \\right )}, \\quad \\frac{d}{d t} y{\\left (t \\right )} = \\lambda_{1} x{\\left (t \\right )} - \\lambda_{2} y{\\left (t \\right )}, \\quad \\frac{d}{d t} z{\\left (t \\right )} = \\lambda_{2} y{\\left (t \\right )}\\right ]$$"
      ],
      "text/plain": [
       "⎡d                    d                             d                 ⎤\n",
       "⎢──(x(t)) = -λ₁⋅x(t), ──(y(t)) = λ₁⋅x(t) - λ₂⋅y(t), ──(z(t)) = λ₂⋅y(t)⎥\n",
       "⎣dt                   dt                            dt                ⎦"
      ]
     },
     "execution_count": 11,
     "metadata": {},
     "output_type": "execute_result"
    }
   ],
   "source": [
    "symbs = t, l1, l2, x0, y0, z0 = sym.symbols('t lambda_1 lambda_2 x0 y0 z0', real=True, nonnegative=True)\n",
    "funcs = x, y, z = [sym.Function(s)(t) for s in 'xyz']\n",
    "inits = [f.subs(t, 0) for f in funcs]\n",
    "diffs = [f.diff(t) for f in funcs]\n",
    "exprs = -l1*x, l1*x - l2*y, l2*y\n",
    "eqs = [sym.Eq(diff, expr) for diff, expr in zip(diffs, exprs)]\n",
    "eqs"
   ]
  },
  {
   "cell_type": "code",
   "execution_count": 12,
   "metadata": {},
   "outputs": [
    {
     "data": {
      "image/png": "[encoded data removed]",
      "text/latex": [
       "$$\\left [ x{\\left (t \\right )} = C_{1} e^{- \\lambda_{1} t}, \\quad y{\\left (t \\right )} = \\frac{C_{1} \\lambda_{1} e^{- \\lambda_{1} t}}{- \\lambda_{1} + \\lambda_{2}} + C_{2} e^{- \\lambda_{2} t}, \\quad z{\\left (t \\right )} = - \\frac{C_{1} \\lambda_{2} e^{- \\lambda_{1} t}}{- \\lambda_{1} + \\lambda_{2}} - C_{2} e^{- \\lambda_{2} t} + C_{3}\\right ]$$"
      ],
      "text/plain": [
       "⎡                                -λ₁⋅t                              -λ₁⋅t     \n",
       "⎢           -λ₁⋅t         C₁⋅λ₁⋅ℯ            -λ₂⋅t           C₁⋅λ₂⋅ℯ          \n",
       "⎢x(t) = C₁⋅ℯ     , y(t) = ──────────── + C₂⋅ℯ     , z(t) = - ──────────── - C₂\n",
       "⎣                           -λ₁ + λ₂                           -λ₁ + λ₂       \n",
       "\n",
       "            ⎤\n",
       "  -λ₂⋅t     ⎥\n",
       "⋅ℯ      + C₃⎥\n",
       "            ⎦"
      ]
     },
     "execution_count": 12,
     "metadata": {},
     "output_type": "execute_result"
    }
   ],
   "source": [
    "solutions = sym.dsolve(eqs)\n",
    "solutions"
   ]
  },
  {
   "cell_type": "code",
   "execution_count": 13,
   "metadata": {},
   "outputs": [
    {
     "data": {
      "image/png": "[encoded data removed]",
      "text/latex": [
       "$$\\left\\{C_{1}, C_{2}, C_{3}\\right\\}$$"
      ],
      "text/plain": [
       "set([C₁, C₂, C₃])"
      ]
     },
     "execution_count": 13,
     "metadata": {},
     "output_type": "execute_result"
    }
   ],
   "source": [
    "integration_constants = set.union(*[sol.free_symbols for sol in solutions]) - set(symbs)\n",
    "integration_constants"
   ]
  },
  {
   "cell_type": "code",
   "execution_count": 14,
   "metadata": {},
   "outputs": [
    {
     "data": {
      "image/png": "[encoded data removed]",
      "text/latex": [
       "$$\\left [ x{\\left (0 \\right )} = C_{1}, \\quad y{\\left (0 \\right )} = \\frac{C_{1} \\lambda_{1}}{- \\lambda_{1} + \\lambda_{2}} + C_{2}, \\quad z{\\left (0 \\right )} = - \\frac{C_{1} \\lambda_{2}}{- \\lambda_{1} + \\lambda_{2}} - C_{2} + C_{3}\\right ]$$"
      ],
      "text/plain": [
       "⎡                   C₁⋅λ₁                   C₁⋅λ₂            ⎤\n",
       "⎢x(0) = C₁, y(0) = ──────── + C₂, z(0) = - ──────── - C₂ + C₃⎥\n",
       "⎣                  -λ₁ + λ₂                -λ₁ + λ₂          ⎦"
      ]
     },
     "execution_count": 14,
     "metadata": {},
     "output_type": "execute_result"
    }
   ],
   "source": [
    "initial_values = [sol.subs(t, 0) for sol in solutions]\n",
    "initial_values"
   ]
  },
  {
   "cell_type": "code",
   "execution_count": 15,
   "metadata": {},
   "outputs": [
    {
     "data": {
      "image/png": "[encoded data removed]",
      "text/latex": [
       "$$\\left \\{ C_{1} : x{\\left (0 \\right )}, \\quad C_{2} : \\frac{1}{\\lambda_{1} - \\lambda_{2}} \\left(\\lambda_{1} x{\\left (0 \\right )} + \\lambda_{1} y{\\left (0 \\right )} - \\lambda_{2} y{\\left (0 \\right )}\\right), \\quad C_{3} : x{\\left (0 \\right )} + y{\\left (0 \\right )} + z{\\left (0 \\right )}\\right \\}$$"
      ],
      "text/plain": [
       "⎧              λ₁⋅x(0) + λ₁⋅y(0) - λ₂⋅y(0)                        ⎫\n",
       "⎨C₁: x(0), C₂: ───────────────────────────, C₃: x(0) + y(0) + z(0)⎬\n",
       "⎩                        λ₁ - λ₂                                  ⎭"
      ]
     },
     "execution_count": 15,
     "metadata": {},
     "output_type": "execute_result"
    }
   ],
   "source": [
    "const_exprs = sym.solve(initial_values, integration_constants)\n",
    "const_exprs"
   ]
  },
  {
   "cell_type": "code",
   "execution_count": 16,
   "metadata": {},
   "outputs": [
    {
     "data": {
      "image/png": "[encoded data removed]",
      "text/latex": [
       "$$\\left [ x{\\left (t \\right )} = x{\\left (0 \\right )} e^{- \\lambda_{1} t}, \\quad y{\\left (t \\right )} = \\frac{\\lambda_{1} x{\\left (0 \\right )} e^{- \\lambda_{1} t}}{- \\lambda_{1} + \\lambda_{2}} + \\frac{e^{- \\lambda_{2} t}}{\\lambda_{1} - \\lambda_{2}} \\left(\\lambda_{1} x{\\left (0 \\right )} + \\lambda_{1} y{\\left (0 \\right )} - \\lambda_{2} y{\\left (0 \\right )}\\right), \\quad z{\\left (t \\right )} = - \\frac{\\lambda_{2} x{\\left (0 \\right )} e^{- \\lambda_{1} t}}{- \\lambda_{1} + \\lambda_{2}} + x{\\left (0 \\right )} + y{\\left (0 \\right )} + z{\\left (0 \\right )} - \\frac{e^{- \\lambda_{2} t}}{\\lambda_{1} - \\lambda_{2}} \\left(\\lambda_{1} x{\\left (0 \\right )} + \\lambda_{1} y{\\left (0 \\right )} - \\lambda_{2} y{\\left (0 \\right )}\\right)\\right ]$$"
      ],
      "text/plain": [
       "⎡                                    -λ₁⋅t                                  -λ\n",
       "⎢             -λ₁⋅t         λ₁⋅x(0)⋅ℯ        (λ₁⋅x(0) + λ₁⋅y(0) - λ₂⋅y(0))⋅ℯ  \n",
       "⎢x(t) = x(0)⋅ℯ     , y(t) = ────────────── + ─────────────────────────────────\n",
       "⎣                              -λ₁ + λ₂                    λ₁ - λ₂            \n",
       "\n",
       "₂⋅t                    -λ₁⋅t                                                  \n",
       "              λ₂⋅x(0)⋅ℯ                             (λ₁⋅x(0) + λ₁⋅y(0) - λ₂⋅y(\n",
       "───, z(t) = - ────────────── + x(0) + y(0) + z(0) - ──────────────────────────\n",
       "                 -λ₁ + λ₂                                         λ₁ - λ₂     \n",
       "\n",
       "     -λ₂⋅t⎤\n",
       "0))⋅ℯ     ⎥\n",
       "──────────⎥\n",
       "          ⎦"
      ]
     },
     "execution_count": 16,
     "metadata": {},
     "output_type": "execute_result"
    }
   ],
   "source": [
    "analytic = [sol.subs(const_exprs) for sol in solutions]\n",
    "analytic"
   ]
  },
  {
   "cell_type": "markdown",
   "metadata": {},
   "source": [
    "## Exercise: Create a function from a symbolic expression"
   ]
  },
  {
   "cell_type": "code",
   "execution_count": 17,
   "metadata": {},
   "outputs": [],
   "source": [
    "from math import log10\n",
    "year_s = 365*24*3600\n",
    "tout = np.logspace(0, log10(3e6*year_s), 500)  # 1 s to 3 million years"
   ]
  },
  {
   "cell_type": "code",
   "execution_count": 18,
   "metadata": {},
   "outputs": [],
   "source": [
    "%load_ext scipy2017codegen.exercise"
   ]
  },
  {
   "cell_type": "markdown",
   "metadata": {},
   "source": [
    "*Use either the *``%exercise``* or *``%load``* magic to get the exercise / solution respectively:*"
   ]
  },
  {
   "cell_type": "code",
   "execution_count": 19,
   "metadata": {},
   "outputs": [],
   "source": [
    "# %exercise exercise_Tc99.py\n",
    "f = sym.lambdify([t, l1, l2, *inits], [eq.rhs for eq in analytic])  # EXERCISE: [eq.rhs for eq in analytic]\n",
    "yout = f(tout, 3.2e-5, 1.04e-13, 1, 0, 0)"
   ]
  },
  {
   "cell_type": "code",
   "execution_count": 20,
   "metadata": {},
   "outputs": [
    {
     "data": {
      "image/png": "[encoded data removed]",
      "text/plain": [
       "<matplotlib.figure.Figure at 0x7f1cb9c48160>"
      ]
     },
     "metadata": {},
     "output_type": "display_data"
    }
   ],
   "source": [
    "import matplotlib.pyplot as plt\n",
    "%matplotlib inline\n",
    "fig, ax = plt.subplots(1, 1, figsize=(14, 4))\n",
    "ax.loglog(tout.reshape((tout.size, 1)), np.array(yout).T)\n",
    "ax.legend(['$^{99m}Tc$', '$^{99}Tc$', '$^{99}Ru$'])\n",
    "ax.set_xlabel('Time / s')\n",
    "ax.set_ylabel('Concentration / a.u.')\n",
    "_ = ax.set_ylim([1e-11, 2])"
   ]
  }
 ],
 "metadata": {
  "kernelspec": {
   "display_name": "Python 3",
   "language": "python",
   "name": "python3"
  },
  "language_info": {
   "codemirror_mode": {
    "name": "ipython",
    "version": 3
   },
   "file_extension": ".py",
   "mimetype": "text/x-python",
   "name": "python",
   "nbconvert_exporter": "python",
   "pygments_lexer": "ipython3",
   "version": "3.6.1"
  }
 },
 "nbformat": 4,
 "nbformat_minor": 2
}
