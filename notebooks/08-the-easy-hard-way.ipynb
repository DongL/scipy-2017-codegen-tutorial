{
 "cells": [
  {
   "cell_type": "markdown",
   "metadata": {},
   "source": [
    "# The Easy \"Hard\" Way: Cythonizing\n",
    "\n",
    "[Cython](http://cython.org/) is a **compiler** and a **programming language** used to generate C extensions for Python.\n",
    "\n",
    "The Cython language is a Python/C [creole](https://en.wikipedia.org/wiki/Creole_language) which is essentially Python with some additional keywords for specifying static data types. It looks something like this:\n",
    "\n",
    "```cython\n",
    "def cython_sum(int n):\n",
    "    cdef float s = 0.0\n",
    "    cdef int i = 0\n",
    "    for i in range(n):\n",
    "        s += i\n",
    "    return s\n",
    "```\n",
    "\n",
    "You can write in this language, then use the Cython compiler to *transpile* to efficient C code which can in turn be compiled into a Python extension module. This extension module can be imported like a normal Python module, but it is backed by compiled C, offering potentially drastic speedups over equivalent functions written in pure Python.\n",
    "\n",
    "The other major use case for Cython -- the one we will focus on here -- is writing wrappers around existing C code so that the functions therein can be made available in an extension module as described above. We will use this technique to make the SymPy-generated C code from the previous notebook accessible to Python for use in SciPy's `odeint`.\n",
    "\n",
    "## Learning Objectives\n",
    "\n",
    "After this lesson, you will be able to:\n",
    "\n",
    "- write a simple Cython function and run it using the `%%cython` magic command\n",
    "- use the SymPy code generation routines to output compilable C code and use Cython to access these functions in Python\n",
    "- generate C code to evaluate the gradient and Jacobian of an ordinary differential equation and wrap it using Cython\n",
    "- use SymPy's `autowrap` function to do all of this behind the scenes\n",
    "- use SciPy's `odeint` along with the extension module to integrate the ODEs and plot the state trajectories"
   ]
  },
  {
   "cell_type": "markdown",
   "metadata": {},
   "source": [
    "## Introduction to Cython\n",
    "\n",
    "Cython is used in two scenarios:\n",
    "\n",
    "1. write Cython computation code (i.e. Python with statically typed variables) to generate fast extension modules\n",
    "2. write Cython wrappers around existing C code\n",
    "\n",
    "### Cython -> C -> Python\n",
    "\n",
    "In the first use case, you write functions in the Cython language, compile this into CPython C code, then compile it into a Python extension module. Jupyter notebooks can make use of a `%%cython` magic command that will do all of this in the background for us. To make use of it, we need to load the `cython` extension."
   ]
  },
  {
   "cell_type": "code",
   "execution_count": null,
   "metadata": {
    "collapsed": true
   },
   "outputs": [],
   "source": [
    "%load_ext cython"
   ]
  },
  {
   "cell_type": "markdown",
   "metadata": {},
   "source": [
    "Now we can write a Cython function. Note that the `--annotate` (or `-a`) flag of the `%%cython` magic command will produce an interactive annotated printout of the Cython code, allowing us to see the C code that is generated."
   ]
  },
  {
   "cell_type": "code",
   "execution_count": null,
   "metadata": {},
   "outputs": [],
   "source": [
    "%%cython --annotate\n",
    "def cython_fib(int n):\n",
    "    cdef int i\n",
    "    cdef double a = 0.0, b = 1.0\n",
    "    for i in range(n):\n",
    "        a, b = a + b, a\n",
    "    return a"
   ]
  },
  {
   "cell_type": "code",
   "execution_count": null,
   "metadata": {},
   "outputs": [],
   "source": [
    "%timeit cython_fib(100)"
   ]
  },
  {
   "cell_type": "code",
   "execution_count": null,
   "metadata": {
    "collapsed": true
   },
   "outputs": [],
   "source": [
    "def python_fib(n):\n",
    "    a, b = 0.0, 1.0\n",
    "    for i in range(n):\n",
    "        a, b = a + b, a\n",
    "    return a"
   ]
  },
  {
   "cell_type": "code",
   "execution_count": null,
   "metadata": {},
   "outputs": [],
   "source": [
    "%timeit python_fib(100)"
   ]
  },
  {
   "cell_type": "markdown",
   "metadata": {},
   "source": [
    "To see a bit more about writing Cython and its potential performance benefits, see [this Cython examples notebook](cython-examples.ipynb)."
   ]
  },
  {
   "cell_type": "markdown",
   "metadata": {},
   "source": [
    "### Cython(C) -> Python\n",
    "\n",
    "Our second use case involves wrapping existing C code with a fairly simple Cython script that specifies the Python interface to the C functions. This script must do two things:\n",
    "\n",
    "1. specify the function signatures as found in the C header file\n",
    "2. implements the Python interface to the functions by wrapping them\n",
    "\n",
    "Imagine you have the following C code:\n",
    "\n",
    "```c\n",
    "// file: fib.c\n",
    "double fib(int n) {\n",
    "    int i;\n",
    "    double a = 0.0, b = 1.0, tmp;\n",
    "    for (i = 0; i < n; i++) {\n",
    "        tmp = a; a = a + b; b = tmp;\n",
    "    }\n",
    "    return a;\n",
    "}\n",
    "```\n",
    "\n",
    "```c\n",
    "// file: fib.h\n",
    "double fib(int n);\n",
    "```\n",
    "\n",
    "To wrap this library, we just need to create a Cython file like so:\n",
    "\n",
    "```cython\n",
    "cdef extern from \"fib.h\":\n",
    "    double fib(int n)\n",
    "    \n",
    "def fib(n):\n",
    "    return fib(n)\n",
    "```"
   ]
  },
  {
   "cell_type": "markdown",
   "metadata": {},
   "source": [
    "## Using SymPy to Generate C Code and Wrap with Cython\n",
    "\n",
    "In the previous notebook focusing on generating C code using SymPy's codegen capabilities, we saw how to form a Jacobian from a system of ODEs, then output C code that can numerically evaluate the right hand side of the ODEs themselves as well as the Jacobian, given the current state vector. Now we can use this generated code by wrapping it with Cython to produce a Python extension module."
   ]
  },
  {
   "cell_type": "code",
   "execution_count": null,
   "metadata": {
    "collapsed": true
   },
   "outputs": [],
   "source": [
    "from scipy2017codegen.chem import load_large_ode\n",
    "rhs_of_odes, states = load_large_ode()\n",
    "jac_of_odes = rhs_of_odes.jacobian(states)"
   ]
  },
  {
   "cell_type": "code",
   "execution_count": null,
   "metadata": {
    "collapsed": true
   },
   "outputs": [],
   "source": [
    "import sympy as sp\n",
    "from sympy.utilities.codegen import codegen\n",
    "\n",
    "t = sp.symbols('t')\n",
    "\n",
    "# form equations so we can put the OutputArgument in the argument_sequence\n",
    "dY = sp.MatrixSymbol('dY', len(states), 1)\n",
    "dY_eq = sp.Eq(dY, rhs_of_odes)\n",
    "\n",
    "codegen([('odes', dY_eq)], 'c', argument_sequence=[*list(states), t, dY], to_files=True)"
   ]
  },
  {
   "cell_type": "markdown",
   "metadata": {},
   "source": [
    "## Generating and Compiling a C Extension Module Automatically\n",
    "\n",
    "Here we'll use SymPy's `autowrap` function to automatically generate the C code for an expression, generate a Cython wrapper, compile the wrapper into an extension module, and make the function available as a callable."
   ]
  },
  {
   "cell_type": "code",
   "execution_count": null,
   "metadata": {
    "collapsed": true
   },
   "outputs": [],
   "source": [
    "from sympy.utilities.autowrap import autowrap\n",
    "\n",
    "t = sp.symbols('t')\n",
    "\n",
    "# need to specify input args so they are in correct order\n",
    "args = list(states)\n",
    "args.append(t)\n",
    "\n",
    "f_rhs = autowrap(rhs_of_odes, args=args, backend='cython', tempdir='./autowraptmp')\n",
    "f_jac = autowrap(jac_of_odes, args=args, backend='cython', tempdir='./autowraptmp')"
   ]
  },
  {
   "cell_type": "markdown",
   "metadata": {},
   "source": [
    "### Exercise\n",
    "\n",
    "Evaluate the RHS of the system of ODEs where all states are zero except $y_0 = 0.3$ and $y_4 = 10.0$"
   ]
  },
  {
   "cell_type": "code",
   "execution_count": null,
   "metadata": {},
   "outputs": [],
   "source": [
    "import numpy as np\n",
    "\n",
    "y = np.zeros(len(states))\n",
    "y[0], y[4] = 0.3, 10.0\n",
    "f_rhs(*y, 0)"
   ]
  },
  {
   "cell_type": "code",
   "execution_count": null,
   "metadata": {
    "collapsed": true
   },
   "outputs": [],
   "source": [
    "from scipy.integrate import odeint\n",
    "\n",
    "def rhs_eval(y, t):\n",
    "    yout = f_rhs(*y, t)\n",
    "    return yout[:, 0]\n",
    "\n",
    "def jac_eval(y, t):\n",
    "    return f_jac(*y, t)\n",
    "\n",
    "# [\"e-(aq)\", \"H2O\", \"OH-\", \"H2\", \"H\", \"OH\", \"H2O2\", \"O2\", \"O2-\", \"HO2\", \"HO2-\", \"H+\", \"O-\", \"O3-\"]\n",
    "# c0 = {'H2O': 55.4e3, 'H+': 1e-4, 'OH-': 1e-4}\n",
    "y0 = np.zeros(len(states))\n",
    "y0[1] = 55.4e3\n",
    "y0[11] = 1e-4\n",
    "y0[5] = 1e-4\n",
    "tout = np.logspace(-6, 3, 200)  # close to one hour of operation\n",
    "\n",
    "yout, info = odeint(rhs_eval, y0, tout, full_output=True, Dfun=jac_eval)"
   ]
  },
  {
   "cell_type": "code",
   "execution_count": null,
   "metadata": {},
   "outputs": [],
   "source": [
    "%timeit odeint(rhs_eval, y0, tout, full_output=True, Dfun=jac_eval)"
   ]
  },
  {
   "cell_type": "code",
   "execution_count": null,
   "metadata": {},
   "outputs": [],
   "source": [
    "%matplotlib inline\n",
    "import matplotlib.pyplot as plt\n",
    "\n",
    "fig, ax = plt.subplots(1, 1, figsize=(14, 6))\n",
    "ax = ax or plt.subplot(1, 1, 1)\n",
    "for i, state in enumerate(states):\n",
    "    ax.plot(tout, yout[:, i], label='$%s$' % state.name)\n",
    "ax.set_ylabel('$\\mathrm{concentration\\ /\\ mol \\cdot dm^{-3}}$')\n",
    "ax.set_xlabel('$\\mathrm{time\\ /\\ s}$')\n",
    "ax.legend(loc='best')\n",
    "ax.set_xscale('log')\n",
    "ax.set_yscale('log')"
   ]
  }
 ],
 "metadata": {
  "kernelspec": {
   "display_name": "Python 3",
   "language": "python",
   "name": "python3"
  },
  "language_info": {
   "codemirror_mode": {
    "name": "ipython",
    "version": 3
   },
   "file_extension": ".py",
   "mimetype": "text/x-python",
   "name": "python",
   "nbconvert_exporter": "python",
   "pygments_lexer": "ipython3",
   "version": "3.6.1"
  }
 },
 "nbformat": 4,
 "nbformat_minor": 2
}
