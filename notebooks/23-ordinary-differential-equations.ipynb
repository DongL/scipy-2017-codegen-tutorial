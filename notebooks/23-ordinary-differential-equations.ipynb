{
 "cells": [
  {
   "cell_type": "markdown",
   "metadata": {},
   "source": [
    "## Numerical integration of Ordinary Differential Equations\n",
    "This notebook serves as a quick refresher on ordinary differntial equations. If you are familiar with the topic: feel free to skip this notebook.\n",
    "\n",
    "We will use the decay of tritium as an example:\n",
    "\n",
    "$$\n",
    "\\mathrm{^3H \\overset{\\lambda}\\rightarrow\\ ^3He + e^- + \\bar{\\nu_e}}\n",
    "$$\n",
    "\n",
    "We will not concern ourselves with the products, instead we will only take interest in the number density of $^3H$ as function of time ($y(t)$). The rate of change of $y(t)$ is proportional to itself and the decay constant ($\\lambda$):\n",
    "\n",
    "$$\n",
    "\\frac{dy}{dt} = -\\lambda y\n",
    "$$\n",
    "\n",
    "you probably know the solution to this kind of differential equations (either from experience or by guessing an appropriate ansatz). SymPy can of course also solve this equation:"
   ]
  },
  {
   "cell_type": "code",
   "execution_count": null,
   "metadata": {},
   "outputs": [],
   "source": [
    "import sympy as sym\n",
    "sym.init_printing()\n",
    "t, l = sym.symbols('t lambda')\n",
    "y = sym.Function('y')(t)\n",
    "dydt = y.diff(t)\n",
    "expr = sym.Eq(dydt, -l*y)\n",
    "expr"
   ]
  },
  {
   "cell_type": "code",
   "execution_count": null,
   "metadata": {},
   "outputs": [],
   "source": [
    "sym.dsolve(expr)"
   ]
  },
  {
   "cell_type": "markdown",
   "metadata": {},
   "source": [
    "Now, pretend for a while that this function lacked an analytic solution. We could then integrate this equation numerically from an initial state for a predetermined amount of time by discretizing the time into a seriers of small steps. And for each of these steps we would update $y$ by multiplying the derivative with the step size (assuming that the derivate is approximately constant on the scale of the step-size), formally this method is known as \"forward Euler\":\n",
    "\n",
    "$$\n",
    "y_{n+1} = y_n + y'_n(t_n)\\cdot \\Delta h\n",
    "$$"
   ]
  },
  {
   "cell_type": "code",
   "execution_count": null,
   "metadata": {
    "collapsed": true
   },
   "outputs": [],
   "source": [
    "def euler_fw(rhs, y0, tout, params):\n",
    "    yout = np.zeros((len(tout), 1))\n",
    "    yout[0] = y0\n",
    "    t_old = tout[0]\n",
    "    for i, t in enumerate(tout[1:], 1):\n",
    "        dydt = rhs(yout[i-1], t, *params)\n",
    "        h = t - t_old\n",
    "        yout[i] = yout[i-1] + dydt*h\n",
    "        t_old = t\n",
    "    return yout"
   ]
  },
  {
   "cell_type": "code",
   "execution_count": null,
   "metadata": {},
   "outputs": [],
   "source": [
    "import numpy as np\n",
    "import matplotlib.pyplot as plt\n",
    "%matplotlib inline"
   ]
  },
  {
   "cell_type": "code",
   "execution_count": null,
   "metadata": {},
   "outputs": [],
   "source": [
    "tout = np.linspace(0, 1, 100)\n",
    "yout = euler_fw(lambda y, t, l: -l*y, 3, tout, (2,))\n",
    "fig, axes = plt.subplots(1, 2, figsize=(14, 4))\n",
    "axes[0].plot(tout, yout[:, 0], tout, 3*np.exp(-2*tout))\n",
    "axes[1].plot(tout, yout[:, 0]   -    3*np.exp(-2*tout))"
   ]
  },
  {
   "cell_type": "markdown",
   "metadata": {},
   "source": [
    "Well, that was easy: 100 points gave us almost plotting accuracy. Unfortunately, Euler forward is not practical for most real world problems. Usually we want a higher order formula (the error in euler forward scales only as $n^{-1}$), and we want to use an adaptive step size (larger steps when the function is smooth). Furthermore, for a large class of problems, we need to base the step not on the derivative at the current time point, but rather at the next time point (giving rise to an implicit expression). We will not go into the details of this at all. Instead we will use the well tested LSODA algorithm (provided in scipy as ``odeint``):"
   ]
  },
  {
   "cell_type": "code",
   "execution_count": null,
   "metadata": {},
   "outputs": [],
   "source": [
    "from scipy.integrate import odeint\n",
    "yout, info = odeint(lambda y, t, l: -l*y, 3, tout, (2,), full_output=True)\n",
    "fig, axes = plt.subplots(1, 2, figsize=(14, 4))\n",
    "axes[0].plot(tout, yout[:, 0], tout, 3*np.exp(-2*tout))\n",
    "axes[1].plot(tout, yout[:, 0]   -    3*np.exp(-2*tout))\n",
    "print(\"Number of function evaluations: %d\" % info['nfe'][-1])"
   ]
  },
  {
   "cell_type": "markdown",
   "metadata": {},
   "source": [
    "We can see that ``odeint`` was able to achieve a much higher precision using fewer number of function evaluations. Furthermore, the LSODA algortihm switches to an implicit stepper if the problem becomes \"stiff\".\n",
    "\n",
    "In the upcoming notebooks we will use ``odeint`` to solve systems of ODEs (and not only linear equations as in this notebook). The emphasis is not on the numerical methods, but rather on how we, from symbolic expressions, can generate fast functions for the solver.\n",
    "\n",
    "More information about the options we may pass to odeint is available using the ``help`` command: (or a ? in ipython)"
   ]
  },
  {
   "cell_type": "code",
   "execution_count": null,
   "metadata": {},
   "outputs": [],
   "source": [
    "help(odeint)"
   ]
  },
  {
   "cell_type": "code",
   "execution_count": null,
   "metadata": {
    "collapsed": true
   },
   "outputs": [],
   "source": []
  }
 ],
 "metadata": {
  "kernelspec": {
   "display_name": "Python 3",
   "language": "python",
   "name": "python3"
  },
  "language_info": {
   "codemirror_mode": {
    "name": "ipython",
    "version": 3
   },
   "file_extension": ".py",
   "mimetype": "text/x-python",
   "name": "python",
   "nbconvert_exporter": "python",
   "pygments_lexer": "ipython3",
   "version": "3.6.1"
  }
 },
 "nbformat": 4,
 "nbformat_minor": 2
}
