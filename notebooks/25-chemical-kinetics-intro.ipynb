{
 "cells": [
  {
   "cell_type": "markdown",
   "metadata": {},
   "source": [
    "## Chemical kinetics\n",
    "In chemistry one is often interested in how fast a chemical process proceeds. Chemical reactions (when views as single events on a molecular scale) are probabilitic. However, most reactive systems of interest involve very large number of molecules (a few grams of a simple substance containts on the order of $10^{23}$ molecules. The sheer number allows us to describe this inherently stochastic process deterministically. For example, the following reaction:\n",
    "\n",
    "$$\n",
    "2 NO + Br_2 \\leftrightarrow 2 NOBr\n",
    "$$\n",
    "\n",
    "which describes the equilibrium between nitrogen monoxide (NO) and bromine ($Br_2$) and nitrosyl bromide (NOBr), can be expressed as a set of two reactions (**f**orward and **b**ackward):\n",
    "\n",
    "$$\n",
    "2 NO + Br_2 \\overset{k_f}{\\rightarrow} 2 NOBr \\\\ \n",
    "2 NOBr \\overset{k_b}{\\rightarrow} 2 NO + Br_2\n",
    "$$\n",
    "\n",
    "the rate of the first process (forward) is proportional to the concentration $Br_2$ and the square of the concentration of NO (consider what happends to the collision frequency when the concentration increases). The rate of the second reaction (the backward process) is in analogy proportional to the square of the concentration of NOBr. Using the proportionality constants $k_f$ and $k_b$ we can formulate our system of nonlinear ordinary differential equations as follows:\n",
    "\n",
    "$$\n",
    "\\frac{dc_1}{dt} = 2(k_b c_3^2 - k_f c_2 c_1^2) \\\\\n",
    "\\frac{dc_2}{dt} = k_b c_3^2 - k_f c_2 c_1^2 \\\\\n",
    "\\frac{dc_3}{dt} = 2(k_f c_2 c_1^2 - k_b c_3^2)\n",
    "$$\n",
    "\n",
    "where we have denoted the concentration of $[NO],\\ [Br_2],\\ [NOBr]$ with $c_1,\\ c_2,\\ c_3$ respectively.\n",
    "\n",
    "Formulating the system of ODEs this way from the basic elementary reactions is in accordancec with the [law of mass action](https://en.wikipedia.org/wiki/Law_of_mass_action), which can be written as follows:\n",
    "\n",
    "$$\n",
    "\\frac{dc_i}{dt} = \\sum_j S_{ij} r_j \\\\\n",
    "r_j = k_j\\prod_l c_l^{R_{jl}}\n",
    "$$\n",
    "\n",
    "where S is a matrix with the overall net stoichiometric coefficients (positive for net production, negative for net consumption), and R is a matrix with the multiplicities of each reactant for each equation. For our above example:\n",
    "\n",
    "$$\n",
    "S = \\begin{bmatrix}\n",
    "-2 & 2 \\\\\n",
    "-1 & 1 \\\\\n",
    "2 & -2\n",
    "\\end{bmatrix}\n",
    "$$\n",
    "\n",
    "$$\n",
    "R = \\begin{bmatrix}\n",
    "2 & 1 & 0 \\\\\n",
    "0 & 0 & 2 \n",
    "\\end{bmatrix}\n",
    "$$"
   ]
  },
  {
   "cell_type": "markdown",
   "metadata": {},
   "source": [
    "As a first step we will integrate this system of ordinary differential equations numerically as an initial value problem using the solvers provided in ``scipy``."
   ]
  },
  {
   "cell_type": "code",
   "execution_count": null,
   "metadata": {
    "collapsed": true
   },
   "outputs": [],
   "source": [
    "import numpy as np\n",
    "from scipy.integrate import odeint"
   ]
  },
  {
   "cell_type": "markdown",
   "metadata": {},
   "source": [
    "By looking at the [documentation](https://docs.scipy.org/doc/scipy-0.19.0/reference/generated/scipy.integrate.odeint.html) of odeint we see that we need to provide a callback which computes a vector of derivatives ($\\dot{\\mathbf{y}} = [\\frac{dy_1}{dt}, \\frac{dy_2}{dt}, \\frac{dy_3}{dt}]$). The expected signature of this callback is:\n",
    "\n",
    "    f(y: array[float64], t: float64, *args: arbitrary constants) -> dydt: array[float64]\n",
    "    \n",
    "in our case we can write it as:"
   ]
  },
  {
   "cell_type": "code",
   "execution_count": null,
   "metadata": {
    "collapsed": true
   },
   "outputs": [],
   "source": [
    "def rhs(y, t, kf, kb):\n",
    "    rf = kf * y[0]**2 * y[1]\n",
    "    rb = kb * y[2]**2\n",
    "    return [2*(rb - rf), rb - rf, 2*(rf - rb)]"
   ]
  },
  {
   "cell_type": "code",
   "execution_count": null,
   "metadata": {
    "collapsed": true
   },
   "outputs": [],
   "source": [
    "%load_ext scipy2017codegen.exercise"
   ]
  },
  {
   "cell_type": "markdown",
   "metadata": {},
   "source": [
    "*Use either the *``%exercise``* or *``%load``* magic to get the exercise / solution respecitvely:*"
   ]
  },
  {
   "cell_type": "code",
   "execution_count": null,
   "metadata": {
    "collapsed": true
   },
   "outputs": [],
   "source": [
    "# %load ../scipy2017codegen/25_odeint.py\n",
    "tout = np.linspace(0, 10)\n",
    "k_vals = 0.42, 0.17  # arbitrary in this case\n",
    "y0 = [1, 1, 0]\n",
    "yout = odeint(rhs, y0, tout, k_vals)  # EXERCISE: rhs, y0, tout, k_vals\n"
   ]
  },
  {
   "cell_type": "code",
   "execution_count": null,
   "metadata": {
    "collapsed": true
   },
   "outputs": [],
   "source": [
    "import matplotlib.pyplot as plt\n",
    "%matplotlib inline"
   ]
  },
  {
   "cell_type": "code",
   "execution_count": null,
   "metadata": {
    "collapsed": true
   },
   "outputs": [],
   "source": [
    "plt.plot(tout, yout)\n",
    "_ = plt.legend(['NO', 'Br$_2$', 'NOBr'])"
   ]
  },
  {
   "cell_type": "markdown",
   "metadata": {},
   "source": [
    "Writing the ``rhs`` function by hand for larger reaction systems quickly becomes tedious. Ideally we would like to construct it programatically from some serialized data format describing the set of reactions.\n",
    "\n",
    "But at the same time, we need the ``rhs`` functions to be fast. Which means that we can't deserialize it for every function call.\n",
    "\n",
    "So in order to fulfill these two opposing goals we will consider *code generation*. That is: we will write a Python function which deserializes our set of reaction data, and returns a *callback*.\n",
    "\n",
    "In SymPy there is such a function―``lambdify``―it takes a symbolic expressions and returns a callback in analogy with rhs. In a later notebook, we will show how we can write a deserialization function using SymPy to construct symbolic expressions for a domain specific format, for now we will just use ``rhs`` which we've already written:"
   ]
  },
  {
   "cell_type": "code",
   "execution_count": null,
   "metadata": {
    "collapsed": true
   },
   "outputs": [],
   "source": [
    "import sympy as sym\n",
    "sym.init_printing()"
   ]
  },
  {
   "cell_type": "code",
   "execution_count": null,
   "metadata": {
    "collapsed": true
   },
   "outputs": [],
   "source": [
    "y, k = sym.symbols('y:3'), sym.symbols('kf kb')\n",
    "ydot = rhs(y, None, *k)\n",
    "ydot"
   ]
  },
  {
   "cell_type": "markdown",
   "metadata": {},
   "source": [
    "Now assume that we had constructed ``ydot`` above from some deserialization instead of hard-coding the rate expressions in rhs. Then we could have created a callback corresponding to ``rhs`` using ``lambdify``:"
   ]
  },
  {
   "cell_type": "markdown",
   "metadata": {},
   "source": [
    "*Use either the *``%exercise``* or *``%load``* magic to get the exercise / solution respecitvely:*"
   ]
  },
  {
   "cell_type": "code",
   "execution_count": null,
   "metadata": {
    "collapsed": true
   },
   "outputs": [],
   "source": [
    "# %load ../scipy2017codegen/25_lambdify.py\n",
    "t = sym.symbols('t')  # not used in this case.\n",
    "f = sym.lambdify((y, t) + k, ydot)  # EXERCISE: (y, t) + k\n"
   ]
  },
  {
   "cell_type": "code",
   "execution_count": null,
   "metadata": {
    "collapsed": true
   },
   "outputs": [],
   "source": [
    "plt.plot(tout, odeint(f, y0, tout, k_vals))\n",
    "_ = plt.legend(['NO', 'Br$_2$', 'NOBr'])"
   ]
  },
  {
   "cell_type": "markdown",
   "metadata": {},
   "source": [
    "In this example we did not gain much from expressing our problem symbolically and then generate our callback. However, it is quite common that the numerical solver will need a callback calculating the [Jacobian](https://en.wikipedia.org/wiki/Jacobian_matrix_and_determinant) of $\\dot{\\mathbf{y}}$ (given as Dfun). Writing that by hand is both tedious and error prone. Using sympy it is as easy as:"
   ]
  },
  {
   "cell_type": "code",
   "execution_count": null,
   "metadata": {
    "collapsed": true
   },
   "outputs": [],
   "source": [
    "sym.Matrix(ydot).jacobian(y)"
   ]
  },
  {
   "cell_type": "markdown",
   "metadata": {},
   "source": [
    "In the next notebook we will look at an example where providing this callback is beneficial for performance. And in the later notebook we will show how the performance of the callback can be optimized."
   ]
  }
 ],
 "metadata": {
  "kernelspec": {
   "display_name": "Python 3",
   "language": "python",
   "name": "python3"
  },
  "language_info": {
   "codemirror_mode": {
    "name": "ipython",
    "version": 3
   },
   "file_extension": ".py",
   "mimetype": "text/x-python",
   "name": "python",
   "nbconvert_exporter": "python",
   "pygments_lexer": "ipython3",
   "version": "3.6.1"
  }
 },
 "nbformat": 4,
 "nbformat_minor": 2
}
