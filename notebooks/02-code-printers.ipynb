{
 "cells": [
  {
   "cell_type": "markdown",
   "metadata": {
    "deletable": true,
    "editable": true
   },
   "source": [
    "# Code printers"
   ]
  },
  {
   "cell_type": "markdown",
   "metadata": {
    "deletable": true,
    "editable": true
   },
   "source": [
    "The most basic form of code generation are the code printers. The convert SymPy expressions into the target language. \n",
    "\n",
    "The most common languages are C, C++, Fortran, and Python, but over a dozen languages are supported. Here, we will quickly go over each supported language. "
   ]
  },
  {
   "cell_type": "code",
   "execution_count": 1,
   "metadata": {
    "collapsed": true,
    "deletable": true,
    "editable": true
   },
   "outputs": [],
   "source": [
    "from sympy import *\n",
    "init_printing()"
   ]
  },
  {
   "cell_type": "markdown",
   "metadata": {
    "deletable": true,
    "editable": true
   },
   "source": [
    "Let us use the function $$|\\sin(x^2)|.$$"
   ]
  },
  {
   "cell_type": "code",
   "execution_count": 2,
   "metadata": {
    "collapsed": false,
    "deletable": true,
    "editable": true
   },
   "outputs": [
    {
     "data": {
      "image/png": "[encoded data removed]",
      "text/latex": [
       "$$\\left|{\\sin{\\left (x^{2} \\right )}}\\right|$$"
      ],
      "text/plain": [
       "│   ⎛ 2⎞│\n",
       "│sin⎝x ⎠│"
      ]
     },
     "execution_count": 2,
     "metadata": {},
     "output_type": "execute_result"
    }
   ],
   "source": [
    "x = symbols('x')\n",
    "expr = abs(sin(x**2))\n",
    "expr"
   ]
  },
  {
   "cell_type": "code",
   "execution_count": 3,
   "metadata": {
    "collapsed": false,
    "deletable": true,
    "editable": true
   },
   "outputs": [
    {
     "data": {
      "text/plain": [
       "'fabs(sin(pow(x, 2)))'"
      ]
     },
     "execution_count": 3,
     "metadata": {},
     "output_type": "execute_result"
    }
   ],
   "source": [
    "ccode(expr)"
   ]
  },
  {
   "cell_type": "code",
   "execution_count": 4,
   "metadata": {
    "collapsed": false,
    "deletable": true,
    "editable": true
   },
   "outputs": [
    {
     "data": {
      "text/plain": [
       "'      abs(sin(x**2))'"
      ]
     },
     "execution_count": 4,
     "metadata": {},
     "output_type": "execute_result"
    }
   ],
   "source": [
    "fcode(expr)"
   ]
  },
  {
   "cell_type": "code",
   "execution_count": 5,
   "metadata": {
    "collapsed": false,
    "deletable": true,
    "editable": true
   },
   "outputs": [
    {
     "data": {
      "text/plain": [
       "'abs(sin(x.^2))'"
      ]
     },
     "execution_count": 5,
     "metadata": {},
     "output_type": "execute_result"
    }
   ],
   "source": [
    "julia_code(expr)"
   ]
  },
  {
   "cell_type": "code",
   "execution_count": 6,
   "metadata": {
    "collapsed": false,
    "deletable": true,
    "editable": true
   },
   "outputs": [
    {
     "data": {
      "text/plain": [
       "'Math.abs(Math.sin(Math.pow(x, 2)))'"
      ]
     },
     "execution_count": 6,
     "metadata": {},
     "output_type": "execute_result"
    }
   ],
   "source": [
    "jscode(expr)"
   ]
  },
  {
   "cell_type": "code",
   "execution_count": 7,
   "metadata": {
    "collapsed": false,
    "deletable": true,
    "editable": true
   },
   "outputs": [
    {
     "data": {
      "text/plain": [
       "'Abs[Sin[x^2]]'"
      ]
     },
     "execution_count": 7,
     "metadata": {},
     "output_type": "execute_result"
    }
   ],
   "source": [
    "mathematica_code(expr)"
   ]
  },
  {
   "cell_type": "code",
   "execution_count": 8,
   "metadata": {
    "collapsed": false,
    "deletable": true,
    "editable": true
   },
   "outputs": [
    {
     "data": {
      "text/plain": [
       "'abs(sin(x.^2))'"
      ]
     },
     "execution_count": 8,
     "metadata": {},
     "output_type": "execute_result"
    }
   ],
   "source": [
    "octave_code(expr)"
   ]
  },
  {
   "cell_type": "code",
   "execution_count": 9,
   "metadata": {
    "collapsed": false,
    "deletable": true,
    "editable": true
   },
   "outputs": [
    {
     "data": {
      "text/plain": [
       "'(x.powi(2)).sin().abs()'"
      ]
     },
     "execution_count": 9,
     "metadata": {},
     "output_type": "execute_result"
    }
   ],
   "source": [
    "from sympy.printing.rust import rust_code\n",
    "rust_code(expr)"
   ]
  },
  {
   "cell_type": "code",
   "execution_count": 10,
   "metadata": {
    "collapsed": false,
    "deletable": true,
    "editable": true
   },
   "outputs": [
    {
     "data": {
      "text/plain": [
       "'abs(sin(x^2))'"
      ]
     },
     "execution_count": 10,
     "metadata": {},
     "output_type": "execute_result"
    }
   ],
   "source": [
    "rcode(expr)"
   ]
  },
  {
   "cell_type": "code",
   "execution_count": 11,
   "metadata": {
    "collapsed": false,
    "deletable": true,
    "editable": true
   },
   "outputs": [
    {
     "data": {
      "text/plain": [
       "'fabs(sin(std::pow(x, 2)))'"
      ]
     },
     "execution_count": 11,
     "metadata": {},
     "output_type": "execute_result"
    }
   ],
   "source": [
    "from sympy.printing.cxxcode import cxxcode\n",
    "cxxcode(expr)"
   ]
  },
  {
   "cell_type": "markdown",
   "metadata": {},
   "source": [
    "## Exercise: Codegen your own function"
   ]
  },
  {
   "cell_type": "markdown",
   "metadata": {},
   "source": [
    "Come up with a symbolic expression and try generating code for it in each language. Note, some languages don't support everything. What works and what doesn't? What things are the same across languages and what things are different?\n",
    "\n",
    "**Reminder: If you click a cell and press `b` it will add a new cell below it.**"
   ]
  },
  {
   "cell_type": "code",
   "execution_count": 12,
   "metadata": {
    "collapsed": true
   },
   "outputs": [],
   "source": [
    "# Write your answer here\n"
   ]
  },
  {
   "cell_type": "code",
   "execution_count": 13,
   "metadata": {
    "collapsed": true
   },
   "outputs": [],
   "source": []
  },
  {
   "cell_type": "code",
   "execution_count": 13,
   "metadata": {
    "collapsed": true
   },
   "outputs": [],
   "source": []
  },
  {
   "cell_type": "markdown",
   "metadata": {
    "deletable": true,
    "editable": true
   },
   "source": [
    "## Exercise: Plotting SymPy Functions with JavaScript\n",
    "\n",
    "One use case that works nicely with the Jupyter notebook is plotting mathematical functions using JavaScript plotting libraries. There are a variety of plotting libraries available and the notebook makes it relatively easy to use. Here we will use [Chart.js](http://www.chartjs.org/) to plot functions of a single variable. We can use the `%%javascript` magic to type JavaScript directly into a notebook cell. In this cell we load in the Chart.js library:"
   ]
  },
  {
   "cell_type": "code",
   "execution_count": 13,
   "metadata": {
    "collapsed": false,
    "deletable": true,
    "editable": true
   },
   "outputs": [
    {
     "data": {
      "application/javascript": [
       "require.config({\n",
       "  paths: {\n",
       "      'chartjs': '//cdnjs.cloudflare.com/ajax/libs/Chart.js/2.6.0/Chart'\n",
       "  }\n",
       "});"
      ],
      "text/plain": [
       "<IPython.core.display.Javascript object>"
      ]
     },
     "metadata": {},
     "output_type": "display_data"
    }
   ],
   "source": [
    "%%javascript\n",
    "require.config({\n",
    "  paths: {\n",
    "      'chartjs': '//cdnjs.cloudflare.com/ajax/libs/Chart.js/2.6.0/Chart'\n",
    "  }\n",
    "});"
   ]
  },
  {
   "cell_type": "markdown",
   "metadata": {
    "deletable": true,
    "editable": true
   },
   "source": [
    "We've also prepared some Javascript to do the plotting. This code will take two mathematical expressions written in Javascript and plot the functions."
   ]
  },
  {
   "cell_type": "code",
   "execution_count": 14,
   "metadata": {
    "collapsed": true,
    "deletable": true,
    "editable": true
   },
   "outputs": [],
   "source": [
    "from scipy2017codegen.plotting import js_template"
   ]
  },
  {
   "cell_type": "code",
   "execution_count": 15,
   "metadata": {
    "collapsed": false,
    "deletable": true,
    "editable": true
   },
   "outputs": [
    {
     "name": "stdout",
     "output_type": "stream",
     "text": [
      "\n",
      "require(['chartjs'], function(chartjs){\n",
      "\n",
      "function f(x) {\n",
      "    return ***fill me in!***\n",
      "};\n",
      "\n",
      "function g(x) {\n",
      "    return ***fill me in!***\n",
      "};\n",
      "\n",
      "function linspace(a,b,n) {\n",
      "    // From: https://gist.github.com/joates/6584908\n",
      "    if(typeof n === \"undefined\") n = Math.max(Math.round(b-a)+1,1);\n",
      "    if(n<2) { return n===1?[a]:[]; }\n",
      "    var i,ret = Array(n);\n",
      "    n--;\n",
      "    for(i=n;i>=0;i--) { ret[i] = (i*b+(n-i)*a)/n; }\n",
      "    return ret;\n",
      "}\n",
      "\n",
      "var ctx = document.getElementById(\"***fill me in!***\");\n",
      "var data = {\n",
      "    labels: linspace(-7.5, 7.5, 500),\n",
      "    datasets: [{\n",
      "        label: \"top\",\n",
      "        function: f,\n",
      "        borderColor: \"rgba(75, 192, 192, 1)\",\n",
      "        data: [],\n",
      "        fill: false,\n",
      "        lineTension: 0,\n",
      "    },\n",
      "    {\n",
      "        label: \"bottom\",\n",
      "        function: g,\n",
      "        borderColor: \"rgba(153, 102, 255, 1)\",\n",
      "        data: [],\n",
      "        fill: false,\n",
      "        lineTension: 0,\n",
      "    }]\n",
      "};\n",
      "\n",
      "chartjs.Chart.pluginService.register({\n",
      "    beforeInit: function(chart) {\n",
      "        var data = chart.config.data;\n",
      "        for (var i = 0; i < data.datasets.length; i++) {\n",
      "            for (var j = 0; j < data.labels.length; j++) {\n",
      "                var fct = data.datasets[i].function,\n",
      "                    x = data.labels[j],\n",
      "                    y = fct(x);\n",
      "                data.datasets[i].data.push(y);\n",
      "            }\n",
      "        }\n",
      "    }\n",
      "});\n",
      "\n",
      "var myBarChart = new chartjs.Chart(ctx, {\n",
      "    type: 'line',\n",
      "    data: data,\n",
      "    options: {\n",
      "        scales: {\n",
      "            yAxes: [{\n",
      "                ticks: {\n",
      "                    beginAtZero:true\n",
      "                }\n",
      "            }]\n",
      "        }\n",
      "    }\n",
      "});\n",
      "\n",
      "});\n",
      "\n",
      "element.append(\"<canvas id='***fill me in!***' width='400'></canvas>\");\n"
     ]
    }
   ],
   "source": [
    "print(js_template.format(top_function='***fill me in!***',\n",
    "                         bottom_function='***fill me in!***',\n",
    "                         chart_id='***fill me in!***'))"
   ]
  },
  {
   "cell_type": "markdown",
   "metadata": {
    "deletable": true,
    "editable": true
   },
   "source": [
    "Now SymPy functions can be plotted by filling in the two missing expressions in the above code and then calling the `Javascript` display function on that code."
   ]
  },
  {
   "cell_type": "code",
   "execution_count": 16,
   "metadata": {
    "collapsed": true
   },
   "outputs": [],
   "source": [
    "from IPython.display import Javascript"
   ]
  },
  {
   "cell_type": "code",
   "execution_count": 17,
   "metadata": {
    "collapsed": true
   },
   "outputs": [],
   "source": [
    "x = symbols('x')\n",
    "f1 = sin(x)\n",
    "f2 = cos(x)"
   ]
  },
  {
   "cell_type": "code",
   "execution_count": 18,
   "metadata": {
    "collapsed": false,
    "deletable": true,
    "editable": true
   },
   "outputs": [
    {
     "data": {
      "application/javascript": [
       "\n",
       "require(['chartjs'], function(chartjs){\n",
       "\n",
       "function f(x) {\n",
       "    return Math.sin(x)\n",
       "};\n",
       "\n",
       "function g(x) {\n",
       "    return Math.cos(x)\n",
       "};\n",
       "\n",
       "function linspace(a,b,n) {\n",
       "    // From: https://gist.github.com/joates/6584908\n",
       "    if(typeof n === \"undefined\") n = Math.max(Math.round(b-a)+1,1);\n",
       "    if(n<2) { return n===1?[a]:[]; }\n",
       "    var i,ret = Array(n);\n",
       "    n--;\n",
       "    for(i=n;i>=0;i--) { ret[i] = (i*b+(n-i)*a)/n; }\n",
       "    return ret;\n",
       "}\n",
       "\n",
       "var ctx = document.getElementById(\"sincos\");\n",
       "var data = {\n",
       "    labels: linspace(-7.5, 7.5, 500),\n",
       "    datasets: [{\n",
       "        label: \"top\",\n",
       "        function: f,\n",
       "        borderColor: \"rgba(75, 192, 192, 1)\",\n",
       "        data: [],\n",
       "        fill: false,\n",
       "        lineTension: 0,\n",
       "    },\n",
       "    {\n",
       "        label: \"bottom\",\n",
       "        function: g,\n",
       "        borderColor: \"rgba(153, 102, 255, 1)\",\n",
       "        data: [],\n",
       "        fill: false,\n",
       "        lineTension: 0,\n",
       "    }]\n",
       "};\n",
       "\n",
       "chartjs.Chart.pluginService.register({\n",
       "    beforeInit: function(chart) {\n",
       "        var data = chart.config.data;\n",
       "        for (var i = 0; i < data.datasets.length; i++) {\n",
       "            for (var j = 0; j < data.labels.length; j++) {\n",
       "                var fct = data.datasets[i].function,\n",
       "                    x = data.labels[j],\n",
       "                    y = fct(x);\n",
       "                data.datasets[i].data.push(y);\n",
       "            }\n",
       "        }\n",
       "    }\n",
       "});\n",
       "\n",
       "var myBarChart = new chartjs.Chart(ctx, {\n",
       "    type: 'line',\n",
       "    data: data,\n",
       "    options: {\n",
       "        scales: {\n",
       "            yAxes: [{\n",
       "                ticks: {\n",
       "                    beginAtZero:true\n",
       "                }\n",
       "            }]\n",
       "        }\n",
       "    }\n",
       "});\n",
       "\n",
       "});\n",
       "\n",
       "element.append(\"<canvas id='sincos' width='400'></canvas>\");"
      ],
      "text/plain": [
       "<IPython.core.display.Javascript object>"
      ]
     },
     "execution_count": 18,
     "metadata": {},
     "output_type": "execute_result"
    }
   ],
   "source": [
    "Javascript(js_template.format(top_function=jscode(f1),\n",
    "                              bottom_function=jscode(f2),\n",
    "                              chart_id='sincos'))"
   ]
  },
  {
   "cell_type": "markdown",
   "metadata": {},
   "source": [
    "## Exercise: Batman!\n",
    "\n",
    "Plot the equations below for `top` and `bottom`."
   ]
  },
  {
   "cell_type": "markdown",
   "metadata": {},
   "source": [
    "There are all kind of functions that can be plotted, but one particularly interesting set of functions are called the [Batman Equations](http://mathworld.wolfram.com/BatmanCurve.html). We've provided the piecewise versions of these functions written in SymPy below. Try plotting these with the JS plotter we've created."
   ]
  },
  {
   "cell_type": "code",
   "execution_count": 19,
   "metadata": {
    "collapsed": true,
    "deletable": true,
    "editable": true
   },
   "outputs": [],
   "source": [
    "from scipy2017codegen.plotting import batman_equations"
   ]
  },
  {
   "cell_type": "code",
   "execution_count": 20,
   "metadata": {
    "collapsed": true,
    "deletable": true,
    "editable": true
   },
   "outputs": [],
   "source": [
    "top, bottom = batman_equations()"
   ]
  },
  {
   "cell_type": "code",
   "execution_count": 21,
   "metadata": {},
   "outputs": [
    {
     "data": {
      "text/latex": [
       "$$\\begin{cases} \\frac{3}{7} \\sqrt{- x^{2} + 49} & \\text{for}\\: x \\geq 3 \\\\- \\frac{\\left|{x}\\right|}{2} - \\frac{3 \\sqrt{10}}{7} \\left|{\\sqrt{- \\left(\\left|{x}\\right| - 1\\right)^{2} + 4}}\\right| + \\frac{3}{2} + \\frac{6 \\sqrt{10}}{7} & \\text{for}\\: x \\geq 1 \\\\- 8 \\left|{x}\\right| + 9 & \\text{for}\\: x \\geq \\frac{3}{4} \\\\3 \\left|{x}\\right| + \\frac{3}{4} & \\text{for}\\: x \\geq \\frac{7}{12} \\\\\\frac{5}{2} & \\text{for}\\: x \\geq - \\frac{7}{12} \\\\3 \\left|{x}\\right| + \\frac{3}{4} & \\text{for}\\: x \\geq - \\frac{3}{4} \\\\- 8 \\left|{x}\\right| + 9 & \\text{for}\\: x \\geq -1 \\\\- \\frac{\\left|{x}\\right|}{2} - \\frac{3 \\sqrt{10}}{7} \\left|{\\sqrt{- \\left(\\left|{x}\\right| - 1\\right)^{2} + 4}}\\right| + \\frac{3}{2} + \\frac{6 \\sqrt{10}}{7} & \\text{for}\\: x \\geq -3 \\\\\\frac{3}{7} \\sqrt{- x^{2} + 49} & \\text{otherwise} \\end{cases}$$"
      ],
      "text/plain": [
       "⎧                     ___________                                \n",
       "⎪                    ╱    2                                      \n",
       "⎪                3⋅╲╱  - x  + 49                                 \n",
       "⎪                ────────────────                     for x ≥ 3  \n",
       "⎪                       7                                        \n",
       "⎪                                                                \n",
       "⎪              │   __________________│                           \n",
       "⎪              │  ╱            2     │                           \n",
       "⎪  │x│   3⋅√10⋅│╲╱  - (│x│ - 1)  + 4 │   3   6⋅√10               \n",
       "⎪- ─── - ───────────────────────────── + ─ + ─────    for x ≥ 1  \n",
       "⎪   2                  7                 2     7                 \n",
       "⎪                                                                \n",
       "⎪                   -8⋅│x│ + 9                       for x ≥ 3/4 \n",
       "⎪                                                                \n",
       "⎪                   3⋅│x│ + 3/4                     for x ≥ 7/12 \n",
       "⎪                                                                \n",
       "⎨                       5/2                         for x ≥ -7/12\n",
       "⎪                                                                \n",
       "⎪                   3⋅│x│ + 3/4                     for x ≥ -3/4 \n",
       "⎪                                                                \n",
       "⎪                   -8⋅│x│ + 9                       for x ≥ -1  \n",
       "⎪                                                                \n",
       "⎪              │   __________________│                           \n",
       "⎪              │  ╱            2     │                           \n",
       "⎪  │x│   3⋅√10⋅│╲╱  - (│x│ - 1)  + 4 │   3   6⋅√10               \n",
       "⎪- ─── - ───────────────────────────── + ─ + ─────   for x ≥ -3  \n",
       "⎪   2                  7                 2     7                 \n",
       "⎪                                                                \n",
       "⎪                     ___________                                \n",
       "⎪                    ╱    2                                      \n",
       "⎪                3⋅╲╱  - x  + 49                                 \n",
       "⎪                ────────────────                     otherwise  \n",
       "⎩                       7                                        "
      ]
     },
     "execution_count": 21,
     "metadata": {},
     "output_type": "execute_result"
    }
   ],
   "source": [
    "top"
   ]
  },
  {
   "cell_type": "code",
   "execution_count": 22,
   "metadata": {},
   "outputs": [
    {
     "data": {
      "text/latex": [
       "$$\\begin{cases} - \\frac{3}{7} \\sqrt{- x^{2} + 49} & \\text{for}\\: x \\geq 4 \\\\- x^{2} \\left(- \\frac{1}{16} + \\frac{3 \\sqrt{33}}{112}\\right) + \\sqrt{- \\left(\\left|{\\left|{x}\\right| - 2}\\right| - 1\\right)^{2} + 1} + \\frac{\\left|{x}\\right|}{2} - 3 & \\text{for}\\: x \\geq -4 \\\\- \\frac{3}{7} \\sqrt{- x^{2} + 49} & \\text{otherwise} \\end{cases}$$"
      ],
      "text/plain": [
       "⎧                          ___________                                  \n",
       "⎪                         ╱    2                                        \n",
       "⎪                    -3⋅╲╱  - x  + 49                                   \n",
       "⎪                    ──────────────────                       for x ≥ 4 \n",
       "⎪                            7                                          \n",
       "⎪                                                                       \n",
       "⎪                         ________________________                      \n",
       "⎪   2 ⎛  1    3⋅√33⎞     ╱                  2        │x│                \n",
       "⎨- x ⋅⎜- ── + ─────⎟ + ╲╱  - (││x│ - 2│ - 1)  + 1  + ─── - 3  for x ≥ -4\n",
       "⎪     ⎝  16    112 ⎠                                  2                 \n",
       "⎪                                                                       \n",
       "⎪                          ___________                                  \n",
       "⎪                         ╱    2                                        \n",
       "⎪                    -3⋅╲╱  - x  + 49                                   \n",
       "⎪                    ──────────────────                       otherwise \n",
       "⎪                            7                                          \n",
       "⎩                                                                       "
      ]
     },
     "execution_count": 22,
     "metadata": {},
     "output_type": "execute_result"
    }
   ],
   "source": [
    "bottom"
   ]
  },
  {
   "cell_type": "code",
   "execution_count": 23,
   "metadata": {},
   "outputs": [],
   "source": [
    "# Write your answer here\n"
   ]
  }
 ],
 "metadata": {
  "anaconda-cloud": {},
  "kernelspec": {
   "display_name": "Python [default]",
   "language": "python",
   "name": "python3"
  },
  "language_info": {
   "codemirror_mode": {
    "name": "ipython",
    "version": 3
   },
   "file_extension": ".py",
   "mimetype": "text/x-python",
   "name": "python",
   "nbconvert_exporter": "python",
   "pygments_lexer": "ipython3",
   "version": "3.5.3"
  }
 },
 "nbformat": 4,
 "nbformat_minor": 2
}
