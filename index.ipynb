{
 "cells": [
  {
   "cell_type": "markdown",
   "metadata": {},
   "source": [
    "- [intro slides](intro-slides/intro-slides.html)\n",
    "- [intro-sympy.ipynb](notebooks/intro-sympy.ipynb)\n",
    "- [code-printers.ipynb](notebooks/code-printers.ipynb)\n",
    "- [25-chemical-kinetics-intro.ipynb](notebooks/25-chemical-kinetics-intro.ipynb)\n",
    "- [32-chemical-kinetics-symbolic-construction.ipynb](notebooks/32-chemical-kinetics-symbolic-construction.ipynb)\n",
    "- [40-chemical-kinetics-cython.ipynb](notebooks/40-chemical-kinetics-cython.ipynb)\n",
    "- [45-chemical-kinetics-cython-vode.ipynb](notebooks/45-chemical-kinetics-cython-vode.ipynb)\n",
    "- [50-chemical-kinetics-C.ipynb](notebooks/50-chemical-kinetics-C.ipynb)\n",
    "- [60-chemical-kinetics-reaction-diffusion.ipynb](notebooks/60-chemical-kinetics-reaction-diffusion.ipynb)"
   ]
  },
  {
   "cell_type": "code",
   "execution_count": null,
   "metadata": {},
   "outputs": [],
   "source": []
  }
 ],
 "metadata": {
  "kernelspec": {
   "display_name": "Python 3",
   "language": "python",
   "name": "python3"
  },
  "language_info": {
   "codemirror_mode": {
    "name": "ipython",
    "version": 3
   },
   "file_extension": ".py",
   "mimetype": "text/x-python",
   "name": "python",
   "nbconvert_exporter": "python",
   "pygments_lexer": "ipython3",
   "version": "3.6.1"
  }
 },
 "nbformat": 4,
 "nbformat_minor": 2
}
