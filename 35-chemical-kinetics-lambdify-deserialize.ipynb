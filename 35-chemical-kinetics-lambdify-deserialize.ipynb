{
 "cells": [
  {
   "cell_type": "markdown",
   "metadata": {
    "deletable": true,
    "editable": true
   },
   "source": [
    "For larger reaction systems it is preferable to generate the system of ordinary differential equations from some serialized format. In this notebook we will define such a serialized format, and use it load a larger set of reactions. We represent a reaction as length 3 tuple of: `(rate_const, coeff_powers, net_effect)`. Representing Robertson's system this way looks like this:"
   ]
  },
  {
   "cell_type": "code",
   "execution_count": null,
   "metadata": {
    "collapsed": true,
    "deletable": true,
    "editable": true
   },
   "outputs": [],
   "source": [
    "reactions = [\n",
    "    ('k1', {'A': 1}, {'B': 1, 'A': -1}),\n",
    "    ('k2', {'B': 1, 'C': 1}, {'A': 1, 'B': -1}),\n",
    "    ('k3', {'B': 2}, {'B': -1, 'C': 1})\n",
    "]\n",
    "names, params = 'A B C'.split(), 'k1 k2 k3'.split()\n",
    "tex_names = ['[%s]' % n for n in names]"
   ]
  },
  {
   "cell_type": "markdown",
   "metadata": {
    "deletable": true,
    "editable": true
   },
   "source": [
    "the reaction system is still defined as:\n",
    "$$\n",
    "A \\overset{k_1}{\\rightarrow} B \\\\\n",
    "B + C \\overset{k_2}{\\rightarrow} A + C \\\\\n",
    "2 B \\overset{k_3}{\\rightarrow} B + C\n",
    "$$\n",
    "\n",
    "We will now write a small convenience function which takes the above representation and creates symbolic expressions for the ODE system:"
   ]
  },
  {
   "cell_type": "code",
   "execution_count": null,
   "metadata": {
    "collapsed": false,
    "deletable": true,
    "editable": true
   },
   "outputs": [],
   "source": [
    "# %load chem.py\n",
    "from operator import mul\n",
    "from functools import reduce\n",
    "import sympy as sp\n",
    "from odesys import ODEsys\n",
    "\n",
    "def prod(seq):\n",
    "    return reduce(mul, seq) if seq else 1\n",
    "\n",
    "def mk_rsys(rxns, names):\n",
    "    concs = sp.symbols(names, real=True, nonnegative=True)\n",
    "    c_dict = dict(zip(names, concs))\n",
    "    f = {n: 0 for n in names}\n",
    "    for coeff, r_stoich, net_stoich in rxns:\n",
    "        r = sp.S(coeff)*prod([c_dict[rk]**p for rk, p in r_stoich.items()])\n",
    "        for nk, nm in net_stoich.items():\n",
    "            f[nk] += nm*r\n",
    "    return [f[n] for n in names], concs\n",
    "\n",
    "\n",
    "def odesys_from_reactions_names_and_params(ODEcls, reactions, names, params=(), **kwargs):\n",
    "    f, symbs = mk_rsys(reactions, names)\n",
    "    return ODEcls(f, symbs, params=map(sp.S, params), **kwargs)\n"
   ]
  },
  {
   "cell_type": "code",
   "execution_count": null,
   "metadata": {
    "collapsed": false,
    "deletable": true,
    "editable": true
   },
   "outputs": [],
   "source": [
    "sp.init_printing()\n",
    "f, symbs = mk_rsys(reactions, names)\n",
    "f, symbs"
   ]
  },
  {
   "cell_type": "markdown",
   "metadata": {
    "deletable": true,
    "editable": true
   },
   "source": [
    "We create a helper class to represent to ODE system."
   ]
  },
  {
   "cell_type": "code",
   "execution_count": null,
   "metadata": {
    "collapsed": false,
    "deletable": true,
    "editable": true
   },
   "outputs": [],
   "source": [
    "# %load odesys.py\n",
    "from itertools import chain  # Py 2.7 does not support func(*args1, *args2)\n",
    "import sympy as sp\n",
    "from scipy.integrate import odeint\n",
    "\n",
    "class ODEsys(object):\n",
    "    def __init__(self, f, y, t=None, params=(), tex_names=None):\n",
    "        assert len(f) == len(y), 'f is dy/dt'\n",
    "        self.f = tuple(f)\n",
    "        self.y = tuple(y)\n",
    "        self.t = t\n",
    "        self.p = tuple(params)\n",
    "        self.tex_names = tex_names\n",
    "        self.j = sp.Matrix(len(f), 1, f).jacobian(y)\n",
    "        self.setup()\n",
    "\n",
    "    def setup(self):\n",
    "        self.lambdified_f = sp.lambdify(self.y + self.p, self.f)\n",
    "        self.lambdified_j = sp.lambdify(self.y + self.p, self.j)\n",
    "\n",
    "    def f_eval(self, y, t, *params):\n",
    "        return self.lambdified_f(*chain(y, params))\n",
    "\n",
    "    def j_eval(self, y, t, *params):\n",
    "        return self.lambdified_j(*chain(y, params))\n",
    "\n",
    "    def integrate_odeint(self, tout, y0, params=(), **kwargs):\n",
    "        return odeint(self.f_eval, y0, tout, args=tuple(params), full_output=True, Dfun=self.j_eval, **kwargs)\n",
    "\n",
    "    def plot_result(self, tout, yout, info=None, ax=None):\n",
    "        if ax is None:\n",
    "            ax = plt.subplot(1, 1, 1)\n",
    "        for i, label in enumerate(self.tex_names):\n",
    "            ax.plot(tout, yout[:, i], label='$%s$' % label)\n",
    "\n",
    "        ax.set_ylabel('$\\mathrm{concentration\\ /\\ mol \\cdot dm^{-3}}$')\n",
    "        ax.set_xlabel('$\\mathrm{time\\ /\\ s}$')\n",
    "        ax.legend(loc='best')\n",
    "        if info:\n",
    "            nrhs = info.get('num_rhs')\n",
    "            if not nrhs:\n",
    "                nrhs = info['nfe'][-1]\n",
    "            njac = info.get('num_dls_jac_evals')\n",
    "            if not njac:\n",
    "                njac = info['nje'][-1]\n",
    "            print(\"The rhs was evaluated %d times and the jacobian %d times\" % (nrhs, njac))\n"
   ]
  },
  {
   "cell_type": "code",
   "execution_count": null,
   "metadata": {
    "collapsed": false,
    "deletable": true,
    "editable": true
   },
   "outputs": [],
   "source": [
    "odesys = ODEsys(f, symbs, params=params, tex_names=tex_names)"
   ]
  },
  {
   "cell_type": "code",
   "execution_count": null,
   "metadata": {
    "collapsed": false,
    "deletable": true,
    "editable": true
   },
   "outputs": [],
   "source": [
    "import numpy as np\n",
    "tout = np.logspace(-6, 6)\n",
    "yout, info = odesys.integrate_odeint(tout, [1, 0, 0], [0.04, 1e4, 3e7], atol=1e-9, rtol=1e-9)"
   ]
  },
  {
   "cell_type": "code",
   "execution_count": null,
   "metadata": {
    "collapsed": true,
    "deletable": true,
    "editable": true
   },
   "outputs": [],
   "source": [
    "import matplotlib.pyplot as plt\n",
    "%matplotlib inline"
   ]
  },
  {
   "cell_type": "code",
   "execution_count": null,
   "metadata": {
    "collapsed": false,
    "deletable": true,
    "editable": true
   },
   "outputs": [],
   "source": [
    "fig, axes = plt.subplots(1, 2, figsize=(14, 4))\n",
    "odesys.plot_result(tout, yout, info, ax=axes[0])\n",
    "odesys.plot_result(tout, yout, ax=axes[1])\n",
    "axes[1].set_xscale('log')\n",
    "axes[1].set_yscale('log')"
   ]
  },
  {
   "cell_type": "markdown",
   "metadata": {
    "deletable": true,
    "editable": true
   },
   "source": [
    "The reason for why we went thtough this trouble is to be able to create a `ODEsys` instance from conventiently serialized data. Here is a much larger set of reactions, describing water radiolysis at 298 K and a doserate of 300 Gy/s (which is a doserate not far from that of a nuclear reactor):"
   ]
  },
  {
   "cell_type": "code",
   "execution_count": null,
   "metadata": {
    "collapsed": false,
    "deletable": true,
    "editable": true
   },
   "outputs": [],
   "source": [
    "import json\n",
    "radiolysis_data = json.load(open('radiolysis_300_Gy_s.json'))\n",
    "watrad = odesys_from_reactions_names_and_params(ODEsys, **radiolysis_data)\n",
    "print(len(watrad.f), watrad.y[0], watrad.f[0])"
   ]
  },
  {
   "cell_type": "markdown",
   "metadata": {
    "deletable": true,
    "editable": true
   },
   "source": [
    "Values correspond to SI units, the concentration of water at 298 K is 55400 mol/m³. Neutral water contains [H+] = [HO-] = 10^-4 mol/m³:"
   ]
  },
  {
   "cell_type": "code",
   "execution_count": null,
   "metadata": {
    "collapsed": false,
    "deletable": true,
    "editable": true
   },
   "outputs": [],
   "source": [
    "tout = np.logspace(-6, 3, 200)  # close to one hour of operation\n",
    "c0 = {'H2O': 55.4e3, 'H+': 1e-4, 'OH-': 1e-4}\n",
    "y0 = [c0.get(symb.name, 0) for symb in watrad.y]"
   ]
  },
  {
   "cell_type": "code",
   "execution_count": null,
   "metadata": {
    "collapsed": false,
    "deletable": true,
    "editable": true
   },
   "outputs": [],
   "source": [
    "%timeit watrad.integrate_odeint(tout, y0)"
   ]
  },
  {
   "cell_type": "code",
   "execution_count": null,
   "metadata": {
    "collapsed": false,
    "deletable": true,
    "editable": true
   },
   "outputs": [],
   "source": [
    "fig, ax = plt.subplots(1, 1, figsize=(14, 6))\n",
    "watrad.plot_result(tout, *watrad.integrate_odeint(tout, y0), ax=ax)\n",
    "ax.set_xscale('log')\n",
    "ax.set_yscale('log')"
   ]
  },
  {
   "cell_type": "code",
   "execution_count": null,
   "metadata": {
    "collapsed": true,
    "deletable": true,
    "editable": true
   },
   "outputs": [],
   "source": []
  }
 ],
 "metadata": {
  "kernelspec": {
   "display_name": "Python 3",
   "language": "python",
   "name": "python3"
  },
  "language_info": {
   "codemirror_mode": {
    "name": "ipython",
    "version": 3
   },
   "file_extension": ".py",
   "mimetype": "text/x-python",
   "name": "python",
   "nbconvert_exporter": "python",
   "pygments_lexer": "ipython3",
   "version": "3.5.2"
  }
 },
 "nbformat": 4,
 "nbformat_minor": 2
}
