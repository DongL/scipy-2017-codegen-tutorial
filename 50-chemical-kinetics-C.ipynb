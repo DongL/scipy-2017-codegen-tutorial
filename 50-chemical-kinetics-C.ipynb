{
 "cells": [
  {
   "cell_type": "markdown",
   "metadata": {
    "deletable": true,
    "editable": true
   },
   "source": [
    "In this notebook we will generate C code and use CVode from the sundials suite to integrate the system of differential equations. Sundials is a well established and well tested open-source BSD-licensed library with excellent documentation. [Here is the documentation for CVode](https://computation.llnl.gov/sites/default/files/public/cv_guide.pdf).\n",
    "\n",
    "We will use a thin Cython wrapper which calls the integration routine and returns the solution as a numpy vector and a dictionary, along with information about the integration."
   ]
  },
  {
   "cell_type": "code",
   "execution_count": null,
   "metadata": {
    "collapsed": false,
    "deletable": true,
    "editable": true
   },
   "outputs": [],
   "source": [
    "import json\n",
    "import time\n",
    "import numpy as np\n",
    "from odesys import ODEsys\n",
    "from chem import odesys_from_reactions_names_and_params"
   ]
  },
  {
   "cell_type": "markdown",
   "metadata": {
    "deletable": true,
    "editable": true
   },
   "source": [
    "Again, using the `ODEsys` convenience class from notebook \"35\":"
   ]
  },
  {
   "cell_type": "code",
   "execution_count": null,
   "metadata": {
    "collapsed": false,
    "deletable": true,
    "editable": true
   },
   "outputs": [],
   "source": [
    "watrad_data = json.load(open('radiolysis_300_Gy_s.json'))\n",
    "watrad = odesys_from_reactions_names_and_params(**watrad_data)\n",
    "tout = np.logspace(-6, 3, 200)  # close to one hour of operation\n",
    "c0 = {'H2O': 55.4e3, 'H+': 1e-4, 'OH-': 1e-4}\n",
    "y0 = [c0.get(symb.name, 0) for symb in watrad.y]"
   ]
  },
  {
   "cell_type": "code",
   "execution_count": null,
   "metadata": {
    "collapsed": false,
    "deletable": true,
    "editable": true
   },
   "outputs": [],
   "source": [
    "tic = time.time()\n",
    "yout, info = watrad.integrate_odeint(tout, y0)\n",
    "toc = time.time()\n",
    "print(\"Time of integration: {0:.1f} ms\".format(1e3*(toc - tic)))"
   ]
  },
  {
   "cell_type": "markdown",
   "metadata": {
    "deletable": true,
    "editable": true
   },
   "source": [
    "that is still the benchmark to beat. Subclassing `ODEsys` to have it render, compile and import the code:"
   ]
  },
  {
   "cell_type": "code",
   "execution_count": null,
   "metadata": {
    "collapsed": true
   },
   "outputs": [],
   "source": [
    "# %load cvode.py\n",
    "import os\n",
    "import uuid\n",
    "import sympy as sp\n",
    "import setuptools\n",
    "import numpy as np\n",
    "import pyximport\n",
    "from odesys import ODEsys\n",
    "\n",
    "lapack_libs = ['openblas']\n",
    "pyximport.install()\n",
    "setup_args={\n",
    "    'include_dirs': [os.getcwd()],\n",
    "    'libraries': lapack_libs + ['sundials_cvode', 'sundials_nvecserial', 'm']\n",
    "}\n",
    "\n",
    "pyxbld_template = \"\"\"\n",
    "def make_ext(modname, pyxfilename):\n",
    "    from setuptools import Extension\n",
    "    return Extension(\n",
    "        name=modname,\n",
    "        sources=[pyxfilename],\n",
    "        include_dirs=%(include_dirs)s,\n",
    "        libraries=%(libraries)s\n",
    "    )\n",
    "\"\"\"\n",
    "\n",
    "class ODEcvode(ODEsys):\n",
    "\n",
    "    def setup(self):\n",
    "        self.uid = uuid.uuid4().hex[:10]\n",
    "        self.mod_name = 'ode_c_%s' % self.uid\n",
    "        idxs = list(range(len(self.f)))\n",
    "        subs = {s: sp.Symbol('y[%d]' % i) for i, s in enumerate(self.y)}\n",
    "        f_exprs = ['out[%d] = %s;' % (i, sp.ccode(self.f[i].xreplace(subs)))\n",
    "                   for i in idxs]\n",
    "        j_col_defs = ['realtype * const col_%d = DENSE_COL(J, %d);' % (ci, ci)\n",
    "                      for ci in idxs]\n",
    "        j_exprs = ['col_%d[%d] = %s;' % (ci, ri, self.j[ri, ci].xreplace(subs))\n",
    "                   for ci in idxs for ri in idxs if self.j[ri, ci] != 0]\n",
    "        ctx = dict(\n",
    "            func = '\\n    '.join(f_exprs + ['return 0;']),\n",
    "            dense_jac = '\\n    '.join(j_col_defs + j_exprs + ['return 0;']),\n",
    "            band_jac = 'return -1;'\n",
    "        )\n",
    "        cvode_template = open(os.path.join('sundials_templates', 'integrate_serial.c')).read()\n",
    "        cython_template = open(os.path.join('sundials_templates', '_integrate_serial.pyx')).read()\n",
    "        open('integrate_serial_%s.c' % self.uid, 'wt').write(cvode_template % ctx)\n",
    "        open('%s.pyx' % self.mod_name, 'wt').write(cython_template % {'uid': self.uid})\n",
    "        open('%s.pyxbld' % self.mod_name, 'wt').write(pyxbld_template % {k: str(v) for k, v in setup_args.items()})\n",
    "        self.mod = __import__(self.mod_name)\n",
    "        self.integrate_odeint = None\n",
    "\n",
    "    def integrate(self, tout, y0, params=(), rtol=1e-8, atol=1e-8, **kwargs):\n",
    "        return self.mod._integrate(np.asarray(tout, dtype=np.float64),\n",
    "                                   np.asarray(y0, dtype=np.float64),\n",
    "                                   np.atleast_1d(np.asarray(params, dtype=np.float64)),\n",
    "                                   abstol=np.atleast_1d(np.asarray(atol, dtype=np.float64)),\n",
    "                                   reltol=rtol,\n",
    "                                   **kwargs)\n"
   ]
  },
  {
   "cell_type": "code",
   "execution_count": null,
   "metadata": {
    "collapsed": false,
    "deletable": true,
    "editable": true
   },
   "outputs": [],
   "source": [
    "cvode_sys = odesys_from_reactions_names_and_params(ODEcls=ODEcvode, **watrad_data)"
   ]
  },
  {
   "cell_type": "code",
   "execution_count": null,
   "metadata": {
    "collapsed": false,
    "deletable": true,
    "editable": true
   },
   "outputs": [],
   "source": [
    "tic = time.time()\n",
    "yout, info = cvode_sys.integrate(tout, y0)\n",
    "toc = time.time()\n",
    "print(\"Time of integration: {0:.1f} ms\".format(1e3*(toc - tic)))"
   ]
  },
  {
   "cell_type": "markdown",
   "metadata": {
    "deletable": true,
    "editable": true
   },
   "source": [
    "That is a considerable speed up from before. But the solver still has to\n",
    "allocate memory for creating new arrays at each call, and each evaluation\n",
    "has to pass the python layer which is now the bottleneck for the integration.\n",
    "\n",
    "In order to speed up integration further we need to make sure the solver can evaluate the function and jacobian without calling into Python."
   ]
  },
  {
   "cell_type": "code",
   "execution_count": null,
   "metadata": {
    "collapsed": false,
    "deletable": true,
    "editable": true
   },
   "outputs": [],
   "source": [
    "import matplotlib.pyplot as plt\n",
    "%matplotlib inline"
   ]
  },
  {
   "cell_type": "markdown",
   "metadata": {
    "deletable": true,
    "editable": true
   },
   "source": [
    "Just to see that everything looks alright:"
   ]
  },
  {
   "cell_type": "code",
   "execution_count": null,
   "metadata": {
    "collapsed": false,
    "deletable": true,
    "editable": true
   },
   "outputs": [],
   "source": [
    "fig, ax = plt.subplots(1, 1, figsize=(14, 6))\n",
    "cvode_sys.plot_result(tout, yout, info, ax=ax)\n",
    "ax.set_xscale('log')\n",
    "ax.set_yscale('log')"
   ]
  },
  {
   "cell_type": "code",
   "execution_count": null,
   "metadata": {
    "collapsed": true
   },
   "outputs": [],
   "source": []
  }
 ],
 "metadata": {
  "kernelspec": {
   "display_name": "Python 3",
   "language": "python",
   "name": "python3"
  },
  "language_info": {
   "codemirror_mode": {
    "name": "ipython",
    "version": 3
   },
   "file_extension": ".py",
   "mimetype": "text/x-python",
   "name": "python",
   "nbconvert_exporter": "python",
   "pygments_lexer": "ipython3",
   "version": "3.5.2"
  }
 },
 "nbformat": 4,
 "nbformat_minor": 2
}
