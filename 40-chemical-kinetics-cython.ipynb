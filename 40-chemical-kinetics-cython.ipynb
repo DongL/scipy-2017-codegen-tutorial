{
 "cells": [
  {
   "cell_type": "markdown",
   "metadata": {},
   "source": [
    "In this notebook we will look how we can use Cython to generate a faster callback and hopefully shave off some running time from our integartion."
   ]
  },
  {
   "cell_type": "code",
   "execution_count": null,
   "metadata": {
    "collapsed": false
   },
   "outputs": [],
   "source": [
    "import json\n",
    "import time\n",
    "import numpy as np\n",
    "from odesys import ODEsys\n",
    "from chem import odesys_from_reactions_names_and_params"
   ]
  },
  {
   "cell_type": "markdown",
   "metadata": {},
   "source": [
    "The `ODEsys` class and convenience functions from previous notebook (35) has been put in two modules for easy importing. Recapping what we did last:"
   ]
  },
  {
   "cell_type": "code",
   "execution_count": null,
   "metadata": {
    "collapsed": false
   },
   "outputs": [],
   "source": [
    "watrad_data = json.load(open('radiolysis_300_Gy_s.json'))\n",
    "watrad = odesys_from_reactions_names_and_params(**watrad_data)\n",
    "tout = np.logspace(-6, 3, 200)  # close to one hour of operation\n",
    "c0 = {'H2O': 55.4e3, 'H+': 1e-4, 'OH-': 1e-4}\n",
    "y0 = [c0.get(symb.name, 0) for symb in watrad.y]"
   ]
  },
  {
   "cell_type": "code",
   "execution_count": null,
   "metadata": {
    "collapsed": false
   },
   "outputs": [],
   "source": [
    "tic = time.time()\n",
    "yout, info = watrad.integrate_odeint(tout, y0)\n",
    "toc = time.time()\n",
    "print(toc - tic)"
   ]
  },
  {
   "cell_type": "markdown",
   "metadata": {},
   "source": [
    "so that is the benchmark to beat, we will export our expressions as Cython code:"
   ]
  },
  {
   "cell_type": "code",
   "execution_count": null,
   "metadata": {
    "collapsed": true
   },
   "outputs": [],
   "source": [
    "cython_template = \"\"\"\n",
    "cimport numpy as cnp\n",
    "import numpy as np\n",
    "\n",
    "def f(cnp.ndarray[cnp.float64_t, ndim=1] y, double t, %(args)s):\n",
    "    cdef cnp.ndarray[cnp.float64_t, ndim=1] out = np.empty(y.size)\n",
    "    %(f_exprs)s\n",
    "    return out\n",
    "    \n",
    "def j(cnp.ndarray[cnp.float64_t, ndim=1] y, double t, %(args)s):\n",
    "    cdef cnp.ndarray[cnp.float64_t, ndim=2] out = np.empty((y.size, y.size))\n",
    "    %(j_exprs)s\n",
    "    return out\n",
    "\n",
    "\"\"\""
   ]
  },
  {
   "cell_type": "markdown",
   "metadata": {},
   "source": [
    "We then subclass `ODEsys` to have it render, compile and import the code:"
   ]
  },
  {
   "cell_type": "code",
   "execution_count": null,
   "metadata": {
    "collapsed": false
   },
   "outputs": [],
   "source": [
    "import sympy as sp\n",
    "import pyximport\n",
    "pyximport.install()\n",
    "\n",
    "class ODEaw(ODEsys):\n",
    "    _counter = [0]\n",
    "    def setup(self):\n",
    "        self._counter[0] += 1\n",
    "        mod_name = 'ode_cython_%d' % self._counter[0]\n",
    "        idxs = list(range(len(self.f)))\n",
    "        subs = {s: sp.Symbol('y[%d]' % i) for i, s in enumerate(self.y)}\n",
    "        f_exprs = ['out[%d] = %s' % (i, str(self.f[i].xreplace(subs))) for i in idxs]\n",
    "        j_exprs = ['out[%d, %d] = %s' % (ri, ci, self.j[ri, ci].xreplace(subs)) for ri in idxs for ci in idxs]\n",
    "        ctx = dict(\n",
    "            args=', '.join(map(str, self.p)),\n",
    "            f_exprs = '\\n    '.join(f_exprs),\n",
    "            j_exprs = '\\n    '.join(j_exprs),\n",
    "        )\n",
    "        open('%s.pyx' % mod_name, 'wt').write(cython_template % ctx)\n",
    "        mod = __import__(mod_name)\n",
    "        self.f_eval = mod.f\n",
    "        self.j_eval = mod.j"
   ]
  },
  {
   "cell_type": "code",
   "execution_count": null,
   "metadata": {
    "collapsed": false
   },
   "outputs": [],
   "source": [
    "cython_sys = odesys_from_reactions_names_and_params(ODEcls=ODEaw, **watrad_data)"
   ]
  },
  {
   "cell_type": "code",
   "execution_count": null,
   "metadata": {
    "collapsed": false
   },
   "outputs": [],
   "source": [
    "cython_sys._counter"
   ]
  },
  {
   "cell_type": "code",
   "execution_count": null,
   "metadata": {
    "collapsed": false
   },
   "outputs": [],
   "source": [
    "tic = time.time()\n",
    "yout, info = cython_sys.integrate_odeint(tout, y0)\n",
    "toc = time.time()\n",
    "print(toc - tic)"
   ]
  },
  {
   "cell_type": "markdown",
   "metadata": {},
   "source": [
    "That is a considerable speed up from before. But the solver still has to\n",
    "allocate memory for creating new arrays at each call, and each evaluation\n",
    "has to pass the python layer which is now the bottleneck for the integration.\n",
    "\n",
    "In order to speed up integration further we need to make sure the solver can evaluate the function and jacobian without calling into Python."
   ]
  },
  {
   "cell_type": "code",
   "execution_count": null,
   "metadata": {
    "collapsed": false
   },
   "outputs": [],
   "source": [
    "import matplotlib.pyplot as plt\n",
    "%matplotlib inline"
   ]
  },
  {
   "cell_type": "markdown",
   "metadata": {},
   "source": [
    "Just to see that everything looks alright:"
   ]
  },
  {
   "cell_type": "code",
   "execution_count": null,
   "metadata": {
    "collapsed": false
   },
   "outputs": [],
   "source": [
    "fig, ax = plt.subplots(1, 1, figsize=(14, 6))\n",
    "cython_sys.plot_result(tout, yout, info, ax=ax)\n",
    "ax.set_xscale('log')\n",
    "ax.set_yscale('log')"
   ]
  },
  {
   "cell_type": "code",
   "execution_count": null,
   "metadata": {
    "collapsed": true
   },
   "outputs": [],
   "source": []
  }
 ],
 "metadata": {
  "kernelspec": {
   "display_name": "Python 3",
   "language": "python",
   "name": "python3"
  },
  "language_info": {
   "codemirror_mode": {
    "name": "ipython",
    "version": 3
   },
   "file_extension": ".py",
   "mimetype": "text/x-python",
   "name": "python",
   "nbconvert_exporter": "python",
   "pygments_lexer": "ipython3",
   "version": "3.5.2"
  }
 },
 "nbformat": 4,
 "nbformat_minor": 2
}
